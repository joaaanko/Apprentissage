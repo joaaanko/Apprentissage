{
 "cells": [
  {
   "cell_type": "markdown",
   "metadata": {},
   "source": [
    "<center>\n",
    "<a href=\"http://www.insa-toulouse.fr/\" ><img src=\"http://www.math.univ-toulouse.fr/~besse/Wikistat/Images/logo-insa.jpg\" style=\"float:left; max-width: 120px; display: inline\" alt=\"INSA\"/></a> \n",
    "\n",
    "<a href=\"http://wikistat.fr/\" ><img src=\"http://www.math.univ-toulouse.fr/~besse/Wikistat/Images/wikistat.jpg\" style=\"float:right; max-width: 250px; display: inline\"  alt=\"Wikistat\"/></a>\n",
    "</center>"
   ]
  },
  {
   "cell_type": "markdown",
   "metadata": {},
   "source": [
    "# [Scénarios d'Apprentissage Statistique](https://github.com/wikistat/Apprentissage)"
   ]
  },
  {
   "cell_type": "markdown",
   "metadata": {},
   "source": [
    "#  Adaptation Statistique d'un Modèle de Prévision du Pic d'Ozone avec <a href=\"https://cran.r-project.org/\"><img src=\"https://cran.r-project.org/Rlogo.svg\" style=\"max-width: 40px; display: inline\" alt=\"R\"/></a>"
   ]
  },
  {
   "cell_type": "markdown",
   "metadata": {},
   "source": [
    "**Résumé**: Exploration puis modélisation de données climatiques en utilisant R. L'objectif est de prévoir pour le lendemain un possible dépassement d'un seuil de concentration en ozone à partir d'une prévision déterministe sur un maillage grossier et de variables climatiques locales. Estimation par différentes méthodes : régression [linéaire](http://wikistat.fr/pdf/st-m-app-select.pdf) ou   [logistique](http://wikistat.fr/pdf/st-m-app-rlogit.pdf), [analyse discriminante](http://wikistat.fr/pdf/st-m-app-add.pdf), [arbre de décision](http://wikistat.fr/pdf/st-m-app-cart.pdf), [réseau de neurones](http://wikistat.fr/pdf/st-m-app-rn.pdf), [agrégation de modèle](http://wikistat.fr/pdf/st-m-app-agreg.pdf), [SVM](http://wikistat.fr/pdf/st-m-app-svm.pdf). Comparaison des [erreurs de prévision](http://wikistat.fr/pdf/st-m-app-risque-estim.pdf) sur un échantillon test puis des courbes ROC. Industrialisaiton avec le package `caret` et itération sur plusieurs échantillons tests pour analyser la distribution de l'erreur de prévision."
   ]
  },
  {
   "cell_type": "markdown",
   "metadata": {},
   "source": [
    "**Avertissement** \n",
    "\n",
    "* Ce tutoriel est découpé en 5 séances / épisodes de travaux dirigés syncronisées avec le cours d'apprentissage machine. \n",
    "* Réfléchir aux réponses aux questions marquées **Q** issues du sujet d'examen.\n",
    "* Ce calepin est complété par celui en Python (à faire _après_, ou en parallèle) afin de comparer les performances respectives des deux environnements. "
   ]
  },
  {
   "cell_type": "markdown",
   "metadata": {},
   "source": [
    "## Introduction"
   ]
  },
  {
   "cell_type": "markdown",
   "metadata": {},
   "source": [
    "L'objectif, sur ces données, est d'améliorer la prévision déterministe (MOCAGE), calculée par les services de MétéoFrance,  de la concentration d'ozone dans certaines stations de prélèvement.  Il s'agit d'un problème dit d'*adaptation statistique* d'une prévision locale de modèles à trop grande échelle en s'aidant d'autres variables également gérées par MétéoFrance, mais à plus petite échelle (température, force du vent...). C'est une première façon de concevoir de l'l'*IA hybride* entre un modèle déterministe et un algorithme d'apprentissage automatique. Plus précisément, deux variables peuvent être prévues : soit la concentration quantitative d'ozone, soit le dépassement (qualitatif) d'un certain seuil fixé à 150 $\\mu g$. Dans chaque cas, deux approches sont considérées : soit prévoir la *concentration quantitative* puis en déduire l'éventuel dépassement ou bien prévoir directement le *dépassement*. Dans le premier cas, il s'agit d'abord d'une *régression* tandis que dans le deuxième il s'agit d'un problème de *discrimination* à deux classes ou de régression logistique. \n",
    "\n",
    "La question posée est donc: quelles sont les meilleures méthodes et stratégies pour prévoir la concentration d'ozone du lendemain d'une part et l'occurrence d'un pic de pollution d'autre part.\n",
    "\n",
    "On se propose de tester différentes méthodes : régression [logistique](http://wikistat.fr/pdf/st-m-app-rlogit.pdf), [analyse discriminante](http://wikistat.fr/pdf/st-m-app-add.pdf), [réseau de neurones](http://wikistat.fr/pdf/st-m-app-rn.pdf), [arbre de décision](http://wikistat.fr/pdf/st-m-app-cart.pdf), [agrégation d'arbres](http://wikistat.fr/pdf/st-m-app-agreg.pdf) (bagging, boosting, random forest), [SVM](http://wikistat.fr/pdf/st-m-app-svm.pdf).  L'objectif final, à ne pas perdre de vue, est la comparaison de ces méthodes afin de déterminer la plus efficace pour répondre au problème de prévision. Ceci passe par la mise en place d'un protocole très strict afin de s'assurer d'un minimum d'objectivité pour cette comparaison.\n",
    "\n",
    "Toutes les opérations sont réalisées dans R avec l'appui de bibliothèques complémentaires éventuellement à télécharger (`corrplot, FactoMineR, glmnet, ROCR, mlbench, MASS, boot, class, e1071, rpart, partykit, nnet, ipred, gbm, randomForest, caret, doParallel, xgboost, missForest, Rlof, dbscan, kernlab`). \n",
    "\n",
    "Python (consulter le [calepin](https://github.com/wikistat/Apprentissage/blob/master/Pic-ozone/Apprent-Python-Ozone.ipynb)) conduit à des résultats comparables mais moins complets pour leur interprétation. En particulier, l'absence du type *DataFrame* dans la librairie scikit-learn n'autorise pas une sélection fine des variables dans les modèles statistiques usuels. En revanche, l'exécution de la validation croisée Monte Carlo est plus rapide en python."
   ]
  },
  {
   "cell_type": "markdown",
   "metadata": {},
   "source": [
    "# <FONT COLOR=\"Red\">Épisode 1</font>"
   ]
  },
  {
   "cell_type": "markdown",
   "metadata": {},
   "source": [
    "## Prise en charge des données"
   ]
  },
  {
   "cell_type": "markdown",
   "metadata": {},
   "source": [
    "Les données ont été extraites et mises en forme par le service concerné de Météo France. Elles sont décrites par les variables suivantes :\n",
    "\n",
    "* **JOUR** : type de jour ; férié (1) ou pas (0) ;\n",
    "* **O3obs** : concentration d'ozone effectivement observée le lendemain à 17h locales correspondant souvent au maximum de pollution observée ;\n",
    "* **MOCAGE** : prévision de cette pollution obtenue par un modèle déterministe de mécanique des fluides (équation de Navier et Stockes);\n",
    "* **TEMPE** : température prévue par MétéoFrance pour le lendemain 17h ;\n",
    "* **RMH2O** : rapport d'humidité ;\n",
    "* **NO2** : concentration en dioxyde d'azote ;\n",
    "* **NO** : concentration en monoxyde d'azote ;\n",
    "* **STATION** : lieu de l'observation : Aix-en-Provence, Rambouillet, Munchhausen, Cadarache et Plan de Cuques ;\n",
    "* **VentMOD** : force du vent ;\n",
    "* **VentANG** : orientation du vent. \n",
    "\n",
    "Ce sont des données \"propres\", sans trous, bien codées et de petites tailles. Elles présentent donc avant tout un caractère pédagogique car permettant de décliner puis comparer toutes les approches de régression et classification supervisée.\n",
    "\n",
    "**Attention**: Même si les données sont de qualité, une étude exploratoire préalable est toujours nécessaire pour se familiariser avec les données et les préparer à la phase de modélisation."
   ]
  },
  {
   "cell_type": "code",
   "execution_count": 16,
   "metadata": {
    "ExecuteTime": {
     "end_time": "2019-11-22T09:48:06.646161Z",
     "start_time": "2019-11-22T09:48:06.591Z"
    }
   },
   "outputs": [
    {
     "data": {
      "text/plain": [
       "      JOUR            O3obs           MOCAGE          TEMPE      \n",
       " Min.   :0.0000   Min.   : 19.0   Min.   : 46.4   Min.   :10.40  \n",
       " 1st Qu.:0.0000   1st Qu.: 87.0   1st Qu.: 97.5   1st Qu.:20.20  \n",
       " Median :0.0000   Median :109.0   Median :125.6   Median :23.80  \n",
       " Mean   :0.3045   Mean   :115.4   Mean   :127.2   Mean   :23.88  \n",
       " 3rd Qu.:1.0000   3rd Qu.:135.0   3rd Qu.:153.6   3rd Qu.:27.60  \n",
       " Max.   :1.0000   Max.   :319.0   Max.   :284.7   Max.   :38.00  \n",
       "     RMH2O              NO2               NO           STATION         \n",
       " Min.   :0.00285   Min.   : 0.258   Min.   :0.0010   Length:1041       \n",
       " 1st Qu.:0.00763   1st Qu.: 1.248   1st Qu.:0.2360   Class :character  \n",
       " Median :0.00985   Median : 2.109   Median :0.3880   Mode  :character  \n",
       " Mean   :0.01025   Mean   : 3.505   Mean   :0.6574                     \n",
       " 3rd Qu.:0.01244   3rd Qu.: 4.062   3rd Qu.:0.7440                     \n",
       " Max.   :0.02753   Max.   :44.396   Max.   :9.4290                     \n",
       "    VentMOD           VentANG       \n",
       " Min.   : 0.1414   Min.   :-1.5708  \n",
       " 1st Qu.: 3.9623   1st Qu.:-0.3948  \n",
       " Median : 5.5973   Median : 0.2783  \n",
       " Mean   : 5.9072   Mean   : 0.1631  \n",
       " 3rd Qu.: 7.1063   3rd Qu.: 0.6926  \n",
       " Max.   :19.8910   Max.   : 1.5708  "
      ]
     },
     "metadata": {},
     "output_type": "display_data"
    }
   ],
   "source": [
    "# Lecture des données\n",
    "# path=\"http://www.math.univ-toulouse.fr/~besse/Wikistat/data/\"\n",
    "path <- \"\"\n",
    "ozone <- read.table(paste(path, \"depSeuil.dat\", sep = \"\"),\n",
    "                    sep = \",\", header = TRUE)\n",
    "# Vérification du contenu\n",
    "summary(ozone)"
   ]
  },
  {
   "cell_type": "code",
   "execution_count": 17,
   "metadata": {
    "ExecuteTime": {
     "end_time": "2019-11-18T09:23:37.832339Z",
     "start_time": "2019-11-18T09:21:59.889Z"
    }
   },
   "outputs": [],
   "source": [
    "# Changement du type des variables qualitatives en facteur\n",
    "ozone[, \"JOUR\"] <- as.factor(ozone[, \"JOUR\"])\n",
    "ozone[, \"STATION\"] <- as.factor(ozone[, \"STATION\"])"
   ]
  },
  {
   "cell_type": "markdown",
   "metadata": {},
   "source": [
    "## Exploration élémentaire"
   ]
  },
  {
   "cell_type": "markdown",
   "metadata": {},
   "source": [
    "Remarquer le type des variables. Il est nécessaire d'en étudier la distribution. Noter la symétrie ou non de celles-ci."
   ]
  },
  {
   "cell_type": "code",
   "execution_count": 18,
   "metadata": {
    "ExecuteTime": {
     "end_time": "2019-11-18T09:23:37.891238Z",
     "start_time": "2019-11-18T09:22:00.279Z"
    }
   },
   "outputs": [
    {
     "data": {
      "image/png": "[encoded data removed]",
      "text/plain": [
       "Plot with title \"Histogram of ozone[, \"NO2\"]\""
      ]
     },
     "metadata": {
      "image/png": {
       "height": 240,
       "width": 480
      }
     },
     "output_type": "display_data"
    }
   ],
   "source": [
    "par(mfrow = c(1, 2))\n",
    "options(repr.plot.width = 8, repr.plot.height = 4)\n",
    "hist(ozone[, \"O3obs\"])\n",
    "hist(ozone[, \"NO2\"])"
   ]
  },
  {
   "cell_type": "markdown",
   "metadata": {},
   "source": [
    "On remarque un manque de symétrie. "
   ]
  },
  {
   "cell_type": "code",
   "execution_count": 19,
   "metadata": {
    "ExecuteTime": {
     "end_time": "2019-11-18T09:23:37.909444Z",
     "start_time": "2019-11-18T09:22:00.286Z"
    }
   },
   "outputs": [
    {
     "data": {
      "image/png": "[encoded data removed]",
      "text/plain": [
       "Plot with title \"Histogram of ozone[, \"MOCAGE\"]\""
      ]
     },
     "metadata": {
      "image/png": {
       "height": 240,
       "width": 480
      }
     },
     "output_type": "display_data"
    },
    {
     "data": {
      "image/png": "[encoded data removed]",
      "text/plain": [
       "Plot with title \"Histogram of ozone[, \"TEMPE\"]\""
      ]
     },
     "metadata": {
      "image/png": {
       "height": 240,
       "width": 480
      }
     },
     "output_type": "display_data"
    },
    {
     "data": {
      "image/png": "[encoded data removed]",
      "text/plain": [
       "Plot with title \"Histogram of ozone[, \"RMH2O\"]\""
      ]
     },
     "metadata": {
      "image/png": {
       "height": 240,
       "width": 480
      }
     },
     "output_type": "display_data"
    },
    {
     "data": {
      "image/png": "[encoded data removed]",
      "text/plain": [
       "Plot with title \"Histogram of ozone[, \"NO\"]\""
      ]
     },
     "metadata": {
      "image/png": {
       "height": 240,
       "width": 480
      }
     },
     "output_type": "display_data"
    },
    {
     "data": {
      "image/png": "[encoded data removed]",
      "text/plain": [
       "Plot with title \"Histogram of ozone[, \"VentMOD\"]\""
      ]
     },
     "metadata": {
      "image/png": {
       "height": 240,
       "width": 480
      }
     },
     "output_type": "display_data"
    },
    {
     "data": {
      "image/png": "[encoded data removed]",
      "text/plain": [
       "Plot with title \"Histogram of ozone[, \"VentANG\"]\""
      ]
     },
     "metadata": {
      "image/png": {
       "height": 240,
       "width": 480
      }
     },
     "output_type": "display_data"
    }
   ],
   "source": [
    "# Même chose pour les autres variables\n",
    "hist(ozone[,\"MOCAGE\"]);hist(ozone[,\"TEMPE\"]);hist(ozone[,\"RMH2O\"])\n",
    "hist(ozone[,\"NO\"]);hist(ozone[,\"VentMOD\"]);hist(ozone[,\"VentANG\"])"
   ]
  },
  {
   "cell_type": "markdown",
   "metadata": {},
   "source": [
    "On peut remarquer une symétrie uniquement pour la température. Pour le reste des variables, il est plus difficile de conclure. "
   ]
  },
  {
   "cell_type": "markdown",
   "metadata": {},
   "source": [
    "Des transformations sont proposées pour rendre certaines distributions plus symétriques et ainsi plus \"gaussiennes\". C'est nécessaire pour certaines méthodes à venir de modélisation (linéaires), par pour toutes (arbres)."
   ]
  },
  {
   "cell_type": "code",
   "execution_count": 20,
   "metadata": {
    "ExecuteTime": {
     "end_time": "2019-11-18T09:23:37.928577Z",
     "start_time": "2019-11-18T09:22:00.483Z"
    }
   },
   "outputs": [],
   "source": [
    "ozone[, \"SRMH2O\"] <- sqrt(ozone[, \"RMH2O\"])\n",
    "ozone[, \"LNO2\"] <- log(ozone[, \"NO2\"])\n",
    "ozone[, \"LNO\"] <- log(ozone[, \"NO\"])"
   ]
  },
  {
   "cell_type": "markdown",
   "metadata": {},
   "source": [
    "Vérifier l'opportunité de ces transformations puis retirer les variables initiales et construire la variable \"dépassement de seuil\" pour obtenir le fichier qui sera effectivement utilisé.\n"
   ]
  },
  {
   "cell_type": "code",
   "execution_count": 21,
   "metadata": {
    "ExecuteTime": {
     "end_time": "2019-11-18T09:23:37.955724Z",
     "start_time": "2019-11-18T09:22:00.688Z"
    }
   },
   "outputs": [
    {
     "data": {
      "text/plain": [
       " JOUR        O3obs           MOCAGE          TEMPE       STATION  \n",
       " 0:724   Min.   : 19.0   Min.   : 46.4   Min.   :10.40   Aix:199  \n",
       " 1:317   1st Qu.: 87.0   1st Qu.: 97.5   1st Qu.:20.20   Als:222  \n",
       "         Median :109.0   Median :125.6   Median :23.80   Cad:202  \n",
       "         Mean   :115.4   Mean   :127.2   Mean   :23.88   Pla:208  \n",
       "         3rd Qu.:135.0   3rd Qu.:153.6   3rd Qu.:27.60   Ram:210  \n",
       "         Max.   :319.0   Max.   :284.7   Max.   :38.00            \n",
       "    VentMOD           VentANG            SRMH2O             LNO2        \n",
       " Min.   : 0.1414   Min.   :-1.5708   Min.   :0.05339   Min.   :-1.3548  \n",
       " 1st Qu.: 3.9623   1st Qu.:-0.3948   1st Qu.:0.08735   1st Qu.: 0.2215  \n",
       " Median : 5.5973   Median : 0.2783   Median :0.09925   Median : 0.7462  \n",
       " Mean   : 5.9072   Mean   : 0.1631   Mean   :0.09957   Mean   : 0.8440  \n",
       " 3rd Qu.: 7.1063   3rd Qu.: 0.6926   3rd Qu.:0.11153   3rd Qu.: 1.4017  \n",
       " Max.   :19.8910   Max.   : 1.5708   Max.   :0.16592   Max.   : 3.7931  \n",
       "      LNO           DepSeuil  \n",
       " Min.   :-6.9078   FALSE:863  \n",
       " 1st Qu.:-1.4439   TRUE :178  \n",
       " Median :-0.9467              \n",
       " Mean   :-0.8399              \n",
       " 3rd Qu.:-0.2957              \n",
       " Max.   : 2.2438              "
      ]
     },
     "metadata": {},
     "output_type": "display_data"
    }
   ],
   "source": [
    "ozone <- ozone[, c(1:4, 8:13)]\n",
    "ozone[, \"DepSeuil\"] <- as.factor(ozone[, \"O3obs\"] > 150)\n",
    "summary(ozone)"
   ]
  },
  {
   "cell_type": "code",
   "execution_count": 22,
   "metadata": {},
   "outputs": [],
   "source": [
    "\"DepSeuil\" <- as.factor(ozone[, \"O3obs\"] > 150)"
   ]
  },
  {
   "cell_type": "code",
   "execution_count": 23,
   "metadata": {
    "ExecuteTime": {
     "end_time": "2019-11-18T09:23:39.491279Z",
     "start_time": "2019-11-18T09:22:00.697Z"
    }
   },
   "outputs": [
    {
     "data": {
      "image/png": "[encoded data removed]",
      "text/plain": [
       "plot without title"
      ]
     },
     "metadata": {
      "image/png": {
       "height": 480,
       "width": 480
      }
     },
     "output_type": "display_data"
    }
   ],
   "source": [
    "options(repr.plot.width = 8, repr.plot.height = 8)\n",
    "pairs(ozone[, c(2:4, 6:10)])"
   ]
  },
  {
   "cell_type": "markdown",
   "metadata": {},
   "source": [
    "**Q** Que dire sur les relations des varibles 2 à 2 ?\n",
    "On peut remarquer une corrélation linéaire entre les variables `LNO2` et `LNO`. Ceci est cohérent, car les deux représentent en partie la concentration en ozote.\n",
    "De plus, on peut remarquer qu'il y a une corrélation entre le O3 observé et `MOCAGE`, les prévisions. \n",
    "\n",
    "**Q** Compléter en visualisant les corrélations avec la fonction 'corrplot' (package `corrplot`). Quelle est la limite de ce type de diagnostic numérique : quel type de corrélation est mesuré ? "
   ]
  },
  {
   "cell_type": "code",
   "execution_count": 24,
   "metadata": {},
   "outputs": [
    {
     "data": {
      "image/png": "[encoded data removed]",
      "text/plain": [
       "Plot with title \"\""
      ]
     },
     "metadata": {
      "image/png": {
       "height": 480,
       "width": 480
      }
     },
     "output_type": "display_data"
    }
   ],
   "source": [
    "library(corrplot)\n",
    "M=cor(ozone[, c(2:4, 6:10)])\n",
    "corrplot(M,method='ellipse')"
   ]
  },
  {
   "cell_type": "markdown",
   "metadata": {},
   "source": [
    "Les limites de ce modèle est que la table de corrélation ne mesure que les corrélations de type linéaires. "
   ]
  },
  {
   "cell_type": "markdown",
   "metadata": {},
   "source": [
    "   "
   ]
  },
  {
   "cell_type": "markdown",
   "metadata": {},
   "source": [
    "Les commandes suivantes permettent de réaliser une [analyse en composantes principales](http://wikistat.fr/pdf/st-m-explo-acp.pdf) sur les seules variables quantitatives. Par ailleurs la variable à modéliser  (O3obs, concentration observée) n'est pas utilisée."
   ]
  },
  {
   "cell_type": "code",
   "execution_count": 25,
   "metadata": {
    "ExecuteTime": {
     "end_time": "2019-11-18T09:23:39.559229Z",
     "start_time": "2019-11-18T09:22:00.921Z"
    }
   },
   "outputs": [
    {
     "data": {
      "image/png": "[encoded data removed]",
      "text/plain": [
       "Plot with title \"Coordinates of individuals\""
      ]
     },
     "metadata": {
      "image/png": {
       "height": 240,
       "width": 480
      }
     },
     "output_type": "display_data"
    }
   ],
   "source": [
    "# ACP réduite\n",
    "# Décroissance des valeurs propres\n",
    "library(FactoMineR)\n",
    "acp <- PCA(ozone[, c(11,2:4, 6:10)], scale.unit = TRUE,\n",
    "           graph = FALSE, quali.sup = 1, quanti.sup = 2, ncp = 7)\n",
    "options(repr.plot.width = 8, repr.plot.height = 4)\n",
    "par(mfrow = c(1, 2))\n",
    "barplot(acp$eig[, 2], ylab = \"Percentage\", main = \"Proportion of inertia\")\n",
    "boxplot(acp$ind$coord, main = \"Coordinates of individuals\")"
   ]
  },
  {
   "cell_type": "code",
   "execution_count": 26,
   "metadata": {
    "ExecuteTime": {
     "end_time": "2019-11-18T09:23:39.767167Z",
     "start_time": "2019-11-18T09:22:00.926Z"
    }
   },
   "outputs": [
    {
     "data": {
      "image/png": "[encoded data removed]",
      "text/plain": [
       "plot without title"
      ]
     },
     "metadata": {
      "image/png": {
       "height": 240,
       "width": 480
      }
     },
     "output_type": "display_data"
    },
    {
     "data": {
      "image/png": "[encoded data removed]",
      "text/plain": [
       "plot without title"
      ]
     },
     "metadata": {
      "image/png": {
       "height": 240,
       "width": 480
      }
     },
     "output_type": "display_data"
    }
   ],
   "source": [
    "plot(acp, choix = \"varcor\")\n",
    "plot(acp, choix = \"ind\", select = \"contrib 5\", unselect = 0)"
   ]
  },
  {
   "cell_type": "markdown",
   "metadata": {},
   "source": [
    "**Q** Que sont ces graphiques?\n",
    "\n",
    "Ces graphiques représentent les comportements des variables et des individus dans notre jeu de données. Pour le premier graphe, on peut déterminer quelles variables suivent le même comportement. Quant au second, on peut déterminer la disrtibution des individus selon les exes principaux.\n",
    "\n",
    "**Q** Que dire du choix de la dimension, des valeurs atypiques?\n",
    "\n",
    "On essaye de réduire au maximim le nombre de variables en meximisant la part d'inertie dans le jeu de données."
   ]
  },
  {
   "cell_type": "markdown",
   "metadata": {},
   "source": [
    "**Q** Que dire de la structure de corrélation des variables ? Est-elle intuitive ?\n",
    "\n",
    "Même graphe en coloriant les dépassement de seuil."
   ]
  },
  {
   "cell_type": "code",
   "execution_count": 27,
   "metadata": {
    "ExecuteTime": {
     "end_time": "2019-11-18T09:23:39.847382Z",
     "start_time": "2019-11-18T09:22:01.315Z"
    }
   },
   "outputs": [
    {
     "data": {
      "image/png": "[encoded data removed]",
      "text/plain": [
       "plot without title"
      ]
     },
     "metadata": {
      "image/png": {
       "height": 240,
       "width": 480
      }
     },
     "output_type": "display_data"
    }
   ],
   "source": [
    "plot(acp, choix = \"ind\", habillage = 1,\n",
    "     select = \"contrib 5\", unselect = 0)"
   ]
  },
  {
   "cell_type": "markdown",
   "metadata": {},
   "source": [
    "L'objectif est donc de définir une surface séparant les deux classes. \n",
    "\n",
    "**Q** Une discrimination linéaire (hyperplan) semble-t-elle possible? \n",
    "\n",
    "Ce n'est pas utile ici mais une classification non supervisée est facile à obtenir. Par exemple en 2 classes, par l'algorithme k-means. Donne t-elle la même information ?"
   ]
  },
  {
   "cell_type": "code",
   "execution_count": 28,
   "metadata": {
    "ExecuteTime": {
     "end_time": "2019-11-18T09:23:39.912435Z",
     "start_time": "2019-11-18T09:22:01.509Z"
    }
   },
   "outputs": [
    {
     "data": {
      "image/png": "[encoded data removed]",
      "text/plain": [
       "plot without title"
      ]
     },
     "metadata": {
      "image/png": {
       "height": 240,
       "width": 480
      }
     },
     "output_type": "display_data"
    }
   ],
   "source": [
    "km.ozone <- kmeans(ozone[, c(3:4, 6:10)], centers = 2)\n",
    "# Représentation dans les coordonnées de l'acp\n",
    "acp2 <- PCA(cbind(coul = as.factor(km.ozone$cluster),\n",
    "          ozone[, c(11, 3:4, 6:10)]), scale.unit = TRUE,\n",
    "          graph = FALSE, quali.sup = 1:2, ncp = 7)\n",
    "plot(acp2, choix = \"ind\", habillage = \"coul\",\n",
    "     select = \"contrib 3\", unselect = 0)"
   ]
  },
  {
   "cell_type": "markdown",
   "metadata": {},
   "source": [
    "## Protocole de comparaison"
   ]
  },
  {
   "cell_type": "markdown",
   "metadata": {},
   "source": [
    "### Stratégie"
   ]
  },
  {
   "cell_type": "markdown",
   "metadata": {},
   "source": [
    "La recherche  d'une meilleure méthode de prévision suit le protocole suivant.\n",
    "\n",
    "1. Étape descriptive préliminaire uni et multidimensionnelle visant à repérer les incohérences, les variables non significatives ou de distribution exotique, les individus non concernés ou atypiques... et à étudier les structures des données. Ce peut être aussi la longue étape de construction de variables, attributs ou *features* spécifiques des données. \n",
    "2. Procéder à un tirage aléatoire d'un échantillon *test* qui ne sera utilisé que lors de la *dernière étape* de comparaison des méthodes.\n",
    "3. La partie restante est l'échantillon d'*apprentissage* pour l'estimation des paramètres des modèles.\n",
    "4. Pour chacune des méthodes, optimiser la complexité des modèles en minimisant une estimation \"sans biais\" de l'erreur de prévision, par exemple par [*validation croisée*](http://wikistat.fr/pdf/st-m-app-risque-estim.pdf):\n",
    "    - Variables et interactions à prendre en compte dans la régression linéaire ou logistique;\n",
    "    - variables et méthode pour l'analyse discriminante;\n",
    "    - nombre de feuilles dans l'arbre de régression ou de classification;\n",
    "    - architecture (nombre de neurones, pénalisation) du perceptron;\n",
    "    - algorithme d'agrégation, \n",
    "    - noyau et pénalisation des SVMs.\n",
    "5.  Comparaison des qualités de prévision sur la base du taux de mal classés pour le seul échantillon test qui est resté à l'écart de tout effort ou \"acharnement\" pour l'optimisation des modèles.\n",
    "\n",
    "**Remarques**\n",
    "* En cas d'échantillon relativement \"petit\" il est recommandé d'itérer la procédure de découpage apprentissage / test, afin de réduire la variance (moyenne) des estimations des erreurs de prévision.\n",
    "\n",
    "**Q** Commenta appelle-t-on cette procédure spécifique de validation croisée?\n",
    "\n",
    "* *Attention*: ne pas \"tricher\" en modifiant le modèle obtenu lors de l'étape précédente afin d'améliorer le résultat sur l'échantillon test!\n",
    "* Le critère utilisé dépend du problème : erreur quadratique, taux de mauvais classement, entropie, AUC (aire sous la courbe ROC), indice de Pierce, *log loss function*..."
   ]
  },
  {
   "cell_type": "markdown",
   "metadata": {},
   "source": [
    "### Extraction des échantillons"
   ]
  },
  {
   "cell_type": "markdown",
   "metadata": {},
   "source": [
    "Les commandes ci-dessous réalisent l'extraction du sous-ensemble des données d'apprentissage et de test. \n",
    "\n",
    "Utiliser trois chiffres au hasard, et **remplacer** \"111\" ci-dessous, comme initialisation du générateur de nombres aléatoires. Attention, chaque participant tire un échantillon différent ; il est donc \"normal\" de ne pas obtenir les mêmes modèles, les mêmes résultats."
   ]
  },
  {
   "cell_type": "code",
   "execution_count": 29,
   "metadata": {
    "ExecuteTime": {
     "end_time": "2019-11-18T09:23:39.945357Z",
     "start_time": "2019-11-18T09:22:02.486Z"
    }
   },
   "outputs": [],
   "source": [
    "set.seed(111) # initialisation du générateur\n",
    "# Extraction des échantillons\n",
    "test.ratio <- .2   # part de l'échantillon test\n",
    "npop <- nrow(ozone) # nombre de lignes dans les données\n",
    "nvar <- ncol(ozone) # nombre de colonnes\n",
    "# taille de l'échantillon test\n",
    "ntest <- ceiling(npop * test.ratio) \n",
    "# indices de l'échantillon test\n",
    "testi <- sample(1:npop, ntest)\n",
    "# indices de l'échantillon d'apprentissage\n",
    "appri <- setdiff(1:npop, testi) "
   ]
  },
  {
   "cell_type": "markdown",
   "metadata": {},
   "source": [
    "Construction des échantillons pour la régression: prévision de la concentration en ozone."
   ]
  },
  {
   "cell_type": "code",
   "execution_count": 30,
   "metadata": {
    "ExecuteTime": {
     "end_time": "2019-11-18T09:23:39.976151Z",
     "start_time": "2019-11-18T09:22:02.695Z"
    }
   },
   "outputs": [
    {
     "name": "stdout",
     "output_type": "stream",
     "text": [
      "'data.frame':\t832 obs. of  10 variables:\n",
      " $ JOUR   : Factor w/ 2 levels \"0\",\"1\": 2 2 1 1 1 1 1 2 2 1 ...\n",
      " $ O3obs  : int  91 100 82 94 107 150 164 135 121 129 ...\n",
      " $ MOCAGE : num  93.2 104.6 103.6 94.8 99 ...\n",
      " $ TEMPE  : num  21.5 20.2 17.4 18.8 23.7 23.6 26.6 23.5 23.3 23.7 ...\n",
      " $ STATION: Factor w/ 5 levels \"Aix\",\"Als\",\"Cad\",..: 1 1 1 1 1 1 1 1 1 1 ...\n",
      " $ VentMOD: num  9.5 8.01 9.38 9.46 7.88 ...\n",
      " $ VentANG: num  -0.643 -0.05 -0.128 -0.345 -0.418 ...\n",
      " $ SRMH2O : num  0.092 0.0939 0.0975 0.0925 0.0855 ...\n",
      " $ LNO2   : num  0.471 0.752 0.505 0.854 0.503 ...\n",
      " $ LNO    : num  -0.858 -0.633 -0.761 -0.355 -0.794 ...\n",
      "'data.frame':\t209 obs. of  10 variables:\n",
      " $ JOUR   : Factor w/ 2 levels \"0\",\"1\": 1 1 1 2 1 1 1 2 2 2 ...\n",
      " $ O3obs  : int  135 143 71 77 79 155 101 75 114 156 ...\n",
      " $ MOCAGE : num  127.8 189.7 103.9 73 87.8 ...\n",
      " $ TEMPE  : num  18.8 21 25.9 23.5 12.3 32.2 19.4 27.6 24.9 27 ...\n",
      " $ STATION: Factor w/ 5 levels \"Aix\",\"Als\",\"Cad\",..: 3 4 1 5 5 1 2 3 4 2 ...\n",
      " $ VentMOD: num  2.1 3.14 10.68 4.3 4.6 ...\n",
      " $ VentANG: num  -0.0476 0.6499 -0.7523 0.0232 -0.77 ...\n",
      " $ SRMH2O : num  0.0865 0.1155 0.068 0.0782 0.0906 ...\n",
      " $ LNO2   : num  0.331 -0.456 1.043 0.178 1.028 ...\n",
      " $ LNO    : num  -1.411 -2.551 -0.428 -1.238 -0.272 ...\n"
     ]
    }
   ],
   "source": [
    "# construction de l'échantillon d'apprentissage\n",
    "datappr <- ozone[appri, -11] \n",
    "# construction de l'échantillon test\n",
    "datestr <- ozone[testi, -11] \n",
    "# vérification\n",
    "str(datappr)\n",
    "str(datestr)\n",
    "#summary(datappr) "
   ]
  },
  {
   "cell_type": "markdown",
   "metadata": {},
   "source": [
    "Construction des échantillons pour la discrimination: prévision de dépassement."
   ]
  },
  {
   "cell_type": "code",
   "execution_count": 31,
   "metadata": {
    "ExecuteTime": {
     "end_time": "2019-11-18T09:23:40.000864Z",
     "start_time": "2019-11-18T09:22:02.905Z"
    }
   },
   "outputs": [
    {
     "name": "stdout",
     "output_type": "stream",
     "text": [
      "'data.frame':\t832 obs. of  10 variables:\n",
      " $ JOUR    : Factor w/ 2 levels \"0\",\"1\": 2 2 1 1 1 1 1 2 2 1 ...\n",
      " $ MOCAGE  : num  93.2 104.6 103.6 94.8 99 ...\n",
      " $ TEMPE   : num  21.5 20.2 17.4 18.8 23.7 23.6 26.6 23.5 23.3 23.7 ...\n",
      " $ STATION : Factor w/ 5 levels \"Aix\",\"Als\",\"Cad\",..: 1 1 1 1 1 1 1 1 1 1 ...\n",
      " $ VentMOD : num  9.5 8.01 9.38 9.46 7.88 ...\n",
      " $ VentANG : num  -0.643 -0.05 -0.128 -0.345 -0.418 ...\n",
      " $ SRMH2O  : num  0.092 0.0939 0.0975 0.0925 0.0855 ...\n",
      " $ LNO2    : num  0.471 0.752 0.505 0.854 0.503 ...\n",
      " $ LNO     : num  -0.858 -0.633 -0.761 -0.355 -0.794 ...\n",
      " $ DepSeuil: Factor w/ 2 levels \"FALSE\",\"TRUE\": 1 1 1 1 1 1 2 1 1 1 ...\n",
      "'data.frame':\t209 obs. of  10 variables:\n",
      " $ JOUR    : Factor w/ 2 levels \"0\",\"1\": 1 1 1 2 1 1 1 2 2 2 ...\n",
      " $ MOCAGE  : num  127.8 189.7 103.9 73 87.8 ...\n",
      " $ TEMPE   : num  18.8 21 25.9 23.5 12.3 32.2 19.4 27.6 24.9 27 ...\n",
      " $ STATION : Factor w/ 5 levels \"Aix\",\"Als\",\"Cad\",..: 3 4 1 5 5 1 2 3 4 2 ...\n",
      " $ VentMOD : num  2.1 3.14 10.68 4.3 4.6 ...\n",
      " $ VentANG : num  -0.0476 0.6499 -0.7523 0.0232 -0.77 ...\n",
      " $ SRMH2O  : num  0.0865 0.1155 0.068 0.0782 0.0906 ...\n",
      " $ LNO2    : num  0.331 -0.456 1.043 0.178 1.028 ...\n",
      " $ LNO     : num  -1.411 -2.551 -0.428 -1.238 -0.272 ...\n",
      " $ DepSeuil: Factor w/ 2 levels \"FALSE\",\"TRUE\": 1 1 1 1 1 2 1 1 1 2 ...\n"
     ]
    }
   ],
   "source": [
    "# construction de l'échantillon d'apprentissage\n",
    "datappq <- ozone[appri,-2]\n",
    "# construction de l'échantillon test \n",
    "datestq <- ozone[testi,-2] \n",
    "\n",
    "# vérification\n",
    "str(datappq)\n",
    "str(datestq)\n",
    "#summary(datappq)"
   ]
  },
  {
   "cell_type": "markdown",
   "metadata": {},
   "source": [
    "Enfin, avant de passer aux différents algorithmes, définissons une fonction traçant le graphe des résidus avec des couleurs et des échelles fixes sur les axes. "
   ]
  },
  {
   "cell_type": "code",
   "execution_count": 32,
   "metadata": {},
   "outputs": [],
   "source": [
    "options(repr.plot.width = 8, repr.plot.height = 4)\n",
    "# Définition d'une fonction pour un graphe coloré et des échelles fixes sur les\n",
    "# axes\n",
    "plot.res <- function(x, y, titre = \"titre\") {\n",
    "    plot(x, y, col = \"blue\", xlim = c(0, 250), ylim = c(-100, 100), ylab = \"Résidus\", \n",
    "        xlab = \"Valeurs prédites\", main = titre, pch = 20)\n",
    "    # points(x2, y, col='red')\n",
    "    abline(h = 0, col = \"green\")\n",
    "}"
   ]
  },
  {
   "cell_type": "markdown",
   "metadata": {},
   "source": [
    "## [Prévision par modèle gaussien](http://wikistat.fr/pdf/st-m-app-select.pdf)"
   ]
  },
  {
   "cell_type": "markdown",
   "metadata": {},
   "source": [
    "Le premier modèle à tester est un simple modèle de régression linéaire mais, comme certaines variables sont qualitatives, il s'agit d'une analyse de covariance. D'autre part, on s'intéresse à savoir si des interactions sont à prendre en compte. Le modèle devient alors polynomial d'ordre 2 ou quadratique."
   ]
  },
  {
   "cell_type": "markdown",
   "metadata": {},
   "source": [
    "### Modèle linéaire"
   ]
  },
  {
   "cell_type": "markdown",
   "metadata": {},
   "source": [
    "#### Sans sélection de variables"
   ]
  },
  {
   "cell_type": "markdown",
   "metadata": {},
   "source": [
    "Le modèle de régression linéaire simple intégre des variables qualitatives; c'est dans ce cas une *analyse de covariance*  estimée par la fonction `aov` mieux adaptée à ce modèle."
   ]
  },
  {
   "cell_type": "code",
   "execution_count": 33,
   "metadata": {
    "ExecuteTime": {
     "end_time": "2019-11-18T09:23:40.107560Z",
     "start_time": "2019-11-18T09:22:03.699Z"
    }
   },
   "outputs": [
    {
     "data": {
      "image/png": "[encoded data removed]",
      "text/plain": [
       "Plot with title \"Régression linéaire sans sélection de variables\""
      ]
     },
     "metadata": {
      "image/png": {
       "height": 240,
       "width": 480
      }
     },
     "output_type": "display_data"
    }
   ],
   "source": [
    "# estimation du modèle sans interaction\n",
    "reg.lm <- aov(O3obs ~ . , data = datappr)\n",
    "\n",
    "# Extraction des résidus et des valeurs ajustées de ce modèle\n",
    "res.lm <- reg.lm$residuals\n",
    "fit.lm <- reg.lm$fitted.values\n",
    "\n",
    "# Graphe des résidus. \n",
    "plot.res(fit.lm,res.lm,\"Régression linéaire sans sélection de variables\")"
   ]
  },
  {
   "cell_type": "markdown",
   "metadata": {},
   "source": [
    "**Q** Que dire de la distribution de ces résidus? \n",
    "\n",
    "**Q** La forme du nuage renseigne sur les hypothèses de linéarité du modèle et d'homoscédasticité. Que dire de la validité de ce modèle?\n",
    "\n",
    "Apprécier néanmoins sa significativité par la commande suivante."
   ]
  },
  {
   "cell_type": "code",
   "execution_count": 34,
   "metadata": {
    "ExecuteTime": {
     "end_time": "2019-11-18T09:23:40.123527Z",
     "start_time": "2019-11-18T09:22:03.902Z"
    }
   },
   "outputs": [
    {
     "data": {
      "text/plain": [
       "             Df Sum Sq Mean Sq F value   Pr(>F)    \n",
       "JOUR          1    106     106   0.134 0.714791    \n",
       "MOCAGE        1 470173  470173 590.680  < 2e-16 ***\n",
       "TEMPE         1 225427  225427 283.204  < 2e-16 ***\n",
       "STATION       4  10163    2541   3.192 0.012926 *  \n",
       "VentMOD       1  13846   13846  17.395 3.36e-05 ***\n",
       "VentANG       1  10088   10088  12.673 0.000392 ***\n",
       "SRMH2O        1    273     273   0.343 0.558101    \n",
       "LNO2          1   3337    3337   4.193 0.040918 *  \n",
       "LNO           1   9006    9006  11.314 0.000805 ***\n",
       "Residuals   819 651913     796                     \n",
       "---\n",
       "Signif. codes:  0 '***' 0.001 '**' 0.01 '*' 0.05 '.' 0.1 ' ' 1"
      ]
     },
     "metadata": {},
     "output_type": "display_data"
    }
   ],
   "source": [
    "summary(reg.lm)"
   ]
  },
  {
   "cell_type": "markdown",
   "metadata": {},
   "source": [
    "**Q** Ce premier modèle est comparé avec celui de la seule prévision déterministe MOCAGE. Qu'en conclure?"
   ]
  },
  {
   "cell_type": "code",
   "execution_count": 35,
   "metadata": {
    "ExecuteTime": {
     "end_time": "2019-11-18T09:23:40.226000Z",
     "start_time": "2019-11-18T09:22:04.102Z"
    }
   },
   "outputs": [
    {
     "data": {
      "image/png": "[encoded data removed]",
      "text/plain": [
       "Plot with title \"Linéaire, sans sélection\""
      ]
     },
     "metadata": {
      "image/png": {
       "height": 240,
       "width": 480
      }
     },
     "output_type": "display_data"
    }
   ],
   "source": [
    "# Graphe des résidus du modèle déterministe MOCAGE\n",
    "par(mfrow = c(1, 2))\n",
    "plot.res(datappr[, \"MOCAGE\"],\n",
    "         datappr[, \"MOCAGE\"] - datappr[, \"O3obs\"], \"linéaire, MOCAGE seul\")\n",
    "plot.res(fit.lm, res.lm, \"Linéaire, sans sélection\")\n",
    "par(mfrow = c(1, 1))"
   ]
  },
  {
   "cell_type": "markdown",
   "metadata": {},
   "source": [
    "#### Sélection de variable par régularisation L1 (LASSO)"
   ]
  },
  {
   "cell_type": "code",
   "execution_count": 36,
   "metadata": {},
   "outputs": [
    {
     "name": "stderr",
     "output_type": "stream",
     "text": [
      "Installing package into 'C:/Users/Joan/Documents/R/win-library/4.0'\n",
      "(as 'lib' is unspecified)\n",
      "\n"
     ]
    },
    {
     "name": "stdout",
     "output_type": "stream",
     "text": [
      "package 'glmnet' successfully unpacked and MD5 sums checked\n",
      "\n",
      "The downloaded binary packages are in\n",
      "\tC:\\Users\\Joan\\AppData\\Local\\Temp\\Rtmp805fgu\\downloaded_packages\n"
     ]
    }
   ],
   "source": [
    "install.packages(\"glmnet\")"
   ]
  },
  {
   "cell_type": "code",
   "execution_count": 37,
   "metadata": {},
   "outputs": [
    {
     "name": "stderr",
     "output_type": "stream",
     "text": [
      "Loading required package: Matrix\n",
      "\n",
      "Loaded glmnet 4.1\n",
      "\n"
     ]
    },
    {
     "data": {
      "image/png": "[encoded data removed]",
      "text/plain": [
       "plot without title"
      ]
     },
     "metadata": {
      "image/png": {
       "height": 600,
       "width": 720
      }
     },
     "output_type": "display_data"
    }
   ],
   "source": [
    "library(glmnet)\n",
    "# avec des variables quantitatives seulement\n",
    "reg.lasso.quanti <- glmnet(y = datappr[, 2],\n",
    "                           x = as.matrix(datappr[, -c(1, 2, 5)]))\n",
    "# avec toutes les variables, créer d'abord la matrice d'expériences \n",
    "# avec 'model.matrix' (penser à retirer l'intercept du modèle)\n",
    "x.mat <- model.matrix(O3obs ~ . - 1, data = datappr)\n",
    "reg.lasso <- glmnet(y = datappr$O3obs, x = x.mat)\n",
    "options(repr.plot.width = 12, repr.plot.height = 10)\n",
    "plot(reg.lasso, xvar = \"lambda\", label = TRUE)\n",
    "legend(\"topright\", \n",
    "       legend = paste(1:ncol(x.mat), \" - \", colnames(x.mat)))"
   ]
  },
  {
   "cell_type": "markdown",
   "metadata": {},
   "source": [
    "**Q** Que fait la commande model.matrix ? Comment sont gérées les variables catégorielles ?\n",
    "\n",
    "**Q** Que représentent les courbes ci-dessus, appelées \"chemins de régularisation\"?"
   ]
  },
  {
   "cell_type": "code",
   "execution_count": 38,
   "metadata": {},
   "outputs": [
    {
     "data": {
      "image/png": "[encoded data removed]",
      "text/plain": [
       "plot without title"
      ]
     },
     "metadata": {
      "image/png": {
       "height": 600,
       "width": 720
      }
     },
     "output_type": "display_data"
    }
   ],
   "source": [
    "# choix du paramètre de régularisation par validation croisée\n",
    "reg.lasso.cv <- cv.glmnet(y = datappr[, 2], x = x.mat)\n",
    "plot(reg.lasso.cv)"
   ]
  },
  {
   "cell_type": "markdown",
   "metadata": {},
   "source": [
    "**Q** Que représente la courbe rouge ? Et la bande qui est autour ? \n",
    "\n",
    "**Q** Comment sont obtenues les valeurs de log(lambda) correspondant aux lignes verticales en pointillé ?"
   ]
  },
  {
   "cell_type": "code",
   "execution_count": 39,
   "metadata": {},
   "outputs": [
    {
     "data": {
      "text/html": [
       "'CV estimate of lambda : 3.896'"
      ],
      "text/latex": [
       "'CV estimate of lambda : 3.896'"
      ],
      "text/markdown": [
       "'CV estimate of lambda : 3.896'"
      ],
      "text/plain": [
       "[1] \"CV estimate of lambda : 3.896\""
      ]
     },
     "metadata": {},
     "output_type": "display_data"
    },
    {
     "data": {
      "text/plain": [
       "14 x 1 sparse Matrix of class \"dgCMatrix\"\n",
       "                    1\n",
       "(Intercept) 1.1658431\n",
       "JOUR0       .        \n",
       "JOUR1       .        \n",
       "MOCAGE      0.3370194\n",
       "TEMPE       2.9855716\n",
       "STATIONAls  .        \n",
       "STATIONCad  .        \n",
       "STATIONPla  .        \n",
       "STATIONRam  .        \n",
       "VentMOD     .        \n",
       "VentANG     0.4939696\n",
       "SRMH2O      .        \n",
       "LNO2        .        \n",
       "LNO         .        "
      ]
     },
     "metadata": {},
     "output_type": "display_data"
    }
   ],
   "source": [
    "# valeur estimée\n",
    "paste(\"CV estimate of lambda :\", round(reg.lasso.cv$lambda.1se, 3))\n",
    "# modèle correspondant\n",
    "coef(reg.lasso.cv, s = \"lambda.1se\")"
   ]
  },
  {
   "cell_type": "markdown",
   "metadata": {},
   "source": [
    "**Q** Combien restent-ils de coefficients non nuls. Vérifier sur les chemins de régularisation.\n",
    "\n",
    "**Q** Même question en choisissant l'autre valeur de lambda retenue par glmnet, i.e. \"reg.lasso.cv$lambda.min\""
   ]
  },
  {
   "cell_type": "code",
   "execution_count": 40,
   "metadata": {},
   "outputs": [
    {
     "data": {
      "image/png": "[encoded data removed]",
      "text/plain": [
       "Plot with title \"linéaire, pénalité L1\""
      ]
     },
     "metadata": {
      "image/png": {
       "height": 240,
       "width": 480
      }
     },
     "output_type": "display_data"
    }
   ],
   "source": [
    "# Extraction des valeurs ajustées et des résidus\n",
    "fit.lasso <- predict(reg.lasso.cv, s = \"lambda.min\", newx = x.mat)\n",
    "res.lasso <- datappr$O3obs - fit.lasso\n",
    "# Graphe des résidus\n",
    "options(repr.plot.width = 8, repr.plot.height = 4)\n",
    "par(mfrow = c(1, 2))\n",
    "plot.res(fit.lm, res.lm, \"linéaire\")\n",
    "plot.res(fit.lasso, res.lasso, \"linéaire, pénalité L1\")"
   ]
  },
  {
   "cell_type": "markdown",
   "metadata": {},
   "source": [
    "**Q** Commenter. \n",
    "\n",
    "**Q** Calculer le critère MSE (moyenne des carrés des résidus) pour les deux modèles. Pourquoi celui obtenu par LASSO est-il moins bon ? Quel critère LASSO minimise t-il ?\n",
    "\n",
    "**Q** Estimer l'erreur de généralisation du modèle de régression linéaire simple sans sélection de variables par validation croisée. Comparer avec celle du LASSO. Qu'observez-vous?"
   ]
  },
  {
   "cell_type": "markdown",
   "metadata": {},
   "source": [
    "### Modèle quadratique"
   ]
  },
  {
   "cell_type": "markdown",
   "metadata": {},
   "source": [
    "L'étude suivante met en oeuvre toutes les interactions d'ordre 2 entre les variables. Il s'agit donc d'un modèle de régression quadratique. Il est estimé avec la fonction glm qui permet une sélection automatique de modèle. La méthode descendante est utilisée mais celle pas-à-pas pourrait également l'être. Ce type de procédure n'est pas implémentée en python."
   ]
  },
  {
   "cell_type": "markdown",
   "metadata": {},
   "source": [
    "#### Sélection de variables par critère AIC"
   ]
  },
  {
   "cell_type": "markdown",
   "metadata": {},
   "source": [
    "Sélection descendante: à chaque étape, chaque modèle est comparé à tous les sous-modèles possibles obtenus par suppression d'une des interactions ou une des variables, à condition qu'elle ne soit pas présente dans une interaction. La variable sélectionnée et supprimée est celle qui fait décroîre le critère considéré : AIC ou *Akaïke Information Criterion*. \n",
    "\n",
    "**Q** Quel autre critère, équivalent à AIC dans le cas gaussien et de variance résiduelle connue, est utilisée en régression linéaire? \n"
   ]
  },
  {
   "cell_type": "code",
   "execution_count": 41,
   "metadata": {
    "ExecuteTime": {
     "end_time": "2019-11-18T09:23:44.291201Z",
     "start_time": "2019-11-18T09:22:04.508Z"
    }
   },
   "outputs": [
    {
     "name": "stdout",
     "output_type": "stream",
     "text": [
      "Start:  AIC=7783.44\n",
      "O3obs ~ (JOUR + MOCAGE + TEMPE + STATION + VentMOD + VentANG + \n",
      "    SRMH2O + LNO2 + LNO)^2\n",
      "\n",
      "                  Df Deviance    AIC\n",
      "- JOUR:STATION     4   471877 7776.5\n",
      "- STATION:VentANG  4   471970 7776.7\n",
      "- JOUR:TEMPE       1   471262 7781.4\n",
      "- JOUR:LNO2        1   471262 7781.4\n",
      "- LNO2:LNO         1   471263 7781.4\n",
      "- JOUR:SRMH2O      1   471265 7781.4\n",
      "- MOCAGE:TEMPE     1   471270 7781.5\n",
      "- JOUR:LNO         1   471321 7781.5\n",
      "- JOUR:MOCAGE      1   471324 7781.6\n",
      "- VentMOD:VentANG  1   471374 7781.6\n",
      "- JOUR:VentANG     1   471464 7781.8\n",
      "- MOCAGE:VentANG   1   471510 7781.9\n",
      "- MOCAGE:STATION   4   475115 7782.2\n",
      "- JOUR:VentMOD     1   471774 7782.3\n",
      "- VentANG:SRMH2O   1   471804 7782.4\n",
      "- MOCAGE:SRMH2O    1   471846 7782.5\n",
      "- VentMOD:LNO2     1   472012 7782.8\n",
      "- TEMPE:VentMOD    1   472318 7783.3\n",
      "<none>                 471261 7783.4\n",
      "- VentMOD:LNO      1   472416 7783.5\n",
      "- MOCAGE:VentMOD   1   472452 7783.5\n",
      "- STATION:LNO      4   476488 7784.6\n",
      "- VentANG:LNO2     1   473094 7784.7\n",
      "- VentMOD:SRMH2O   1   473263 7785.0\n",
      "- TEMPE:VentANG    1   473577 7785.5\n",
      "- SRMH2O:LNO2      1   473719 7785.8\n",
      "- SRMH2O:LNO       1   473881 7786.1\n",
      "- MOCAGE:LNO       1   474066 7786.4\n",
      "- VentANG:LNO      1   474390 7786.9\n",
      "- STATION:VentMOD  4   477962 7787.2\n",
      "- STATION:LNO2     4   478328 7787.8\n",
      "- MOCAGE:LNO2      1   475109 7788.2\n",
      "- TEMPE:LNO        1   475504 7788.9\n",
      "- TEMPE:LNO2       1   477011 7791.5\n",
      "- TEMPE:STATION    4   484266 7798.1\n",
      "- STATION:SRMH2O   4   486603 7802.1\n",
      "- TEMPE:SRMH2O     1   488461 7811.3\n",
      "\n",
      "Step:  AIC=7776.53\n",
      "O3obs ~ JOUR + MOCAGE + TEMPE + STATION + VentMOD + VentANG + \n",
      "    SRMH2O + LNO2 + LNO + JOUR:MOCAGE + JOUR:TEMPE + JOUR:VentMOD + \n",
      "    JOUR:VentANG + JOUR:SRMH2O + JOUR:LNO2 + JOUR:LNO + MOCAGE:TEMPE + \n",
      "    MOCAGE:STATION + MOCAGE:VentMOD + MOCAGE:VentANG + MOCAGE:SRMH2O + \n",
      "    MOCAGE:LNO2 + MOCAGE:LNO + TEMPE:STATION + TEMPE:VentMOD + \n",
      "    TEMPE:VentANG + TEMPE:SRMH2O + TEMPE:LNO2 + TEMPE:LNO + STATION:VentMOD + \n",
      "    STATION:VentANG + STATION:SRMH2O + STATION:LNO2 + STATION:LNO + \n",
      "    VentMOD:VentANG + VentMOD:SRMH2O + VentMOD:LNO2 + VentMOD:LNO + \n",
      "    VentANG:SRMH2O + VentANG:LNO2 + VentANG:LNO + SRMH2O:LNO2 + \n",
      "    SRMH2O:LNO + LNO2:LNO\n",
      "\n",
      "                  Df Deviance    AIC\n",
      "- STATION:VentANG  4   472669 7769.9\n",
      "- LNO2:LNO         1   471881 7774.5\n",
      "- JOUR:LNO2        1   471882 7774.5\n",
      "- JOUR:SRMH2O      1   471883 7774.5\n",
      "- MOCAGE:TEMPE     1   471891 7774.6\n",
      "- JOUR:LNO         1   471894 7774.6\n",
      "- JOUR:TEMPE       1   471952 7774.7\n",
      "- JOUR:VentANG     1   471976 7774.7\n",
      "- VentMOD:VentANG  1   471995 7774.7\n",
      "- JOUR:MOCAGE      1   472022 7774.8\n",
      "- MOCAGE:VentANG   1   472086 7774.9\n",
      "- MOCAGE:STATION   4   475743 7775.3\n",
      "- JOUR:VentMOD     1   472347 7775.4\n",
      "- MOCAGE:SRMH2O    1   472458 7775.6\n",
      "- VentANG:SRMH2O   1   472460 7775.6\n",
      "- VentMOD:LNO2     1   472527 7775.7\n",
      "- VentMOD:LNO      1   472923 7776.4\n",
      "- TEMPE:VentMOD    1   472927 7776.4\n",
      "- MOCAGE:VentMOD   1   472946 7776.4\n",
      "<none>                 471877 7776.5\n",
      "- STATION:LNO      4   476969 7777.5\n",
      "- VentANG:LNO2     1   473613 7777.6\n",
      "- VentMOD:SRMH2O   1   473915 7778.1\n",
      "- TEMPE:VentANG    1   474270 7778.7\n",
      "- SRMH2O:LNO2      1   474347 7778.9\n",
      "- SRMH2O:LNO       1   474491 7779.1\n",
      "- MOCAGE:LNO       1   474610 7779.3\n",
      "- VentANG:LNO      1   474946 7779.9\n",
      "- STATION:VentMOD  4   478645 7780.4\n",
      "- STATION:LNO2     4   478765 7780.6\n",
      "- MOCAGE:LNO2      1   475749 7781.3\n",
      "- TEMPE:LNO        1   476105 7781.9\n",
      "- TEMPE:LNO2       1   477639 7784.6\n",
      "- TEMPE:STATION    4   485159 7791.6\n",
      "- STATION:SRMH2O   4   487251 7795.2\n",
      "- TEMPE:SRMH2O     1   489231 7804.6\n",
      "\n",
      "Step:  AIC=7769.92\n",
      "O3obs ~ JOUR + MOCAGE + TEMPE + STATION + VentMOD + VentANG + \n",
      "    SRMH2O + LNO2 + LNO + JOUR:MOCAGE + JOUR:TEMPE + JOUR:VentMOD + \n",
      "    JOUR:VentANG + JOUR:SRMH2O + JOUR:LNO2 + JOUR:LNO + MOCAGE:TEMPE + \n",
      "    MOCAGE:STATION + MOCAGE:VentMOD + MOCAGE:VentANG + MOCAGE:SRMH2O + \n",
      "    MOCAGE:LNO2 + MOCAGE:LNO + TEMPE:STATION + TEMPE:VentMOD + \n",
      "    TEMPE:VentANG + TEMPE:SRMH2O + TEMPE:LNO2 + TEMPE:LNO + STATION:VentMOD + \n",
      "    STATION:SRMH2O + STATION:LNO2 + STATION:LNO + VentMOD:VentANG + \n",
      "    VentMOD:SRMH2O + VentMOD:LNO2 + VentMOD:LNO + VentANG:SRMH2O + \n",
      "    VentANG:LNO2 + VentANG:LNO + SRMH2O:LNO2 + SRMH2O:LNO + LNO2:LNO\n",
      "\n",
      "                  Df Deviance    AIC\n",
      "- JOUR:SRMH2O      1   472669 7767.9\n",
      "- JOUR:LNO2        1   472669 7767.9\n",
      "- LNO2:LNO         1   472669 7767.9\n",
      "- MOCAGE:TEMPE     1   472690 7768.0\n",
      "- VentMOD:VentANG  1   472694 7768.0\n",
      "- JOUR:LNO         1   472702 7768.0\n",
      "- JOUR:TEMPE       1   472732 7768.0\n",
      "- JOUR:MOCAGE      1   472761 7768.1\n",
      "- JOUR:VentANG     1   472817 7768.2\n",
      "- JOUR:VentMOD     1   473064 7768.6\n",
      "- MOCAGE:STATION   4   476643 7768.9\n",
      "- MOCAGE:SRMH2O    1   473246 7768.9\n",
      "- VentANG:SRMH2O   1   473278 7769.0\n",
      "- VentMOD:LNO2     1   473315 7769.1\n",
      "- TEMPE:VentMOD    1   473577 7769.5\n",
      "- MOCAGE:VentANG   1   473648 7769.6\n",
      "- VentMOD:LNO      1   473648 7769.6\n",
      "- MOCAGE:VentMOD   1   473723 7769.8\n",
      "<none>                 472669 7769.9\n",
      "- STATION:LNO      4   477888 7771.1\n",
      "- VentMOD:SRMH2O   1   474864 7771.8\n",
      "- TEMPE:VentANG    1   474994 7772.0\n",
      "- VentANG:LNO2     1   475028 7772.1\n",
      "- SRMH2O:LNO2      1   475160 7772.3\n",
      "- SRMH2O:LNO       1   475309 7772.6\n",
      "- MOCAGE:LNO       1   475398 7772.7\n",
      "- STATION:VentMOD  4   478962 7772.9\n",
      "- VentANG:LNO      1   475949 7773.7\n",
      "- STATION:LNO2     4   479570 7774.0\n",
      "- MOCAGE:LNO2      1   476732 7775.0\n",
      "- TEMPE:LNO        1   476882 7775.3\n",
      "- TEMPE:LNO2       1   478472 7778.1\n",
      "- TEMPE:STATION    4   486006 7785.1\n",
      "- STATION:SRMH2O   4   488545 7789.4\n",
      "- TEMPE:SRMH2O     1   490597 7798.9\n",
      "\n",
      "Step:  AIC=7767.92\n",
      "O3obs ~ JOUR + MOCAGE + TEMPE + STATION + VentMOD + VentANG + \n",
      "    SRMH2O + LNO2 + LNO + JOUR:MOCAGE + JOUR:TEMPE + JOUR:VentMOD + \n",
      "    JOUR:VentANG + JOUR:LNO2 + JOUR:LNO + MOCAGE:TEMPE + MOCAGE:STATION + \n",
      "    MOCAGE:VentMOD + MOCAGE:VentANG + MOCAGE:SRMH2O + MOCAGE:LNO2 + \n",
      "    MOCAGE:LNO + TEMPE:STATION + TEMPE:VentMOD + TEMPE:VentANG + \n",
      "    TEMPE:SRMH2O + TEMPE:LNO2 + TEMPE:LNO + STATION:VentMOD + \n",
      "    STATION:SRMH2O + STATION:LNO2 + STATION:LNO + VentMOD:VentANG + \n",
      "    VentMOD:SRMH2O + VentMOD:LNO2 + VentMOD:LNO + VentANG:SRMH2O + \n",
      "    VentANG:LNO2 + VentANG:LNO + SRMH2O:LNO2 + SRMH2O:LNO + LNO2:LNO\n",
      "\n",
      "                  Df Deviance    AIC\n",
      "- JOUR:LNO2        1   472669 7765.9\n",
      "- LNO2:LNO         1   472669 7765.9\n",
      "- MOCAGE:TEMPE     1   472690 7766.0\n",
      "- VentMOD:VentANG  1   472694 7766.0\n",
      "- JOUR:LNO         1   472703 7766.0\n",
      "- JOUR:TEMPE       1   472736 7766.0\n",
      "- JOUR:MOCAGE      1   472761 7766.1\n",
      "- JOUR:VentANG     1   472819 7766.2\n",
      "- JOUR:VentMOD     1   473112 7766.7\n",
      "- MOCAGE:STATION   4   476651 7766.9\n",
      "- MOCAGE:SRMH2O    1   473246 7766.9\n",
      "- VentANG:SRMH2O   1   473281 7767.0\n",
      "- VentMOD:LNO2     1   473316 7767.1\n",
      "- TEMPE:VentMOD    1   473577 7767.5\n",
      "- MOCAGE:VentANG   1   473648 7767.6\n",
      "- VentMOD:LNO      1   473649 7767.6\n",
      "- MOCAGE:VentMOD   1   473723 7767.8\n",
      "<none>                 472669 7767.9\n",
      "- STATION:LNO      4   477906 7769.1\n",
      "- VentMOD:SRMH2O   1   474897 7769.8\n",
      "- TEMPE:VentANG    1   475000 7770.0\n",
      "- VentANG:LNO2     1   475028 7770.1\n",
      "- SRMH2O:LNO2      1   475195 7770.4\n",
      "- SRMH2O:LNO       1   475338 7770.6\n",
      "- MOCAGE:LNO       1   475400 7770.7\n",
      "- STATION:VentMOD  4   478991 7771.0\n",
      "- VentANG:LNO      1   475950 7771.7\n",
      "- STATION:LNO2     4   479610 7772.1\n",
      "- MOCAGE:LNO2      1   476734 7773.0\n",
      "- TEMPE:LNO        1   476897 7773.3\n",
      "- TEMPE:LNO2       1   478489 7776.1\n",
      "- TEMPE:STATION    4   486020 7783.1\n",
      "- STATION:SRMH2O   4   488603 7787.5\n",
      "- TEMPE:SRMH2O     1   491312 7798.1\n",
      "\n",
      "Step:  AIC=7765.92\n",
      "O3obs ~ JOUR + MOCAGE + TEMPE + STATION + VentMOD + VentANG + \n",
      "    SRMH2O + LNO2 + LNO + JOUR:MOCAGE + JOUR:TEMPE + JOUR:VentMOD + \n",
      "    JOUR:VentANG + JOUR:LNO + MOCAGE:TEMPE + MOCAGE:STATION + \n",
      "    MOCAGE:VentMOD + MOCAGE:VentANG + MOCAGE:SRMH2O + MOCAGE:LNO2 + \n",
      "    MOCAGE:LNO + TEMPE:STATION + TEMPE:VentMOD + TEMPE:VentANG + \n",
      "    TEMPE:SRMH2O + TEMPE:LNO2 + TEMPE:LNO + STATION:VentMOD + \n",
      "    STATION:SRMH2O + STATION:LNO2 + STATION:LNO + VentMOD:VentANG + \n",
      "    VentMOD:SRMH2O + VentMOD:LNO2 + VentMOD:LNO + VentANG:SRMH2O + \n",
      "    VentANG:LNO2 + VentANG:LNO + SRMH2O:LNO2 + SRMH2O:LNO + LNO2:LNO\n",
      "\n",
      "                  Df Deviance    AIC\n",
      "- LNO2:LNO         1   472669 7763.9\n",
      "- MOCAGE:TEMPE     1   472690 7764.0\n",
      "- VentMOD:VentANG  1   472694 7764.0\n",
      "- JOUR:TEMPE       1   472748 7764.1\n",
      "- JOUR:VentANG     1   472820 7764.2\n",
      "- JOUR:MOCAGE      1   472959 7764.4\n",
      "- JOUR:VentMOD     1   473146 7764.8\n",
      "- MOCAGE:SRMH2O    1   473249 7764.9\n",
      "- VentANG:SRMH2O   1   473282 7765.0\n",
      "- VentMOD:LNO2     1   473343 7765.1\n",
      "- MOCAGE:STATION   4   476808 7765.2\n",
      "- TEMPE:VentMOD    1   473592 7765.5\n",
      "- VentMOD:LNO      1   473699 7765.7\n",
      "- MOCAGE:VentANG   1   473722 7765.8\n",
      "- MOCAGE:VentMOD   1   473747 7765.8\n",
      "<none>                 472669 7765.9\n",
      "- JOUR:LNO         1   473888 7766.1\n",
      "- STATION:LNO      4   478156 7767.5\n",
      "- VentMOD:SRMH2O   1   474897 7767.8\n",
      "- TEMPE:VentANG    1   475021 7768.1\n",
      "- SRMH2O:LNO2      1   475226 7768.4\n",
      "- VentANG:LNO2     1   475267 7768.5\n",
      "- SRMH2O:LNO       1   475383 7768.7\n",
      "- MOCAGE:LNO       1   475401 7768.7\n",
      "- STATION:VentMOD  4   479071 7769.1\n",
      "- VentANG:LNO      1   476275 7770.2\n",
      "- STATION:LNO2     4   479973 7770.7\n",
      "- MOCAGE:LNO2      1   476738 7771.1\n",
      "- TEMPE:LNO        1   476927 7771.4\n",
      "- TEMPE:LNO2       1   478527 7774.2\n",
      "- TEMPE:STATION    4   486020 7781.1\n",
      "- STATION:SRMH2O   4   488604 7785.5\n",
      "- TEMPE:SRMH2O     1   491567 7796.5\n",
      "\n",
      "Step:  AIC=7763.92\n",
      "O3obs ~ JOUR + MOCAGE + TEMPE + STATION + VentMOD + VentANG + \n",
      "    SRMH2O + LNO2 + LNO + JOUR:MOCAGE + JOUR:TEMPE + JOUR:VentMOD + \n",
      "    JOUR:VentANG + JOUR:LNO + MOCAGE:TEMPE + MOCAGE:STATION + \n",
      "    MOCAGE:VentMOD + MOCAGE:VentANG + MOCAGE:SRMH2O + MOCAGE:LNO2 + \n",
      "    MOCAGE:LNO + TEMPE:STATION + TEMPE:VentMOD + TEMPE:VentANG + \n",
      "    TEMPE:SRMH2O + TEMPE:LNO2 + TEMPE:LNO + STATION:VentMOD + \n",
      "    STATION:SRMH2O + STATION:LNO2 + STATION:LNO + VentMOD:VentANG + \n",
      "    VentMOD:SRMH2O + VentMOD:LNO2 + VentMOD:LNO + VentANG:SRMH2O + \n",
      "    VentANG:LNO2 + VentANG:LNO + SRMH2O:LNO2 + SRMH2O:LNO\n",
      "\n",
      "                  Df Deviance    AIC\n",
      "- MOCAGE:TEMPE     1   472690 7762.0\n",
      "- VentMOD:VentANG  1   472695 7762.0\n",
      "- JOUR:TEMPE       1   472749 7762.1\n",
      "- JOUR:VentANG     1   472820 7762.2\n",
      "- JOUR:MOCAGE      1   472961 7762.4\n",
      "- JOUR:VentMOD     1   473148 7762.8\n",
      "- MOCAGE:SRMH2O    1   473253 7763.0\n",
      "- VentANG:SRMH2O   1   473287 7763.0\n",
      "- VentMOD:LNO2     1   473375 7763.2\n",
      "- MOCAGE:STATION   4   476838 7763.2\n",
      "- TEMPE:VentMOD    1   473592 7763.5\n",
      "- MOCAGE:VentANG   1   473735 7763.8\n",
      "- VentMOD:LNO      1   473741 7763.8\n",
      "- MOCAGE:VentMOD   1   473784 7763.9\n",
      "<none>                 472669 7763.9\n",
      "- JOUR:LNO         1   473893 7764.1\n",
      "- VentMOD:SRMH2O   1   474912 7765.9\n",
      "- TEMPE:VentANG    1   475021 7766.1\n",
      "- STATION:LNO      4   478614 7766.3\n",
      "- SRMH2O:LNO2      1   475251 7766.5\n",
      "- VentANG:LNO2     1   475301 7766.5\n",
      "- SRMH2O:LNO       1   475401 7766.7\n",
      "- MOCAGE:LNO       1   475474 7766.8\n",
      "- STATION:VentMOD  4   479079 7767.1\n",
      "- VentANG:LNO      1   476335 7768.4\n",
      "- STATION:LNO2     4   480065 7768.8\n",
      "- MOCAGE:LNO2      1   476747 7769.1\n",
      "- TEMPE:LNO        1   476928 7769.4\n",
      "- TEMPE:LNO2       1   478567 7772.2\n",
      "- TEMPE:STATION    4   486031 7779.1\n",
      "- STATION:SRMH2O   4   488637 7783.6\n",
      "- TEMPE:SRMH2O     1   491576 7794.6\n",
      "\n",
      "Step:  AIC=7761.96\n",
      "O3obs ~ JOUR + MOCAGE + TEMPE + STATION + VentMOD + VentANG + \n",
      "    SRMH2O + LNO2 + LNO + JOUR:MOCAGE + JOUR:TEMPE + JOUR:VentMOD + \n",
      "    JOUR:VentANG + JOUR:LNO + MOCAGE:STATION + MOCAGE:VentMOD + \n",
      "    MOCAGE:VentANG + MOCAGE:SRMH2O + MOCAGE:LNO2 + MOCAGE:LNO + \n",
      "    TEMPE:STATION + TEMPE:VentMOD + TEMPE:VentANG + TEMPE:SRMH2O + \n",
      "    TEMPE:LNO2 + TEMPE:LNO + STATION:VentMOD + STATION:SRMH2O + \n",
      "    STATION:LNO2 + STATION:LNO + VentMOD:VentANG + VentMOD:SRMH2O + \n",
      "    VentMOD:LNO2 + VentMOD:LNO + VentANG:SRMH2O + VentANG:LNO2 + \n",
      "    VentANG:LNO + SRMH2O:LNO2 + SRMH2O:LNO\n",
      "\n",
      "                  Df Deviance    AIC\n",
      "- VentMOD:VentANG  1   472715 7760.0\n",
      "- JOUR:TEMPE       1   472776 7760.1\n",
      "- JOUR:VentANG     1   472837 7760.2\n",
      "- JOUR:MOCAGE      1   472982 7760.5\n",
      "- JOUR:VentMOD     1   473184 7760.8\n",
      "- MOCAGE:SRMH2O    1   473261 7761.0\n",
      "- VentANG:SRMH2O   1   473313 7761.1\n",
      "- VentMOD:LNO2     1   473385 7761.2\n",
      "- MOCAGE:STATION   4   476915 7761.4\n",
      "- TEMPE:VentMOD    1   473641 7761.6\n",
      "- MOCAGE:VentANG   1   473736 7761.8\n",
      "- VentMOD:LNO      1   473753 7761.8\n",
      "- MOCAGE:VentMOD   1   473784 7761.9\n",
      "<none>                 472690 7762.0\n",
      "- JOUR:LNO         1   473929 7762.1\n",
      "- VentMOD:SRMH2O   1   474935 7763.9\n",
      "- TEMPE:VentANG    1   475032 7764.1\n",
      "- STATION:LNO      4   478629 7764.3\n",
      "- SRMH2O:LNO2      1   475251 7764.5\n",
      "- VentANG:LNO2     1   475313 7764.6\n",
      "- SRMH2O:LNO       1   475401 7764.7\n",
      "- STATION:VentMOD  4   479089 7765.1\n",
      "- MOCAGE:LNO       1   475933 7765.6\n",
      "- VentANG:LNO      1   476362 7766.4\n",
      "- STATION:LNO2     4   480086 7766.9\n",
      "- MOCAGE:LNO2      1   477424 7768.2\n",
      "- TEMPE:LNO        1   482746 7777.5\n",
      "- TEMPE:STATION    4   488080 7780.6\n",
      "- STATION:SRMH2O   4   488763 7781.8\n",
      "- TEMPE:LNO2       1   488817 7787.9\n",
      "- TEMPE:SRMH2O     1   491583 7792.6\n",
      "\n",
      "Step:  AIC=7760\n",
      "O3obs ~ JOUR + MOCAGE + TEMPE + STATION + VentMOD + VentANG + \n",
      "    SRMH2O + LNO2 + LNO + JOUR:MOCAGE + JOUR:TEMPE + JOUR:VentMOD + \n",
      "    JOUR:VentANG + JOUR:LNO + MOCAGE:STATION + MOCAGE:VentMOD + \n",
      "    MOCAGE:VentANG + MOCAGE:SRMH2O + MOCAGE:LNO2 + MOCAGE:LNO + \n",
      "    TEMPE:STATION + TEMPE:VentMOD + TEMPE:VentANG + TEMPE:SRMH2O + \n",
      "    TEMPE:LNO2 + TEMPE:LNO + STATION:VentMOD + STATION:SRMH2O + \n",
      "    STATION:LNO2 + STATION:LNO + VentMOD:SRMH2O + VentMOD:LNO2 + \n",
      "    VentMOD:LNO + VentANG:SRMH2O + VentANG:LNO2 + VentANG:LNO + \n",
      "    SRMH2O:LNO2 + SRMH2O:LNO\n",
      "\n",
      "                  Df Deviance    AIC\n",
      "- JOUR:TEMPE       1   472800 7758.2\n",
      "- JOUR:VentANG     1   472853 7758.2\n",
      "- JOUR:MOCAGE      1   473010 7758.5\n",
      "- JOUR:VentMOD     1   473207 7758.9\n",
      "- MOCAGE:SRMH2O    1   473300 7759.0\n",
      "- VentANG:SRMH2O   1   473383 7759.2\n",
      "- VentMOD:LNO2     1   473419 7759.2\n",
      "- MOCAGE:STATION   4   476915 7759.4\n",
      "- TEMPE:VentMOD    1   473687 7759.7\n",
      "- MOCAGE:VentANG   1   473744 7759.8\n",
      "- VentMOD:LNO      1   473775 7759.9\n",
      "- MOCAGE:VentMOD   1   473799 7759.9\n",
      "<none>                 472715 7760.0\n",
      "- JOUR:LNO         1   473959 7760.2\n",
      "- TEMPE:VentANG    1   475033 7762.1\n",
      "- VentMOD:SRMH2O   1   475076 7762.1\n",
      "- STATION:LNO      4   478642 7762.4\n",
      "- VentANG:LNO2     1   475324 7762.6\n",
      "- SRMH2O:LNO2      1   475342 7762.6\n",
      "- SRMH2O:LNO       1   475499 7762.9\n",
      "- MOCAGE:LNO       1   475934 7763.6\n",
      "- STATION:VentMOD  4   479682 7764.2\n",
      "- VentANG:LNO      1   476366 7764.4\n",
      "- STATION:LNO2     4   480092 7764.9\n",
      "- MOCAGE:LNO2      1   477424 7766.3\n",
      "- TEMPE:LNO        1   482753 7775.5\n",
      "- TEMPE:STATION    4   488167 7778.8\n",
      "- STATION:SRMH2O   4   488833 7779.9\n",
      "- TEMPE:LNO2       1   488841 7785.9\n",
      "- TEMPE:SRMH2O     1   491610 7790.6\n",
      "\n",
      "Step:  AIC=7758.15\n",
      "O3obs ~ JOUR + MOCAGE + TEMPE + STATION + VentMOD + VentANG + \n",
      "    SRMH2O + LNO2 + LNO + JOUR:MOCAGE + JOUR:VentMOD + JOUR:VentANG + \n",
      "    JOUR:LNO + MOCAGE:STATION + MOCAGE:VentMOD + MOCAGE:VentANG + \n",
      "    MOCAGE:SRMH2O + MOCAGE:LNO2 + MOCAGE:LNO + TEMPE:STATION + \n",
      "    TEMPE:VentMOD + TEMPE:VentANG + TEMPE:SRMH2O + TEMPE:LNO2 + \n",
      "    TEMPE:LNO + STATION:VentMOD + STATION:SRMH2O + STATION:LNO2 + \n",
      "    STATION:LNO + VentMOD:SRMH2O + VentMOD:LNO2 + VentMOD:LNO + \n",
      "    VentANG:SRMH2O + VentANG:LNO2 + VentANG:LNO + SRMH2O:LNO2 + \n",
      "    SRMH2O:LNO\n",
      "\n",
      "                  Df Deviance    AIC\n",
      "- JOUR:VentANG     1   472953 7756.4\n",
      "- JOUR:VentMOD     1   473287 7757.0\n",
      "- JOUR:MOCAGE      1   473360 7757.1\n",
      "- MOCAGE:SRMH2O    1   473391 7757.2\n",
      "- VentANG:SRMH2O   1   473493 7757.4\n",
      "- VentMOD:LNO2     1   473519 7757.4\n",
      "- MOCAGE:STATION   4   476978 7757.5\n",
      "- TEMPE:VentMOD    1   473787 7757.9\n",
      "- MOCAGE:VentANG   1   473871 7758.0\n",
      "- VentMOD:LNO      1   473884 7758.1\n",
      "- MOCAGE:VentMOD   1   473914 7758.1\n",
      "<none>                 472800 7758.2\n",
      "- JOUR:LNO         1   474077 7758.4\n",
      "- TEMPE:VentANG    1   475079 7760.2\n",
      "- VentMOD:SRMH2O   1   475135 7760.3\n",
      "- STATION:LNO      4   478708 7760.5\n",
      "- VentANG:LNO2     1   475418 7760.7\n",
      "- SRMH2O:LNO2      1   475460 7760.8\n",
      "- SRMH2O:LNO       1   475626 7761.1\n",
      "- MOCAGE:LNO       1   476010 7761.8\n",
      "- STATION:VentMOD  4   479742 7762.3\n",
      "- VentANG:LNO      1   476480 7762.6\n",
      "- STATION:LNO2     4   480144 7763.0\n",
      "- MOCAGE:LNO2      1   477498 7764.4\n",
      "- TEMPE:LNO        1   483028 7774.0\n",
      "- TEMPE:STATION    4   488272 7776.9\n",
      "- STATION:SRMH2O   4   488896 7778.0\n",
      "- TEMPE:LNO2       1   489104 7784.4\n",
      "- TEMPE:SRMH2O     1   491694 7788.8\n",
      "\n",
      "Step:  AIC=7756.42\n",
      "O3obs ~ JOUR + MOCAGE + TEMPE + STATION + VentMOD + VentANG + \n",
      "    SRMH2O + LNO2 + LNO + JOUR:MOCAGE + JOUR:VentMOD + JOUR:LNO + \n",
      "    MOCAGE:STATION + MOCAGE:VentMOD + MOCAGE:VentANG + MOCAGE:SRMH2O + \n",
      "    MOCAGE:LNO2 + MOCAGE:LNO + TEMPE:STATION + TEMPE:VentMOD + \n",
      "    TEMPE:VentANG + TEMPE:SRMH2O + TEMPE:LNO2 + TEMPE:LNO + STATION:VentMOD + \n",
      "    STATION:SRMH2O + STATION:LNO2 + STATION:LNO + VentMOD:SRMH2O + \n",
      "    VentMOD:LNO2 + VentMOD:LNO + VentANG:SRMH2O + VentANG:LNO2 + \n",
      "    VentANG:LNO + SRMH2O:LNO2 + SRMH2O:LNO\n",
      "\n",
      "                  Df Deviance    AIC\n",
      "- MOCAGE:SRMH2O    1   473515 7755.4\n",
      "- JOUR:MOCAGE      1   473556 7755.5\n",
      "- JOUR:VentMOD     1   473631 7755.6\n",
      "- VentANG:SRMH2O   1   473649 7755.6\n",
      "- VentMOD:LNO2     1   473681 7755.7\n",
      "- MOCAGE:STATION   4   477177 7755.8\n",
      "- TEMPE:VentMOD    1   473958 7756.2\n",
      "- VentMOD:LNO      1   474055 7756.4\n",
      "- MOCAGE:VentMOD   1   474079 7756.4\n",
      "<none>                 472953 7756.4\n",
      "- MOCAGE:VentANG   1   474125 7756.5\n",
      "- JOUR:LNO         1   474182 7756.6\n",
      "- VentMOD:SRMH2O   1   475310 7758.6\n",
      "- TEMPE:VentANG    1   475326 7758.6\n",
      "- STATION:LNO      4   478803 7758.7\n",
      "- SRMH2O:LNO2      1   475569 7759.0\n",
      "- VentANG:LNO2     1   475617 7759.1\n",
      "- SRMH2O:LNO       1   475752 7759.3\n",
      "- MOCAGE:LNO       1   476095 7759.9\n",
      "- STATION:VentMOD  4   479862 7760.5\n",
      "- VentANG:LNO      1   476720 7761.0\n",
      "- STATION:LNO2     4   480235 7761.1\n",
      "- MOCAGE:LNO2      1   477588 7762.5\n",
      "- TEMPE:LNO        1   483206 7772.3\n",
      "- TEMPE:STATION    4   488374 7775.1\n",
      "- STATION:SRMH2O   4   489228 7776.6\n",
      "- TEMPE:LNO2       1   489314 7782.7\n",
      "- TEMPE:SRMH2O     1   491834 7787.0\n",
      "\n",
      "Step:  AIC=7755.41\n",
      "O3obs ~ JOUR + MOCAGE + TEMPE + STATION + VentMOD + VentANG + \n",
      "    SRMH2O + LNO2 + LNO + JOUR:MOCAGE + JOUR:VentMOD + JOUR:LNO + \n",
      "    MOCAGE:STATION + MOCAGE:VentMOD + MOCAGE:VentANG + MOCAGE:LNO2 + \n",
      "    MOCAGE:LNO + TEMPE:STATION + TEMPE:VentMOD + TEMPE:VentANG + \n",
      "    TEMPE:SRMH2O + TEMPE:LNO2 + TEMPE:LNO + STATION:VentMOD + \n",
      "    STATION:SRMH2O + STATION:LNO2 + STATION:LNO + VentMOD:SRMH2O + \n",
      "    VentMOD:LNO2 + VentMOD:LNO + VentANG:SRMH2O + VentANG:LNO2 + \n",
      "    VentANG:LNO + SRMH2O:LNO2 + SRMH2O:LNO\n",
      "\n",
      "                  Df Deviance    AIC\n",
      "- VentMOD:LNO2     1   474063 7754.4\n",
      "- JOUR:MOCAGE      1   474140 7754.5\n",
      "- JOUR:VentMOD     1   474210 7754.6\n",
      "- VentANG:SRMH2O   1   474373 7754.9\n",
      "- MOCAGE:VentMOD   1   474408 7755.0\n",
      "- VentMOD:LNO      1   474433 7755.0\n",
      "- TEMPE:VentMOD    1   474612 7755.3\n",
      "- MOCAGE:STATION   4   478087 7755.4\n",
      "<none>                 473515 7755.4\n",
      "- JOUR:LNO         1   474687 7755.5\n",
      "- MOCAGE:VentANG   1   474801 7755.7\n",
      "- TEMPE:VentANG    1   475952 7757.7\n",
      "- VentMOD:SRMH2O   1   476024 7757.8\n",
      "- MOCAGE:LNO       1   476221 7758.2\n",
      "- STATION:LNO      4   479681 7758.2\n",
      "- VentANG:LNO2     1   476513 7758.7\n",
      "- SRMH2O:LNO       1   476624 7758.9\n",
      "- SRMH2O:LNO2      1   476710 7759.0\n",
      "- STATION:VentMOD  4   480709 7760.0\n",
      "- MOCAGE:LNO2      1   477635 7760.6\n",
      "- VentANG:LNO      1   477718 7760.8\n",
      "- STATION:LNO2     4   481181 7760.8\n",
      "- TEMPE:LNO        1   483260 7770.4\n",
      "- TEMPE:STATION    4   488903 7774.0\n",
      "- TEMPE:LNO2       1   489316 7780.7\n",
      "- TEMPE:SRMH2O     1   492962 7786.9\n",
      "- STATION:SRMH2O   4   500268 7793.1\n",
      "\n",
      "Step:  AIC=7754.37\n",
      "O3obs ~ JOUR + MOCAGE + TEMPE + STATION + VentMOD + VentANG + \n",
      "    SRMH2O + LNO2 + LNO + JOUR:MOCAGE + JOUR:VentMOD + JOUR:LNO + \n",
      "    MOCAGE:STATION + MOCAGE:VentMOD + MOCAGE:VentANG + MOCAGE:LNO2 + \n",
      "    MOCAGE:LNO + TEMPE:STATION + TEMPE:VentMOD + TEMPE:VentANG + \n",
      "    TEMPE:SRMH2O + TEMPE:LNO2 + TEMPE:LNO + STATION:VentMOD + \n",
      "    STATION:SRMH2O + STATION:LNO2 + STATION:LNO + VentMOD:SRMH2O + \n",
      "    VentMOD:LNO + VentANG:SRMH2O + VentANG:LNO2 + VentANG:LNO + \n",
      "    SRMH2O:LNO2 + SRMH2O:LNO\n",
      "\n",
      "                  Df Deviance    AIC\n",
      "- MOCAGE:VentMOD   1   474420 7753.0\n",
      "- JOUR:MOCAGE      1   474630 7753.4\n",
      "- MOCAGE:STATION   4   478114 7753.5\n",
      "- JOUR:VentMOD     1   474850 7753.8\n",
      "- VentANG:SRMH2O   1   474907 7753.9\n",
      "- TEMPE:VentMOD    1   474916 7753.9\n",
      "- JOUR:LNO         1   475108 7754.2\n",
      "- VentMOD:LNO      1   475134 7754.3\n",
      "<none>                 474063 7754.4\n",
      "- MOCAGE:VentANG   1   475292 7754.5\n",
      "- STATION:LNO      4   479701 7756.2\n",
      "- TEMPE:VentANG    1   476525 7756.7\n",
      "- MOCAGE:LNO       1   476674 7756.9\n",
      "- VentANG:LNO2     1   476942 7757.4\n",
      "- VentMOD:SRMH2O   1   477121 7757.7\n",
      "- SRMH2O:LNO2      1   477303 7758.0\n",
      "- SRMH2O:LNO       1   477313 7758.1\n",
      "- STATION:LNO2     4   481184 7758.8\n",
      "- STATION:VentMOD  4   481242 7758.9\n",
      "- MOCAGE:LNO2      1   477930 7759.1\n",
      "- VentANG:LNO      1   478165 7759.5\n",
      "- TEMPE:LNO        1   483995 7769.6\n",
      "- TEMPE:STATION    4   489350 7772.8\n",
      "- TEMPE:LNO2       1   489965 7779.8\n",
      "- TEMPE:SRMH2O     1   493716 7786.2\n",
      "- STATION:SRMH2O   4   501217 7792.7\n",
      "\n",
      "Step:  AIC=7753\n",
      "O3obs ~ JOUR + MOCAGE + TEMPE + STATION + VentMOD + VentANG + \n",
      "    SRMH2O + LNO2 + LNO + JOUR:MOCAGE + JOUR:VentMOD + JOUR:LNO + \n",
      "    MOCAGE:STATION + MOCAGE:VentANG + MOCAGE:LNO2 + MOCAGE:LNO + \n",
      "    TEMPE:STATION + TEMPE:VentMOD + TEMPE:VentANG + TEMPE:SRMH2O + \n",
      "    TEMPE:LNO2 + TEMPE:LNO + STATION:VentMOD + STATION:SRMH2O + \n",
      "    STATION:LNO2 + STATION:LNO + VentMOD:SRMH2O + VentMOD:LNO + \n",
      "    VentANG:SRMH2O + VentANG:LNO2 + VentANG:LNO + SRMH2O:LNO2 + \n",
      "    SRMH2O:LNO\n",
      "\n",
      "                  Df Deviance    AIC\n",
      "- MOCAGE:STATION   4   478125 7751.5\n",
      "- JOUR:MOCAGE      1   475029 7752.1\n",
      "- JOUR:VentMOD     1   475219 7752.4\n",
      "- VentANG:SRMH2O   1   475273 7752.5\n",
      "- JOUR:LNO         1   475442 7752.8\n",
      "<none>                 474420 7753.0\n",
      "- VentMOD:LNO      1   475623 7753.1\n",
      "- MOCAGE:VentANG   1   475646 7753.1\n",
      "- TEMPE:VentMOD    1   475778 7753.4\n",
      "- STATION:LNO      4   480351 7755.3\n",
      "- TEMPE:VentANG    1   477165 7755.8\n",
      "- VentMOD:SRMH2O   1   477311 7756.1\n",
      "- VentANG:LNO2     1   477626 7756.6\n",
      "- SRMH2O:LNO2      1   477925 7757.1\n",
      "- SRMH2O:LNO       1   477945 7757.2\n",
      "- MOCAGE:LNO       1   478066 7757.4\n",
      "- STATION:VentMOD  4   481637 7757.6\n",
      "- STATION:LNO2     4   481875 7758.0\n",
      "- VentANG:LNO      1   478826 7758.7\n",
      "- MOCAGE:LNO2      1   480119 7760.9\n",
      "- TEMPE:LNO        1   485868 7770.8\n",
      "- TEMPE:STATION    4   490402 7772.6\n",
      "- TEMPE:LNO2       1   493313 7783.5\n",
      "- TEMPE:SRMH2O     1   494843 7786.1\n",
      "- STATION:SRMH2O   4   501543 7791.3\n",
      "\n",
      "Step:  AIC=7751.47\n",
      "O3obs ~ JOUR + MOCAGE + TEMPE + STATION + VentMOD + VentANG + \n",
      "    SRMH2O + LNO2 + LNO + JOUR:MOCAGE + JOUR:VentMOD + JOUR:LNO + \n",
      "    MOCAGE:VentANG + MOCAGE:LNO2 + MOCAGE:LNO + TEMPE:STATION + \n",
      "    TEMPE:VentMOD + TEMPE:VentANG + TEMPE:SRMH2O + TEMPE:LNO2 + \n",
      "    TEMPE:LNO + STATION:VentMOD + STATION:SRMH2O + STATION:LNO2 + \n",
      "    STATION:LNO + VentMOD:SRMH2O + VentMOD:LNO + VentANG:SRMH2O + \n",
      "    VentANG:LNO2 + VentANG:LNO + SRMH2O:LNO2 + SRMH2O:LNO\n",
      "\n",
      "                  Df Deviance    AIC\n",
      "- JOUR:MOCAGE      1   478645 7750.4\n",
      "- STATION:LNO      4   482173 7750.5\n",
      "- JOUR:VentMOD     1   479061 7751.1\n",
      "- JOUR:LNO         1   479062 7751.1\n",
      "<none>                 478125 7751.5\n",
      "- VentANG:SRMH2O   1   479579 7752.0\n",
      "- VentMOD:LNO      1   479797 7752.4\n",
      "- TEMPE:VentMOD    1   479997 7752.7\n",
      "- VentMOD:SRMH2O   1   480879 7754.3\n",
      "- MOCAGE:VentANG   1   480963 7754.4\n",
      "- MOCAGE:LNO       1   481164 7754.7\n",
      "- TEMPE:VentANG    1   481295 7755.0\n",
      "- SRMH2O:LNO       1   482346 7756.8\n",
      "- SRMH2O:LNO2      1   482474 7757.0\n",
      "- MOCAGE:LNO2      1   482602 7757.2\n",
      "- STATION:LNO2     4   486824 7758.5\n",
      "- STATION:VentMOD  4   487289 7759.3\n",
      "- VentANG:LNO2     1   485059 7761.5\n",
      "- VentANG:LNO      1   486898 7764.6\n",
      "- TEMPE:LNO        1   490251 7770.3\n",
      "- TEMPE:STATION    4   496113 7774.2\n",
      "- TEMPE:LNO2       1   498152 7783.6\n",
      "- TEMPE:SRMH2O     1   500214 7787.0\n",
      "- STATION:SRMH2O   4   506272 7791.1\n",
      "\n",
      "Step:  AIC=7750.38\n",
      "O3obs ~ JOUR + MOCAGE + TEMPE + STATION + VentMOD + VentANG + \n",
      "    SRMH2O + LNO2 + LNO + JOUR:VentMOD + JOUR:LNO + MOCAGE:VentANG + \n",
      "    MOCAGE:LNO2 + MOCAGE:LNO + TEMPE:STATION + TEMPE:VentMOD + \n",
      "    TEMPE:VentANG + TEMPE:SRMH2O + TEMPE:LNO2 + TEMPE:LNO + STATION:VentMOD + \n",
      "    STATION:SRMH2O + STATION:LNO2 + STATION:LNO + VentMOD:SRMH2O + \n",
      "    VentMOD:LNO + VentANG:SRMH2O + VentANG:LNO2 + VentANG:LNO + \n",
      "    SRMH2O:LNO2 + SRMH2O:LNO\n",
      "\n",
      "                  Df Deviance    AIC\n",
      "- STATION:LNO      4   482652 7749.3\n",
      "- JOUR:VentMOD     1   479540 7749.9\n",
      "- JOUR:LNO         1   479554 7750.0\n",
      "<none>                 478645 7750.4\n",
      "- VentANG:SRMH2O   1   480086 7750.9\n",
      "- VentMOD:LNO      1   480293 7751.2\n",
      "- TEMPE:VentMOD    1   480610 7751.8\n",
      "- VentMOD:SRMH2O   1   481487 7753.3\n",
      "- MOCAGE:VentANG   1   481518 7753.4\n",
      "- MOCAGE:LNO       1   481642 7753.6\n",
      "- TEMPE:VentANG    1   482038 7754.3\n",
      "- SRMH2O:LNO       1   482579 7755.2\n",
      "- SRMH2O:LNO2      1   482733 7755.5\n",
      "- MOCAGE:LNO2      1   483013 7755.9\n",
      "- STATION:LNO2     4   487315 7757.3\n",
      "- STATION:VentMOD  4   487987 7758.5\n",
      "- VentANG:LNO2     1   485765 7760.7\n",
      "- VentANG:LNO      1   487658 7763.9\n",
      "- TEMPE:LNO        1   490761 7769.2\n",
      "- TEMPE:STATION    4   496782 7773.3\n",
      "- TEMPE:LNO2       1   498798 7782.7\n",
      "- TEMPE:SRMH2O     1   500412 7785.4\n",
      "- STATION:SRMH2O   4   507052 7790.3\n",
      "\n",
      "Step:  AIC=7749.31\n",
      "O3obs ~ JOUR + MOCAGE + TEMPE + STATION + VentMOD + VentANG + \n",
      "    SRMH2O + LNO2 + LNO + JOUR:VentMOD + JOUR:LNO + MOCAGE:VentANG + \n",
      "    MOCAGE:LNO2 + MOCAGE:LNO + TEMPE:STATION + TEMPE:VentMOD + \n",
      "    TEMPE:VentANG + TEMPE:SRMH2O + TEMPE:LNO2 + TEMPE:LNO + STATION:VentMOD + \n",
      "    STATION:SRMH2O + STATION:LNO2 + VentMOD:SRMH2O + VentMOD:LNO + \n",
      "    VentANG:SRMH2O + VentANG:LNO2 + VentANG:LNO + SRMH2O:LNO2 + \n",
      "    SRMH2O:LNO\n",
      "\n",
      "                  Df Deviance    AIC\n",
      "- JOUR:LNO         1   483467 7748.7\n",
      "- VentMOD:LNO      1   483483 7748.7\n",
      "- JOUR:VentMOD     1   483554 7748.9\n",
      "- MOCAGE:LNO       1   483622 7749.0\n",
      "<none>                 482652 7749.3\n",
      "- VentANG:SRMH2O   1   484715 7750.9\n",
      "- TEMPE:VentMOD    1   484931 7751.2\n",
      "- VentMOD:SRMH2O   1   485691 7752.5\n",
      "- MOCAGE:LNO2      1   485714 7752.6\n",
      "- STATION:VentMOD  4   489557 7753.1\n",
      "- MOCAGE:VentANG   1   486770 7754.4\n",
      "- TEMPE:VentANG    1   486906 7754.6\n",
      "- SRMH2O:LNO       1   488398 7757.2\n",
      "- SRMH2O:LNO2      1   488580 7757.5\n",
      "- TEMPE:LNO        1   491617 7762.6\n",
      "- VentANG:LNO2     1   493633 7766.0\n",
      "- VentANG:LNO      1   496738 7771.2\n",
      "- STATION:LNO2     4   501398 7773.0\n",
      "- TEMPE:LNO2       1   499845 7776.4\n",
      "- TEMPE:STATION    4   506658 7781.7\n",
      "- TEMPE:SRMH2O     1   509035 7791.6\n",
      "- STATION:SRMH2O   4   513913 7793.5\n",
      "\n",
      "Step:  AIC=7748.72\n",
      "O3obs ~ JOUR + MOCAGE + TEMPE + STATION + VentMOD + VentANG + \n",
      "    SRMH2O + LNO2 + LNO + JOUR:VentMOD + MOCAGE:VentANG + MOCAGE:LNO2 + \n",
      "    MOCAGE:LNO + TEMPE:STATION + TEMPE:VentMOD + TEMPE:VentANG + \n",
      "    TEMPE:SRMH2O + TEMPE:LNO2 + TEMPE:LNO + STATION:VentMOD + \n",
      "    STATION:SRMH2O + STATION:LNO2 + VentMOD:SRMH2O + VentMOD:LNO + \n",
      "    VentANG:SRMH2O + VentANG:LNO2 + VentANG:LNO + SRMH2O:LNO2 + \n",
      "    SRMH2O:LNO\n",
      "\n",
      "                  Df Deviance    AIC\n",
      "- VentMOD:LNO      1   484219 7748.0\n",
      "- JOUR:VentMOD     1   484238 7748.0\n",
      "<none>                 483467 7748.7\n",
      "- MOCAGE:LNO       1   484693 7748.8\n",
      "- VentANG:SRMH2O   1   485359 7750.0\n",
      "- TEMPE:VentMOD    1   485726 7750.6\n",
      "- VentMOD:SRMH2O   1   486442 7751.8\n",
      "- STATION:VentMOD  4   490500 7752.7\n",
      "- MOCAGE:LNO2      1   487066 7752.9\n",
      "- MOCAGE:VentANG   1   487631 7753.9\n",
      "- TEMPE:VentANG    1   487673 7753.9\n",
      "- SRMH2O:LNO       1   488679 7755.6\n",
      "- SRMH2O:LNO2      1   488914 7756.0\n",
      "- TEMPE:LNO        1   492631 7762.3\n",
      "- VentANG:LNO2     1   494359 7765.3\n",
      "- VentANG:LNO      1   497569 7770.6\n",
      "- STATION:LNO2     4   502526 7772.9\n",
      "- TEMPE:LNO2       1   501037 7776.4\n",
      "- TEMPE:STATION    4   507555 7781.2\n",
      "- TEMPE:SRMH2O     1   509102 7789.7\n",
      "- STATION:SRMH2O   4   514404 7792.3\n",
      "\n",
      "Step:  AIC=7748.01\n",
      "O3obs ~ JOUR + MOCAGE + TEMPE + STATION + VentMOD + VentANG + \n",
      "    SRMH2O + LNO2 + LNO + JOUR:VentMOD + MOCAGE:VentANG + MOCAGE:LNO2 + \n",
      "    MOCAGE:LNO + TEMPE:STATION + TEMPE:VentMOD + TEMPE:VentANG + \n",
      "    TEMPE:SRMH2O + TEMPE:LNO2 + TEMPE:LNO + STATION:VentMOD + \n",
      "    STATION:SRMH2O + STATION:LNO2 + VentMOD:SRMH2O + VentANG:SRMH2O + \n",
      "    VentANG:LNO2 + VentANG:LNO + SRMH2O:LNO2 + SRMH2O:LNO\n",
      "\n",
      "                  Df Deviance    AIC\n",
      "- JOUR:VentMOD     1   485053 7747.4\n",
      "<none>                 484219 7748.0\n",
      "- MOCAGE:LNO       1   485726 7748.6\n",
      "- TEMPE:VentMOD    1   485999 7749.1\n",
      "- VentANG:SRMH2O   1   486126 7749.3\n",
      "- STATION:VentMOD  4   490647 7751.0\n",
      "- VentMOD:SRMH2O   1   487554 7751.7\n",
      "- MOCAGE:VentANG   1   488617 7753.5\n",
      "- TEMPE:VentANG    1   488644 7753.6\n",
      "- MOCAGE:LNO2      1   488837 7753.9\n",
      "- SRMH2O:LNO       1   489185 7754.5\n",
      "- SRMH2O:LNO2      1   489546 7755.1\n",
      "- TEMPE:LNO        1   494277 7763.1\n",
      "- VentANG:LNO2     1   496163 7766.3\n",
      "- VentANG:LNO      1   499407 7771.7\n",
      "- STATION:LNO2     4   503291 7772.2\n",
      "- TEMPE:LNO2       1   503841 7779.1\n",
      "- TEMPE:STATION    4   507606 7779.3\n",
      "- TEMPE:SRMH2O     1   509156 7787.8\n",
      "- STATION:SRMH2O   4   514926 7791.2\n",
      "\n",
      "Step:  AIC=7747.44\n",
      "O3obs ~ JOUR + MOCAGE + TEMPE + STATION + VentMOD + VentANG + \n",
      "    SRMH2O + LNO2 + LNO + MOCAGE:VentANG + MOCAGE:LNO2 + MOCAGE:LNO + \n",
      "    TEMPE:STATION + TEMPE:VentMOD + TEMPE:VentANG + TEMPE:SRMH2O + \n",
      "    TEMPE:LNO2 + TEMPE:LNO + STATION:VentMOD + STATION:SRMH2O + \n",
      "    STATION:LNO2 + VentMOD:SRMH2O + VentANG:SRMH2O + VentANG:LNO2 + \n",
      "    VentANG:LNO + SRMH2O:LNO2 + SRMH2O:LNO\n",
      "\n",
      "                  Df Deviance    AIC\n",
      "- JOUR             1   485125 7745.6\n",
      "<none>                 485053 7747.4\n",
      "- MOCAGE:LNO       1   486627 7748.1\n",
      "- TEMPE:VentMOD    1   486698 7748.3\n",
      "- VentANG:SRMH2O   1   486945 7748.7\n",
      "- STATION:VentMOD  4   491730 7750.8\n",
      "- VentMOD:SRMH2O   1   488662 7751.6\n",
      "- MOCAGE:VentANG   1   489407 7752.9\n",
      "- TEMPE:VentANG    1   489564 7753.1\n",
      "- MOCAGE:LNO2      1   489686 7753.4\n",
      "- SRMH2O:LNO       1   489877 7753.7\n",
      "- SRMH2O:LNO2      1   490191 7754.2\n",
      "- TEMPE:LNO        1   495103 7762.5\n",
      "- VentANG:LNO2     1   496851 7765.4\n",
      "- VentANG:LNO      1   500120 7770.9\n",
      "- STATION:LNO2     4   504404 7772.0\n",
      "- TEMPE:LNO2       1   504608 7778.3\n",
      "- TEMPE:STATION    4   508408 7778.6\n",
      "- TEMPE:SRMH2O     1   509979 7787.1\n",
      "- STATION:SRMH2O   4   515498 7790.1\n",
      "\n",
      "Step:  AIC=7745.56\n",
      "O3obs ~ MOCAGE + TEMPE + STATION + VentMOD + VentANG + SRMH2O + \n",
      "    LNO2 + LNO + MOCAGE:VentANG + MOCAGE:LNO2 + MOCAGE:LNO + \n",
      "    TEMPE:STATION + TEMPE:VentMOD + TEMPE:VentANG + TEMPE:SRMH2O + \n",
      "    TEMPE:LNO2 + TEMPE:LNO + STATION:VentMOD + STATION:SRMH2O + \n",
      "    STATION:LNO2 + VentMOD:SRMH2O + VentANG:SRMH2O + VentANG:LNO2 + \n",
      "    VentANG:LNO + SRMH2O:LNO2 + SRMH2O:LNO\n",
      "\n",
      "                  Df Deviance    AIC\n",
      "<none>                 485125 7745.6\n",
      "- MOCAGE:LNO       1   486722 7746.3\n",
      "- TEMPE:VentMOD    1   486786 7746.4\n",
      "- VentANG:SRMH2O   1   486995 7746.8\n",
      "- STATION:VentMOD  4   491800 7748.9\n",
      "- VentMOD:SRMH2O   1   488709 7749.7\n",
      "- MOCAGE:VentANG   1   489438 7750.9\n",
      "- TEMPE:VentANG    1   489576 7751.2\n",
      "- MOCAGE:LNO2      1   489811 7751.6\n",
      "- SRMH2O:LNO       1   489945 7751.8\n",
      "- SRMH2O:LNO2      1   490258 7752.3\n",
      "- TEMPE:LNO        1   495312 7760.9\n",
      "- VentANG:LNO2     1   496853 7763.4\n",
      "- VentANG:LNO      1   500120 7768.9\n",
      "- STATION:LNO2     4   504465 7770.1\n",
      "- TEMPE:LNO2       1   504903 7776.8\n",
      "- TEMPE:STATION    4   508588 7776.9\n",
      "- TEMPE:SRMH2O     1   509988 7785.1\n",
      "- STATION:SRMH2O   4   515529 7788.1\n"
     ]
    }
   ],
   "source": [
    "# Estimation du modèle de toute interaction d'ordre 2\n",
    "reg.glm <- glm(O3obs ~ .^2, data = datappr)\n",
    "# Recherche du meilleur modèle au sens \n",
    "# du critère d'Akaïke par méthode descendante\n",
    "reg.glm.step <- step(reg.glm, direction = \"backward\")"
   ]
  },
  {
   "cell_type": "code",
   "execution_count": 42,
   "metadata": {
    "ExecuteTime": {
     "end_time": "2019-11-18T09:23:44.497378Z",
     "start_time": "2019-11-18T09:22:04.515Z"
    }
   },
   "outputs": [
    {
     "data": {
      "text/html": [
       "<table class=\"dataframe\">\n",
       "<caption>A anova: 27 × 6</caption>\n",
       "<thead>\n",
       "\t<tr><th></th><th scope=col>Df</th><th scope=col>Deviance</th><th scope=col>Resid. Df</th><th scope=col>Resid. Dev</th><th scope=col>F</th><th scope=col>Pr(&gt;F)</th></tr>\n",
       "\t<tr><th></th><th scope=col>&lt;int&gt;</th><th scope=col>&lt;dbl&gt;</th><th scope=col>&lt;int&gt;</th><th scope=col>&lt;dbl&gt;</th><th scope=col>&lt;dbl&gt;</th><th scope=col>&lt;dbl&gt;</th></tr>\n",
       "</thead>\n",
       "<tbody>\n",
       "\t<tr><th scope=row>NULL</th><td>NA</td><td>         NA</td><td>831</td><td>1394332.0</td><td>         NA</td><td>           NA</td></tr>\n",
       "\t<tr><th scope=row>MOCAGE</th><td> 1</td><td>469071.2081</td><td>830</td><td> 925260.8</td><td>763.8571548</td><td>3.647061e-118</td></tr>\n",
       "\t<tr><th scope=row>TEMPE</th><td> 1</td><td>225512.0241</td><td>829</td><td> 699748.7</td><td>367.2341644</td><td> 1.630666e-67</td></tr>\n",
       "\t<tr><th scope=row>STATION</th><td> 4</td><td> 10252.6125</td><td>825</td><td> 689496.1</td><td>  4.1739566</td><td> 2.371040e-03</td></tr>\n",
       "\t<tr><th scope=row>VentMOD</th><td> 1</td><td> 14316.7164</td><td>824</td><td> 675179.4</td><td> 23.3140002</td><td> 1.652264e-06</td></tr>\n",
       "\t<tr><th scope=row>VentANG</th><td> 1</td><td> 10355.9415</td><td>823</td><td> 664823.5</td><td> 16.8640919</td><td> 4.433664e-05</td></tr>\n",
       "\t<tr><th scope=row>SRMH2O</th><td> 1</td><td>   244.5782</td><td>822</td><td> 664578.9</td><td>  0.3982825</td><td> 5.281601e-01</td></tr>\n",
       "\t<tr><th scope=row>LNO2</th><td> 1</td><td>  3273.0334</td><td>821</td><td> 661305.9</td><td>  5.3299583</td><td> 2.121919e-02</td></tr>\n",
       "\t<tr><th scope=row>LNO</th><td> 1</td><td>  9138.5263</td><td>820</td><td> 652167.3</td><td> 14.8815971</td><td> 1.238032e-04</td></tr>\n",
       "\t<tr><th scope=row>MOCAGE:VentANG</th><td> 1</td><td>   229.4027</td><td>819</td><td> 651937.9</td><td>  0.3735699</td><td> 5.412406e-01</td></tr>\n",
       "\t<tr><th scope=row>MOCAGE:LNO2</th><td> 1</td><td>  1392.3531</td><td>818</td><td> 650545.6</td><td>  2.2673720</td><td> 1.325235e-01</td></tr>\n",
       "\t<tr><th scope=row>MOCAGE:LNO</th><td> 1</td><td>  7498.8544</td><td>817</td><td> 643046.7</td><td> 12.2114798</td><td> 5.014127e-04</td></tr>\n",
       "\t<tr><th scope=row>TEMPE:STATION</th><td> 4</td><td> 10079.5913</td><td>813</td><td> 632967.1</td><td>  4.1035177</td><td> 2.681764e-03</td></tr>\n",
       "\t<tr><th scope=row>TEMPE:VentMOD</th><td> 1</td><td>  3698.7762</td><td>812</td><td> 629268.4</td><td>  6.0232575</td><td> 1.433333e-02</td></tr>\n",
       "\t<tr><th scope=row>TEMPE:VentANG</th><td> 1</td><td> 11807.2735</td><td>811</td><td> 617461.1</td><td> 19.2275078</td><td> 1.317325e-05</td></tr>\n",
       "\t<tr><th scope=row>TEMPE:SRMH2O</th><td> 1</td><td> 41395.1197</td><td>810</td><td> 576066.0</td><td> 67.4097190</td><td> 8.959821e-16</td></tr>\n",
       "\t<tr><th scope=row>TEMPE:LNO2</th><td> 1</td><td> 17788.6182</td><td>809</td><td> 558277.4</td><td> 28.9678051</td><td> 9.707807e-08</td></tr>\n",
       "\t<tr><th scope=row>TEMPE:LNO</th><td> 1</td><td>  7007.4383</td><td>808</td><td> 551269.9</td><td> 11.4112353</td><td> 7.657581e-04</td></tr>\n",
       "\t<tr><th scope=row>STATION:VentMOD</th><td> 4</td><td>  3104.0582</td><td>804</td><td> 548165.9</td><td>  1.2636978</td><td> 2.827053e-01</td></tr>\n",
       "\t<tr><th scope=row>STATION:SRMH2O</th><td> 4</td><td> 19622.2380</td><td>800</td><td> 528543.6</td><td>  7.9884390</td><td> 2.580211e-06</td></tr>\n",
       "\t<tr><th scope=row>STATION:LNO2</th><td> 4</td><td> 13822.5121</td><td>796</td><td> 514721.1</td><td>  5.6273038</td><td> 1.809803e-04</td></tr>\n",
       "\t<tr><th scope=row>VentMOD:SRMH2O</th><td> 1</td><td>  1213.3495</td><td>795</td><td> 513507.8</td><td>  1.9758743</td><td> 1.602189e-01</td></tr>\n",
       "\t<tr><th scope=row>VentANG:SRMH2O</th><td> 1</td><td>   618.2969</td><td>794</td><td> 512889.5</td><td>  1.0068631</td><td> 3.159628e-01</td></tr>\n",
       "\t<tr><th scope=row>VentANG:LNO2</th><td> 1</td><td>  1374.8292</td><td>793</td><td> 511514.6</td><td>  2.2388352</td><td> 1.349817e-01</td></tr>\n",
       "\t<tr><th scope=row>VentANG:LNO</th><td> 1</td><td> 21205.1488</td><td>792</td><td> 490309.5</td><td> 34.5314408</td><td> 6.181379e-09</td></tr>\n",
       "\t<tr><th scope=row>SRMH2O:LNO2</th><td> 1</td><td>   364.8414</td><td>791</td><td> 489944.6</td><td>  0.5941246</td><td> 4.410590e-01</td></tr>\n",
       "\t<tr><th scope=row>SRMH2O:LNO</th><td> 1</td><td>  4819.5703</td><td>790</td><td> 485125.1</td><td>  7.8484102</td><td> 5.210926e-03</td></tr>\n",
       "</tbody>\n",
       "</table>\n"
      ],
      "text/latex": [
       "A anova: 27 × 6\n",
       "\\begin{tabular}{r|llllll}\n",
       "  & Df & Deviance & Resid. Df & Resid. Dev & F & Pr(>F)\\\\\n",
       "  & <int> & <dbl> & <int> & <dbl> & <dbl> & <dbl>\\\\\n",
       "\\hline\n",
       "\tNULL & NA &          NA & 831 & 1394332.0 &          NA &            NA\\\\\n",
       "\tMOCAGE &  1 & 469071.2081 & 830 &  925260.8 & 763.8571548 & 3.647061e-118\\\\\n",
       "\tTEMPE &  1 & 225512.0241 & 829 &  699748.7 & 367.2341644 &  1.630666e-67\\\\\n",
       "\tSTATION &  4 &  10252.6125 & 825 &  689496.1 &   4.1739566 &  2.371040e-03\\\\\n",
       "\tVentMOD &  1 &  14316.7164 & 824 &  675179.4 &  23.3140002 &  1.652264e-06\\\\\n",
       "\tVentANG &  1 &  10355.9415 & 823 &  664823.5 &  16.8640919 &  4.433664e-05\\\\\n",
       "\tSRMH2O &  1 &    244.5782 & 822 &  664578.9 &   0.3982825 &  5.281601e-01\\\\\n",
       "\tLNO2 &  1 &   3273.0334 & 821 &  661305.9 &   5.3299583 &  2.121919e-02\\\\\n",
       "\tLNO &  1 &   9138.5263 & 820 &  652167.3 &  14.8815971 &  1.238032e-04\\\\\n",
       "\tMOCAGE:VentANG &  1 &    229.4027 & 819 &  651937.9 &   0.3735699 &  5.412406e-01\\\\\n",
       "\tMOCAGE:LNO2 &  1 &   1392.3531 & 818 &  650545.6 &   2.2673720 &  1.325235e-01\\\\\n",
       "\tMOCAGE:LNO &  1 &   7498.8544 & 817 &  643046.7 &  12.2114798 &  5.014127e-04\\\\\n",
       "\tTEMPE:STATION &  4 &  10079.5913 & 813 &  632967.1 &   4.1035177 &  2.681764e-03\\\\\n",
       "\tTEMPE:VentMOD &  1 &   3698.7762 & 812 &  629268.4 &   6.0232575 &  1.433333e-02\\\\\n",
       "\tTEMPE:VentANG &  1 &  11807.2735 & 811 &  617461.1 &  19.2275078 &  1.317325e-05\\\\\n",
       "\tTEMPE:SRMH2O &  1 &  41395.1197 & 810 &  576066.0 &  67.4097190 &  8.959821e-16\\\\\n",
       "\tTEMPE:LNO2 &  1 &  17788.6182 & 809 &  558277.4 &  28.9678051 &  9.707807e-08\\\\\n",
       "\tTEMPE:LNO &  1 &   7007.4383 & 808 &  551269.9 &  11.4112353 &  7.657581e-04\\\\\n",
       "\tSTATION:VentMOD &  4 &   3104.0582 & 804 &  548165.9 &   1.2636978 &  2.827053e-01\\\\\n",
       "\tSTATION:SRMH2O &  4 &  19622.2380 & 800 &  528543.6 &   7.9884390 &  2.580211e-06\\\\\n",
       "\tSTATION:LNO2 &  4 &  13822.5121 & 796 &  514721.1 &   5.6273038 &  1.809803e-04\\\\\n",
       "\tVentMOD:SRMH2O &  1 &   1213.3495 & 795 &  513507.8 &   1.9758743 &  1.602189e-01\\\\\n",
       "\tVentANG:SRMH2O &  1 &    618.2969 & 794 &  512889.5 &   1.0068631 &  3.159628e-01\\\\\n",
       "\tVentANG:LNO2 &  1 &   1374.8292 & 793 &  511514.6 &   2.2388352 &  1.349817e-01\\\\\n",
       "\tVentANG:LNO &  1 &  21205.1488 & 792 &  490309.5 &  34.5314408 &  6.181379e-09\\\\\n",
       "\tSRMH2O:LNO2 &  1 &    364.8414 & 791 &  489944.6 &   0.5941246 &  4.410590e-01\\\\\n",
       "\tSRMH2O:LNO &  1 &   4819.5703 & 790 &  485125.1 &   7.8484102 &  5.210926e-03\\\\\n",
       "\\end{tabular}\n"
      ],
      "text/markdown": [
       "\n",
       "A anova: 27 × 6\n",
       "\n",
       "| <!--/--> | Df &lt;int&gt; | Deviance &lt;dbl&gt; | Resid. Df &lt;int&gt; | Resid. Dev &lt;dbl&gt; | F &lt;dbl&gt; | Pr(&gt;F) &lt;dbl&gt; |\n",
       "|---|---|---|---|---|---|---|\n",
       "| NULL | NA |          NA | 831 | 1394332.0 |          NA |            NA |\n",
       "| MOCAGE |  1 | 469071.2081 | 830 |  925260.8 | 763.8571548 | 3.647061e-118 |\n",
       "| TEMPE |  1 | 225512.0241 | 829 |  699748.7 | 367.2341644 |  1.630666e-67 |\n",
       "| STATION |  4 |  10252.6125 | 825 |  689496.1 |   4.1739566 |  2.371040e-03 |\n",
       "| VentMOD |  1 |  14316.7164 | 824 |  675179.4 |  23.3140002 |  1.652264e-06 |\n",
       "| VentANG |  1 |  10355.9415 | 823 |  664823.5 |  16.8640919 |  4.433664e-05 |\n",
       "| SRMH2O |  1 |    244.5782 | 822 |  664578.9 |   0.3982825 |  5.281601e-01 |\n",
       "| LNO2 |  1 |   3273.0334 | 821 |  661305.9 |   5.3299583 |  2.121919e-02 |\n",
       "| LNO |  1 |   9138.5263 | 820 |  652167.3 |  14.8815971 |  1.238032e-04 |\n",
       "| MOCAGE:VentANG |  1 |    229.4027 | 819 |  651937.9 |   0.3735699 |  5.412406e-01 |\n",
       "| MOCAGE:LNO2 |  1 |   1392.3531 | 818 |  650545.6 |   2.2673720 |  1.325235e-01 |\n",
       "| MOCAGE:LNO |  1 |   7498.8544 | 817 |  643046.7 |  12.2114798 |  5.014127e-04 |\n",
       "| TEMPE:STATION |  4 |  10079.5913 | 813 |  632967.1 |   4.1035177 |  2.681764e-03 |\n",
       "| TEMPE:VentMOD |  1 |   3698.7762 | 812 |  629268.4 |   6.0232575 |  1.433333e-02 |\n",
       "| TEMPE:VentANG |  1 |  11807.2735 | 811 |  617461.1 |  19.2275078 |  1.317325e-05 |\n",
       "| TEMPE:SRMH2O |  1 |  41395.1197 | 810 |  576066.0 |  67.4097190 |  8.959821e-16 |\n",
       "| TEMPE:LNO2 |  1 |  17788.6182 | 809 |  558277.4 |  28.9678051 |  9.707807e-08 |\n",
       "| TEMPE:LNO |  1 |   7007.4383 | 808 |  551269.9 |  11.4112353 |  7.657581e-04 |\n",
       "| STATION:VentMOD |  4 |   3104.0582 | 804 |  548165.9 |   1.2636978 |  2.827053e-01 |\n",
       "| STATION:SRMH2O |  4 |  19622.2380 | 800 |  528543.6 |   7.9884390 |  2.580211e-06 |\n",
       "| STATION:LNO2 |  4 |  13822.5121 | 796 |  514721.1 |   5.6273038 |  1.809803e-04 |\n",
       "| VentMOD:SRMH2O |  1 |   1213.3495 | 795 |  513507.8 |   1.9758743 |  1.602189e-01 |\n",
       "| VentANG:SRMH2O |  1 |    618.2969 | 794 |  512889.5 |   1.0068631 |  3.159628e-01 |\n",
       "| VentANG:LNO2 |  1 |   1374.8292 | 793 |  511514.6 |   2.2388352 |  1.349817e-01 |\n",
       "| VentANG:LNO |  1 |  21205.1488 | 792 |  490309.5 |  34.5314408 |  6.181379e-09 |\n",
       "| SRMH2O:LNO2 |  1 |    364.8414 | 791 |  489944.6 |   0.5941246 |  4.410590e-01 |\n",
       "| SRMH2O:LNO |  1 |   4819.5703 | 790 |  485125.1 |   7.8484102 |  5.210926e-03 |\n",
       "\n"
      ],
      "text/plain": [
       "                Df Deviance    Resid. Df Resid. Dev F           Pr(>F)       \n",
       "NULL            NA          NA 831       1394332.0           NA            NA\n",
       "MOCAGE           1 469071.2081 830        925260.8  763.8571548 3.647061e-118\n",
       "TEMPE            1 225512.0241 829        699748.7  367.2341644  1.630666e-67\n",
       "STATION          4  10252.6125 825        689496.1    4.1739566  2.371040e-03\n",
       "VentMOD          1  14316.7164 824        675179.4   23.3140002  1.652264e-06\n",
       "VentANG          1  10355.9415 823        664823.5   16.8640919  4.433664e-05\n",
       "SRMH2O           1    244.5782 822        664578.9    0.3982825  5.281601e-01\n",
       "LNO2             1   3273.0334 821        661305.9    5.3299583  2.121919e-02\n",
       "LNO              1   9138.5263 820        652167.3   14.8815971  1.238032e-04\n",
       "MOCAGE:VentANG   1    229.4027 819        651937.9    0.3735699  5.412406e-01\n",
       "MOCAGE:LNO2      1   1392.3531 818        650545.6    2.2673720  1.325235e-01\n",
       "MOCAGE:LNO       1   7498.8544 817        643046.7   12.2114798  5.014127e-04\n",
       "TEMPE:STATION    4  10079.5913 813        632967.1    4.1035177  2.681764e-03\n",
       "TEMPE:VentMOD    1   3698.7762 812        629268.4    6.0232575  1.433333e-02\n",
       "TEMPE:VentANG    1  11807.2735 811        617461.1   19.2275078  1.317325e-05\n",
       "TEMPE:SRMH2O     1  41395.1197 810        576066.0   67.4097190  8.959821e-16\n",
       "TEMPE:LNO2       1  17788.6182 809        558277.4   28.9678051  9.707807e-08\n",
       "TEMPE:LNO        1   7007.4383 808        551269.9   11.4112353  7.657581e-04\n",
       "STATION:VentMOD  4   3104.0582 804        548165.9    1.2636978  2.827053e-01\n",
       "STATION:SRMH2O   4  19622.2380 800        528543.6    7.9884390  2.580211e-06\n",
       "STATION:LNO2     4  13822.5121 796        514721.1    5.6273038  1.809803e-04\n",
       "VentMOD:SRMH2O   1   1213.3495 795        513507.8    1.9758743  1.602189e-01\n",
       "VentANG:SRMH2O   1    618.2969 794        512889.5    1.0068631  3.159628e-01\n",
       "VentANG:LNO2     1   1374.8292 793        511514.6    2.2388352  1.349817e-01\n",
       "VentANG:LNO      1  21205.1488 792        490309.5   34.5314408  6.181379e-09\n",
       "SRMH2O:LNO2      1    364.8414 791        489944.6    0.5941246  4.410590e-01\n",
       "SRMH2O:LNO       1   4819.5703 790        485125.1    7.8484102  5.210926e-03"
      ]
     },
     "metadata": {},
     "output_type": "display_data"
    }
   ],
   "source": [
    "# Coefficients du modèle\n",
    "anova(reg.glm.step, test = \"F\")"
   ]
  },
  {
   "cell_type": "markdown",
   "metadata": {},
   "source": [
    "#### Sélection de variable par régularisation L1 (LASSO)"
   ]
  },
  {
   "cell_type": "code",
   "execution_count": 43,
   "metadata": {},
   "outputs": [
    {
     "data": {
      "text/plain": [
       "74 x 1 sparse Matrix of class \"dgCMatrix\"\n",
       "                              1\n",
       "(Intercept)         29.78872739\n",
       "JOUR0                .         \n",
       "JOUR1                .         \n",
       "MOCAGE               .         \n",
       "TEMPE                1.26885748\n",
       "STATIONAls           .         \n",
       "STATIONCad           .         \n",
       "STATIONPla           .         \n",
       "STATIONRam           .         \n",
       "VentMOD              .         \n",
       "VentANG              .         \n",
       "SRMH2O               .         \n",
       "LNO2                 .         \n",
       "LNO                  .         \n",
       "JOUR1:MOCAGE         .         \n",
       "JOUR1:TEMPE          .         \n",
       "JOUR1:STATIONAls     .         \n",
       "JOUR1:STATIONCad     .         \n",
       "JOUR1:STATIONPla     .         \n",
       "JOUR1:STATIONRam     .         \n",
       "JOUR1:VentMOD        .         \n",
       "JOUR1:VentANG        .         \n",
       "JOUR1:SRMH2O         .         \n",
       "JOUR1:LNO2           .         \n",
       "JOUR1:LNO            .         \n",
       "MOCAGE:TEMPE         0.01332892\n",
       "MOCAGE:STATIONAls    .         \n",
       "MOCAGE:STATIONCad    .         \n",
       "MOCAGE:STATIONPla    .         \n",
       "MOCAGE:STATIONRam    .         \n",
       "MOCAGE:VentMOD       .         \n",
       "MOCAGE:VentANG       .         \n",
       "MOCAGE:SRMH2O        .         \n",
       "MOCAGE:LNO2          .         \n",
       "MOCAGE:LNO           .         \n",
       "TEMPE:STATIONAls     .         \n",
       "TEMPE:STATIONCad     .         \n",
       "TEMPE:STATIONPla     .         \n",
       "TEMPE:STATIONRam     .         \n",
       "TEMPE:VentMOD        .         \n",
       "TEMPE:VentANG        0.09319758\n",
       "TEMPE:SRMH2O         5.32487865\n",
       "TEMPE:LNO2           .         \n",
       "TEMPE:LNO            .         \n",
       "STATIONAls:VentMOD   .         \n",
       "STATIONCad:VentMOD   .         \n",
       "STATIONPla:VentMOD   .         \n",
       "STATIONRam:VentMOD   .         \n",
       "STATIONAls:VentANG   .         \n",
       "STATIONCad:VentANG   3.01531902\n",
       "STATIONPla:VentANG   .         \n",
       "STATIONRam:VentANG   .         \n",
       "STATIONAls:SRMH2O  -10.99269443\n",
       "STATIONCad:SRMH2O    .         \n",
       "STATIONPla:SRMH2O  107.51990615\n",
       "STATIONRam:SRMH2O    .         \n",
       "STATIONAls:LNO2      .         \n",
       "STATIONCad:LNO2      4.09456668\n",
       "STATIONPla:LNO2      .         \n",
       "STATIONRam:LNO2      .         \n",
       "STATIONAls:LNO       .         \n",
       "STATIONCad:LNO       .         \n",
       "STATIONPla:LNO       .         \n",
       "STATIONRam:LNO       3.28004996\n",
       "VentMOD:VentANG      0.25495325\n",
       "VentMOD:SRMH2O      -3.04260782\n",
       "VentMOD:LNO2         .         \n",
       "VentMOD:LNO          0.01206904\n",
       "VentANG:SRMH2O       .         \n",
       "VentANG:LNO2         .         \n",
       "VentANG:LNO          .         \n",
       "SRMH2O:LNO2          .         \n",
       "SRMH2O:LNO           .         \n",
       "LNO2:LNO             .         "
      ]
     },
     "metadata": {},
     "output_type": "display_data"
    }
   ],
   "source": [
    "# Comparer avec un modèle quadratique avec pénalité L1\n",
    "x.mat2 <- model.matrix(O3obs ~ .^2 - 1, data = datappr)\n",
    "reg.lasso2.cv <- cv.glmnet(y = datappr[, \"O3obs\"], x = x.mat2)\n",
    "coef(reg.lasso2.cv, s = \"lambda.1se\")"
   ]
  },
  {
   "cell_type": "code",
   "execution_count": 44,
   "metadata": {
    "ExecuteTime": {
     "end_time": "2019-11-18T09:23:44.635351Z",
     "start_time": "2019-11-18T09:22:04.520Z"
    }
   },
   "outputs": [
    {
     "data": {
      "image/png": "[encoded data removed]",
      "text/plain": [
       "Plot with title \"quadratique, pénalité L1\""
      ]
     },
     "metadata": {
      "image/png": {
       "height": 480,
       "width": 480
      }
     },
     "output_type": "display_data"
    }
   ],
   "source": [
    "# Extraction des valeurs ajustées et des résidus\n",
    "fit.glm <- reg.glm.step$fitted.values\n",
    "res.glm <- reg.glm.step$residuals\n",
    "fit.lasso2 <- predict(reg.lasso2.cv, s = \"lambda.min\", newx = x.mat2)\n",
    "res.lasso2 <- datappr$O3obs - fit.lasso2\n",
    "\n",
    "# Graphe des résidus\n",
    "options(repr.plot.width = 8, repr.plot.height = 8)\n",
    "par(mfrow = c(2, 2))\n",
    "plot.res(fit.lm, res.lm, \"linéaire\")\n",
    "plot.res(fit.lasso, res.lasso, \"linéaire, pénalité L1\")\n",
    "plot.res(fit.glm, res.glm, \"quadratique, backward AIC\")\n",
    "plot.res(fit.lasso2, res.lasso2, \"quadratique, pénalité L1\")"
   ]
  },
  {
   "cell_type": "markdown",
   "metadata": {},
   "source": [
    " On remarque que la présence de certains interactions ou variables sont pertinentes au sens du critère d'Akaïke mais pas significative au sens du test de Fisher. Cette présence dans le modèle pourrait être plus finement analysée en considérant une estimation de l'erreur par validation croisée. L'idée serait de retirer une à une les variables ou interactions les moins significatives pour voir comment se comporte la validation croisée. D'autre part, si la procédure pas-à-pas conduit à un modèle différent, l'estimation de l'erreur par validation croisée permet également d'optimiser le choix.\n",
    " \n",
    "Ces raffinements ne s'avèrent pas efficaces sur ces données. Le modèle obtenu par minimisaiton du critère AIC est conservé."
   ]
  },
  {
   "cell_type": "markdown",
   "metadata": {},
   "source": [
    "### Prévision de l'échantillon test"
   ]
  },
  {
   "cell_type": "markdown",
   "metadata": {},
   "source": [
    "Le modèle \"optimal\" obtenu par la méthode stepwise est utilisé pour prédire l'échantillon test et estimer ainsi, sans biais, une erreur de prévision. Deux erreurs sont estimées ; la première est celle quadratique pour la régression tandis que la deuxième est issue de la matrice de confusion qui croise les dépassements de seuils prédits avec ceux effectivement observés. "
   ]
  },
  {
   "cell_type": "markdown",
   "metadata": {},
   "source": [
    "#### Erreur de régression"
   ]
  },
  {
   "cell_type": "code",
   "execution_count": 45,
   "metadata": {
    "ExecuteTime": {
     "end_time": "2019-11-18T09:23:44.652288Z",
     "start_time": "2019-11-18T09:22:05.132Z"
    }
   },
   "outputs": [
    {
     "data": {
      "text/html": [
       "601.587387647204"
      ],
      "text/latex": [
       "601.587387647204"
      ],
      "text/markdown": [
       "601.587387647204"
      ],
      "text/plain": [
       "[1] 601.5874"
      ]
     },
     "metadata": {},
     "output_type": "display_data"
    }
   ],
   "source": [
    "# Calcul des prévisions pour le nomdèle quadratique backward AIC\n",
    "pred.glm <- predict(reg.glm.step, newdata = datestr)\n",
    "# Erreur quadratique moyenne de prévision (MSE)\n",
    "sum((pred.glm - datestr[, \"O3obs\"])^2) / nrow(datestr)"
   ]
  },
  {
   "cell_type": "code",
   "execution_count": 46,
   "metadata": {
    "ExecuteTime": {
     "end_time": "2019-11-18T09:23:44.669514Z",
     "start_time": "2019-11-18T09:22:05.139Z"
    }
   },
   "outputs": [
    {
     "data": {
      "text/html": [
       "1384.50306220096"
      ],
      "text/latex": [
       "1384.50306220096"
      ],
      "text/markdown": [
       "1384.50306220096"
      ],
      "text/plain": [
       "[1] 1384.503"
      ]
     },
     "metadata": {},
     "output_type": "display_data"
    }
   ],
   "source": [
    "# Erreur quadratique par MOCAGE\n",
    "sum((datestr[,\"MOCAGE\"] - datestr[,\"O3obs\"])^2) / nrow(datestr)"
   ]
  },
  {
   "cell_type": "markdown",
   "metadata": {},
   "source": [
    "#### Erreur de classification (matrice de confusion)"
   ]
  },
  {
   "cell_type": "code",
   "execution_count": 47,
   "metadata": {
    "ExecuteTime": {
     "end_time": "2019-11-18T09:23:44.689237Z",
     "start_time": "2019-11-18T09:22:05.144Z"
    }
   },
   "outputs": [
    {
     "data": {
      "text/plain": [
       "       \n",
       "        FALSE TRUE\n",
       "  FALSE   161   19\n",
       "  TRUE      5   24"
      ]
     },
     "metadata": {},
     "output_type": "display_data"
    }
   ],
   "source": [
    "# Matrice de confusion pour la prévision du dépassement de seuil\n",
    "table(pred.glm > 150, datestr[, \"O3obs\"] > 150)"
   ]
  },
  {
   "cell_type": "code",
   "execution_count": 48,
   "metadata": {
    "ExecuteTime": {
     "end_time": "2019-11-18T09:23:44.714261Z",
     "start_time": "2019-11-18T09:22:05.150Z"
    }
   },
   "outputs": [
    {
     "data": {
      "text/plain": [
       "       \n",
       "        FALSE TRUE\n",
       "  FALSE   141   19\n",
       "  TRUE     25   24"
      ]
     },
     "metadata": {},
     "output_type": "display_data"
    }
   ],
   "source": [
    "# Matrice de confusion pour la prévision du \n",
    "# dépassement de seuil par MOCAGE\n",
    "table(datestr[, \"MOCAGE\"] > 150, datestr[, \"O3obs\"] > 150)"
   ]
  },
  {
   "cell_type": "markdown",
   "metadata": {},
   "source": [
    "Noter ces erreurs pour les comparer avec celles obtenues par les autres méthodes. Noter l'asymétrie des erreurs."
   ]
  },
  {
   "cell_type": "markdown",
   "metadata": {},
   "source": [
    "## [Prévision par modèle binomial](http://wikistat.fr/pdf/st-m-app-rlogit.pdf)\n",
    "\n",
    "Plutôt que de prévoir la concentration puis le dépassement, on peut se poser la question de savoir s'il ne serait pas pertinent de prévoir directement la présence ou l'absence d'un dépassement. La variable à modéliser étant binaire, c'est la régression logistique qui va être employée. Comme pour la régression, différentes stratégies de choix de modèle peuvent être utilisées et comparées avant d'estimer l'erreur de prévision sur l'échantillon test.\n",
    "\n",
    "### Régression logistique sans interaction"
   ]
  },
  {
   "cell_type": "code",
   "execution_count": 49,
   "metadata": {
    "ExecuteTime": {
     "end_time": "2019-11-18T09:23:44.819132Z",
     "start_time": "2019-11-18T09:22:05.557Z"
    }
   },
   "outputs": [
    {
     "data": {
      "text/html": [
       "<table class=\"dataframe\">\n",
       "<caption>A anova: 10 × 5</caption>\n",
       "<thead>\n",
       "\t<tr><th></th><th scope=col>Df</th><th scope=col>Deviance</th><th scope=col>Resid. Df</th><th scope=col>Resid. Dev</th><th scope=col>Pr(&gt;Chi)</th></tr>\n",
       "\t<tr><th></th><th scope=col>&lt;int&gt;</th><th scope=col>&lt;dbl&gt;</th><th scope=col>&lt;int&gt;</th><th scope=col>&lt;dbl&gt;</th><th scope=col>&lt;dbl&gt;</th></tr>\n",
       "</thead>\n",
       "<tbody>\n",
       "\t<tr><th scope=row>NULL</th><td>NA</td><td>         NA</td><td>831</td><td>737.8141</td><td>          NA</td></tr>\n",
       "\t<tr><th scope=row>JOUR</th><td> 1</td><td>  0.4443555</td><td>830</td><td>737.3698</td><td>5.050277e-01</td></tr>\n",
       "\t<tr><th scope=row>MOCAGE</th><td> 1</td><td>125.2166123</td><td>829</td><td>612.1532</td><td>4.563158e-29</td></tr>\n",
       "\t<tr><th scope=row>TEMPE</th><td> 1</td><td>136.8421803</td><td>828</td><td>475.3110</td><td>1.305601e-31</td></tr>\n",
       "\t<tr><th scope=row>STATION</th><td> 4</td><td> 16.9891229</td><td>824</td><td>458.3219</td><td>1.942378e-03</td></tr>\n",
       "\t<tr><th scope=row>VentMOD</th><td> 1</td><td> 11.7860664</td><td>823</td><td>446.5358</td><td>5.967570e-04</td></tr>\n",
       "\t<tr><th scope=row>VentANG</th><td> 1</td><td>  0.8373860</td><td>822</td><td>445.6984</td><td>3.601454e-01</td></tr>\n",
       "\t<tr><th scope=row>SRMH2O</th><td> 1</td><td>  6.4120067</td><td>821</td><td>439.2864</td><td>1.133512e-02</td></tr>\n",
       "\t<tr><th scope=row>LNO2</th><td> 1</td><td>  0.1893011</td><td>820</td><td>439.0971</td><td>6.634989e-01</td></tr>\n",
       "\t<tr><th scope=row>LNO</th><td> 1</td><td>  5.3778575</td><td>819</td><td>433.7192</td><td>2.039391e-02</td></tr>\n",
       "</tbody>\n",
       "</table>\n"
      ],
      "text/latex": [
       "A anova: 10 × 5\n",
       "\\begin{tabular}{r|lllll}\n",
       "  & Df & Deviance & Resid. Df & Resid. Dev & Pr(>Chi)\\\\\n",
       "  & <int> & <dbl> & <int> & <dbl> & <dbl>\\\\\n",
       "\\hline\n",
       "\tNULL & NA &          NA & 831 & 737.8141 &           NA\\\\\n",
       "\tJOUR &  1 &   0.4443555 & 830 & 737.3698 & 5.050277e-01\\\\\n",
       "\tMOCAGE &  1 & 125.2166123 & 829 & 612.1532 & 4.563158e-29\\\\\n",
       "\tTEMPE &  1 & 136.8421803 & 828 & 475.3110 & 1.305601e-31\\\\\n",
       "\tSTATION &  4 &  16.9891229 & 824 & 458.3219 & 1.942378e-03\\\\\n",
       "\tVentMOD &  1 &  11.7860664 & 823 & 446.5358 & 5.967570e-04\\\\\n",
       "\tVentANG &  1 &   0.8373860 & 822 & 445.6984 & 3.601454e-01\\\\\n",
       "\tSRMH2O &  1 &   6.4120067 & 821 & 439.2864 & 1.133512e-02\\\\\n",
       "\tLNO2 &  1 &   0.1893011 & 820 & 439.0971 & 6.634989e-01\\\\\n",
       "\tLNO &  1 &   5.3778575 & 819 & 433.7192 & 2.039391e-02\\\\\n",
       "\\end{tabular}\n"
      ],
      "text/markdown": [
       "\n",
       "A anova: 10 × 5\n",
       "\n",
       "| <!--/--> | Df &lt;int&gt; | Deviance &lt;dbl&gt; | Resid. Df &lt;int&gt; | Resid. Dev &lt;dbl&gt; | Pr(&gt;Chi) &lt;dbl&gt; |\n",
       "|---|---|---|---|---|---|\n",
       "| NULL | NA |          NA | 831 | 737.8141 |           NA |\n",
       "| JOUR |  1 |   0.4443555 | 830 | 737.3698 | 5.050277e-01 |\n",
       "| MOCAGE |  1 | 125.2166123 | 829 | 612.1532 | 4.563158e-29 |\n",
       "| TEMPE |  1 | 136.8421803 | 828 | 475.3110 | 1.305601e-31 |\n",
       "| STATION |  4 |  16.9891229 | 824 | 458.3219 | 1.942378e-03 |\n",
       "| VentMOD |  1 |  11.7860664 | 823 | 446.5358 | 5.967570e-04 |\n",
       "| VentANG |  1 |   0.8373860 | 822 | 445.6984 | 3.601454e-01 |\n",
       "| SRMH2O |  1 |   6.4120067 | 821 | 439.2864 | 1.133512e-02 |\n",
       "| LNO2 |  1 |   0.1893011 | 820 | 439.0971 | 6.634989e-01 |\n",
       "| LNO |  1 |   5.3778575 | 819 | 433.7192 | 2.039391e-02 |\n",
       "\n"
      ],
      "text/plain": [
       "        Df Deviance    Resid. Df Resid. Dev Pr(>Chi)    \n",
       "NULL    NA          NA 831       737.8141             NA\n",
       "JOUR     1   0.4443555 830       737.3698   5.050277e-01\n",
       "MOCAGE   1 125.2166123 829       612.1532   4.563158e-29\n",
       "TEMPE    1 136.8421803 828       475.3110   1.305601e-31\n",
       "STATION  4  16.9891229 824       458.3219   1.942378e-03\n",
       "VentMOD  1  11.7860664 823       446.5358   5.967570e-04\n",
       "VentANG  1   0.8373860 822       445.6984   3.601454e-01\n",
       "SRMH2O   1   6.4120067 821       439.2864   1.133512e-02\n",
       "LNO2     1   0.1893011 820       439.0971   6.634989e-01\n",
       "LNO      1   5.3778575 819       433.7192   2.039391e-02"
      ]
     },
     "metadata": {},
     "output_type": "display_data"
    }
   ],
   "source": [
    "# estimation du modèle complet\n",
    "log.lm <- glm(DepSeuil ~. , data = datappq, family = binomial)\n",
    "# significativité des paramètres\n",
    "anova(log.lm, test = \"Chisq\")"
   ]
  },
  {
   "cell_type": "code",
   "execution_count": 50,
   "metadata": {
    "ExecuteTime": {
     "end_time": "2019-11-18T09:23:45.012876Z",
     "start_time": "2019-11-18T09:22:05.564Z"
    }
   },
   "outputs": [
    {
     "name": "stdout",
     "output_type": "stream",
     "text": [
      "Start:  AIC=459.72\n",
      "DepSeuil ~ JOUR + MOCAGE + TEMPE + STATION + VentMOD + VentANG + \n",
      "    SRMH2O + LNO2 + LNO\n",
      "\n",
      "          Df Deviance    AIC\n",
      "- MOCAGE   1   434.25 458.25\n",
      "- JOUR     1   434.36 458.36\n",
      "- VentANG  1   434.60 458.60\n",
      "<none>         433.72 459.72\n",
      "- LNO      1   439.10 463.10\n",
      "- LNO2     1   439.21 463.21\n",
      "- SRMH2O   1   440.49 464.49\n",
      "- VentMOD  1   440.90 464.90\n",
      "- STATION  4   455.47 473.47\n",
      "- TEMPE    1   550.99 574.99\n",
      "\n",
      "Step:  AIC=458.25\n",
      "DepSeuil ~ JOUR + TEMPE + STATION + VentMOD + VentANG + SRMH2O + \n",
      "    LNO2 + LNO\n",
      "\n",
      "          Df Deviance    AIC\n",
      "- JOUR     1   434.79 456.79\n",
      "- VentANG  1   435.23 457.23\n",
      "<none>         434.25 458.25\n",
      "- SRMH2O   1   441.49 463.49\n",
      "- VentMOD  1   442.86 464.86\n",
      "- LNO      1   447.00 469.00\n",
      "- LNO2     1   451.13 473.13\n",
      "- STATION  4   471.33 487.33\n",
      "- TEMPE    1   558.59 580.59\n",
      "\n",
      "Step:  AIC=456.79\n",
      "DepSeuil ~ TEMPE + STATION + VentMOD + VentANG + SRMH2O + LNO2 + \n",
      "    LNO\n",
      "\n",
      "          Df Deviance    AIC\n",
      "- VentANG  1   436.01 456.01\n",
      "<none>         434.79 456.79\n",
      "- SRMH2O   1   442.19 462.19\n",
      "- VentMOD  1   443.47 463.47\n",
      "- LNO      1   447.38 467.38\n",
      "- LNO2     1   451.41 471.41\n",
      "- STATION  4   472.00 486.00\n",
      "- TEMPE    1   559.99 579.99\n",
      "\n",
      "Step:  AIC=456.01\n",
      "DepSeuil ~ TEMPE + STATION + VentMOD + SRMH2O + LNO2 + LNO\n",
      "\n",
      "          Df Deviance    AIC\n",
      "<none>         436.01 456.01\n",
      "- SRMH2O   1   443.83 461.83\n",
      "- VentMOD  1   446.97 464.97\n",
      "- LNO      1   448.16 466.16\n",
      "- LNO2     1   452.55 470.55\n",
      "- STATION  4   475.30 487.30\n",
      "- TEMPE    1   565.19 583.19\n"
     ]
    }
   ],
   "source": [
    "# Recherche d'un modèle optimal au sens d'Akaïke\n",
    "log.lm.step <- step(log.lm, direction = \"backward\")"
   ]
  },
  {
   "cell_type": "code",
   "execution_count": 51,
   "metadata": {
    "ExecuteTime": {
     "end_time": "2019-11-18T09:23:45.052862Z",
     "start_time": "2019-11-18T09:22:05.570Z"
    }
   },
   "outputs": [
    {
     "data": {
      "text/html": [
       "<table class=\"dataframe\">\n",
       "<caption>A anova: 7 × 5</caption>\n",
       "<thead>\n",
       "\t<tr><th></th><th scope=col>Df</th><th scope=col>Deviance</th><th scope=col>Resid. Df</th><th scope=col>Resid. Dev</th><th scope=col>Pr(&gt;Chi)</th></tr>\n",
       "\t<tr><th></th><th scope=col>&lt;int&gt;</th><th scope=col>&lt;dbl&gt;</th><th scope=col>&lt;int&gt;</th><th scope=col>&lt;dbl&gt;</th><th scope=col>&lt;dbl&gt;</th></tr>\n",
       "</thead>\n",
       "<tbody>\n",
       "\t<tr><th scope=row>NULL</th><td>NA</td><td>        NA</td><td>831</td><td>737.8141</td><td>          NA</td></tr>\n",
       "\t<tr><th scope=row>TEMPE</th><td> 1</td><td>214.189011</td><td>830</td><td>523.6251</td><td>1.674882e-48</td></tr>\n",
       "\t<tr><th scope=row>STATION</th><td> 4</td><td> 32.315989</td><td>826</td><td>491.3091</td><td>1.648689e-06</td></tr>\n",
       "\t<tr><th scope=row>VentMOD</th><td> 1</td><td> 29.015384</td><td>825</td><td>462.2937</td><td>7.180577e-08</td></tr>\n",
       "\t<tr><th scope=row>SRMH2O</th><td> 1</td><td>  9.116772</td><td>824</td><td>453.1770</td><td>2.532764e-03</td></tr>\n",
       "\t<tr><th scope=row>LNO2</th><td> 1</td><td>  5.017192</td><td>823</td><td>448.1598</td><td>2.509684e-02</td></tr>\n",
       "\t<tr><th scope=row>LNO</th><td> 1</td><td> 12.150777</td><td>822</td><td>436.0090</td><td>4.906743e-04</td></tr>\n",
       "</tbody>\n",
       "</table>\n"
      ],
      "text/latex": [
       "A anova: 7 × 5\n",
       "\\begin{tabular}{r|lllll}\n",
       "  & Df & Deviance & Resid. Df & Resid. Dev & Pr(>Chi)\\\\\n",
       "  & <int> & <dbl> & <int> & <dbl> & <dbl>\\\\\n",
       "\\hline\n",
       "\tNULL & NA &         NA & 831 & 737.8141 &           NA\\\\\n",
       "\tTEMPE &  1 & 214.189011 & 830 & 523.6251 & 1.674882e-48\\\\\n",
       "\tSTATION &  4 &  32.315989 & 826 & 491.3091 & 1.648689e-06\\\\\n",
       "\tVentMOD &  1 &  29.015384 & 825 & 462.2937 & 7.180577e-08\\\\\n",
       "\tSRMH2O &  1 &   9.116772 & 824 & 453.1770 & 2.532764e-03\\\\\n",
       "\tLNO2 &  1 &   5.017192 & 823 & 448.1598 & 2.509684e-02\\\\\n",
       "\tLNO &  1 &  12.150777 & 822 & 436.0090 & 4.906743e-04\\\\\n",
       "\\end{tabular}\n"
      ],
      "text/markdown": [
       "\n",
       "A anova: 7 × 5\n",
       "\n",
       "| <!--/--> | Df &lt;int&gt; | Deviance &lt;dbl&gt; | Resid. Df &lt;int&gt; | Resid. Dev &lt;dbl&gt; | Pr(&gt;Chi) &lt;dbl&gt; |\n",
       "|---|---|---|---|---|---|\n",
       "| NULL | NA |         NA | 831 | 737.8141 |           NA |\n",
       "| TEMPE |  1 | 214.189011 | 830 | 523.6251 | 1.674882e-48 |\n",
       "| STATION |  4 |  32.315989 | 826 | 491.3091 | 1.648689e-06 |\n",
       "| VentMOD |  1 |  29.015384 | 825 | 462.2937 | 7.180577e-08 |\n",
       "| SRMH2O |  1 |   9.116772 | 824 | 453.1770 | 2.532764e-03 |\n",
       "| LNO2 |  1 |   5.017192 | 823 | 448.1598 | 2.509684e-02 |\n",
       "| LNO |  1 |  12.150777 | 822 | 436.0090 | 4.906743e-04 |\n",
       "\n"
      ],
      "text/plain": [
       "        Df Deviance   Resid. Df Resid. Dev Pr(>Chi)    \n",
       "NULL    NA         NA 831       737.8141             NA\n",
       "TEMPE    1 214.189011 830       523.6251   1.674882e-48\n",
       "STATION  4  32.315989 826       491.3091   1.648689e-06\n",
       "VentMOD  1  29.015384 825       462.2937   7.180577e-08\n",
       "SRMH2O   1   9.116772 824       453.1770   2.532764e-03\n",
       "LNO2     1   5.017192 823       448.1598   2.509684e-02\n",
       "LNO      1  12.150777 822       436.0090   4.906743e-04"
      ]
     },
     "metadata": {},
     "output_type": "display_data"
    }
   ],
   "source": [
    "# Modèle obtenu\n",
    "anova(log.lm.step, test = \"Chisq\")"
   ]
  },
  {
   "cell_type": "code",
   "execution_count": 52,
   "metadata": {
    "ExecuteTime": {
     "end_time": "2019-11-18T09:23:45.074743Z",
     "start_time": "2019-11-18T09:22:05.576Z"
    }
   },
   "outputs": [
    {
     "data": {
      "text/plain": [
       "       \n",
       "        FALSE TRUE\n",
       "  FALSE   673   70\n",
       "  TRUE     24   65"
      ]
     },
     "metadata": {},
     "output_type": "display_data"
    }
   ],
   "source": [
    "# matrice de confusion de l'échantillon d'apprentissage et erreur apparente\n",
    "table(log.lm.step$fitted.values > 0.5, datappq[, \"DepSeuil\"])"
   ]
  },
  {
   "cell_type": "markdown",
   "metadata": {},
   "source": [
    "### Régression logistique avec interactions"
   ]
  },
  {
   "cell_type": "markdown",
   "metadata": {},
   "source": [
    "Avec autant de variables et d'interactions donc de paramètres, l'estimation du modèle complet de régression logistique  rencontre des soucis et affiche des *warnings* car certaines probabilité trop bien ajustés (0 ou 1) provoquent des divisions par 0. Ici une procédure *forward* ou  mieux *stepwise* de sélection des variables et interactions  conduit à des résultats raisonnables. Une méthode avec pénalisation L1 peut aussi être utilisée."
   ]
  },
  {
   "cell_type": "code",
   "execution_count": 53,
   "metadata": {
    "ExecuteTime": {
     "end_time": "2019-11-18T09:23:46.096169Z",
     "start_time": "2019-11-18T09:22:05.997Z"
    }
   },
   "outputs": [
    {
     "name": "stdout",
     "output_type": "stream",
     "text": [
      "Start:  AIC=739.81\n",
      "DepSeuil ~ 1\n",
      "\n",
      "          Df Deviance    AIC\n",
      "+ TEMPE    1   523.63 527.63\n",
      "+ MOCAGE   1   613.24 617.24\n",
      "+ SRMH2O   1   683.87 687.87\n",
      "+ VentANG  1   726.72 730.72\n",
      "+ STATION  4   721.68 731.68\n",
      "+ LNO2     1   727.76 731.76\n",
      "+ VentMOD  1   733.38 737.38\n",
      "<none>         737.81 739.81\n",
      "+ LNO      1   736.47 740.47\n",
      "+ JOUR     1   737.37 741.37\n",
      "\n",
      "Step:  AIC=527.63\n",
      "DepSeuil ~ TEMPE\n",
      "\n",
      "          Df Deviance    AIC\n",
      "+ MOCAGE   1   476.67 482.67\n",
      "+ STATION  4   491.31 503.31\n",
      "+ SRMH2O   1   503.12 509.12\n",
      "+ VentMOD  1   515.31 521.31\n",
      "+ VentANG  1   516.54 522.54\n",
      "<none>         523.63 527.63\n",
      "+ LNO      1   521.92 527.92\n",
      "+ JOUR     1   522.78 528.78\n",
      "+ LNO2     1   523.06 529.06\n",
      "- TEMPE    1   737.81 739.81\n",
      "\n",
      "Step:  AIC=482.67\n",
      "DepSeuil ~ TEMPE + MOCAGE\n",
      "\n",
      "               Df Deviance    AIC\n",
      "+ SRMH2O        1   465.50 473.50\n",
      "+ STATION       4   460.11 474.11\n",
      "+ LNO           1   470.23 478.23\n",
      "+ LNO2          1   471.61 479.61\n",
      "+ VentMOD       1   473.42 481.42\n",
      "+ VentANG       1   473.55 481.55\n",
      "<none>              476.67 482.67\n",
      "+ JOUR          1   475.31 483.31\n",
      "+ MOCAGE:TEMPE  1   475.40 483.40\n",
      "- MOCAGE        1   523.63 527.63\n",
      "- TEMPE         1   613.24 617.24\n",
      "\n",
      "Step:  AIC=473.5\n",
      "DepSeuil ~ TEMPE + MOCAGE + SRMH2O\n",
      "\n",
      "                Df Deviance    AIC\n",
      "+ STATION        4   449.57 465.57\n",
      "+ LNO            1   460.12 470.12\n",
      "+ LNO2           1   461.24 471.24\n",
      "<none>               465.50 473.50\n",
      "+ VentANG        1   463.54 473.54\n",
      "+ MOCAGE:TEMPE   1   463.74 473.74\n",
      "+ TEMPE:SRMH2O   1   464.07 474.07\n",
      "+ JOUR           1   464.25 474.25\n",
      "+ VentMOD        1   464.47 474.47\n",
      "+ MOCAGE:SRMH2O  1   465.32 475.32\n",
      "- SRMH2O         1   476.67 482.67\n",
      "- MOCAGE         1   503.12 509.12\n",
      "- TEMPE          1   585.77 591.77\n",
      "\n",
      "Step:  AIC=465.57\n",
      "DepSeuil ~ TEMPE + MOCAGE + SRMH2O + STATION\n",
      "\n",
      "                 Df Deviance    AIC\n",
      "+ VentMOD         1   440.89 458.89\n",
      "+ STATION:SRMH2O  4   435.71 459.71\n",
      "+ TEMPE:STATION   4   436.45 460.45\n",
      "+ VentANG         1   447.31 465.31\n",
      "<none>                449.57 465.57\n",
      "+ JOUR            1   448.13 466.13\n",
      "+ TEMPE:SRMH2O    1   448.45 466.45\n",
      "+ LNO             1   449.12 467.12\n",
      "+ MOCAGE:TEMPE    1   449.40 467.40\n",
      "+ MOCAGE:SRMH2O   1   449.47 467.47\n",
      "+ LNO2            1   449.57 467.57\n",
      "+ MOCAGE:STATION  4   444.97 468.97\n",
      "- STATION         4   465.50 473.50\n",
      "- SRMH2O          1   460.11 474.11\n",
      "- MOCAGE          1   471.95 485.95\n",
      "- TEMPE           1   568.69 582.69\n",
      "\n",
      "Step:  AIC=458.89\n",
      "DepSeuil ~ TEMPE + MOCAGE + SRMH2O + STATION + VentMOD\n",
      "\n",
      "                  Df Deviance    AIC\n",
      "+ VentMOD:SRMH2O   1   433.12 453.12\n",
      "+ STATION:SRMH2O   4   428.25 454.25\n",
      "+ TEMPE:STATION    4   429.21 455.21\n",
      "+ MOCAGE:VentMOD   1   437.86 457.86\n",
      "<none>                 440.89 458.89\n",
      "+ TEMPE:SRMH2O     1   439.14 459.14\n",
      "+ TEMPE:VentMOD    1   439.52 459.52\n",
      "+ STATION:VentMOD  4   433.72 459.72\n",
      "+ JOUR             1   439.89 459.89\n",
      "+ VentANG          1   440.05 460.05\n",
      "+ LNO2             1   440.61 460.61\n",
      "+ MOCAGE:STATION   4   434.82 460.82\n",
      "+ MOCAGE:SRMH2O    1   440.85 460.85\n",
      "+ LNO              1   440.87 460.87\n",
      "+ MOCAGE:TEMPE     1   440.89 460.89\n",
      "- SRMH2O           1   447.78 463.78\n",
      "- VentMOD          1   449.57 465.57\n",
      "- MOCAGE           1   453.18 469.18\n",
      "- STATION          4   464.47 474.47\n",
      "- TEMPE            1   568.67 584.67\n",
      "\n",
      "Step:  AIC=453.12\n",
      "DepSeuil ~ TEMPE + MOCAGE + SRMH2O + STATION + VentMOD + SRMH2O:VentMOD\n",
      "\n",
      "                  Df Deviance    AIC\n",
      "+ TEMPE:STATION    4   420.27 448.27\n",
      "<none>                 433.12 453.12\n",
      "+ TEMPE:VentMOD    1   431.25 453.25\n",
      "+ MOCAGE:VentMOD   1   431.25 453.25\n",
      "+ TEMPE:SRMH2O     1   431.30 453.30\n",
      "+ JOUR             1   432.20 454.20\n",
      "+ STATION:SRMH2O   4   426.36 454.36\n",
      "+ VentANG          1   432.88 454.88\n",
      "+ LNO2             1   432.91 454.91\n",
      "+ MOCAGE:STATION   4   426.93 454.93\n",
      "+ MOCAGE:SRMH2O    1   432.97 454.97\n",
      "+ MOCAGE:TEMPE     1   433.06 455.06\n",
      "+ LNO              1   433.09 455.09\n",
      "+ STATION:VentMOD  4   427.21 455.21\n",
      "- SRMH2O:VentMOD   1   440.89 458.89\n",
      "- MOCAGE           1   443.95 461.95\n",
      "- STATION          4   456.16 468.16\n",
      "- TEMPE            1   562.80 580.80\n",
      "\n",
      "Step:  AIC=448.27\n",
      "DepSeuil ~ TEMPE + MOCAGE + SRMH2O + STATION + VentMOD + SRMH2O:VentMOD + \n",
      "    TEMPE:STATION\n",
      "\n",
      "                  Df Deviance    AIC\n",
      "+ MOCAGE:VentMOD   1   416.43 446.43\n",
      "<none>                 420.27 448.27\n",
      "+ STATION:SRMH2O   4   412.28 448.28\n",
      "+ JOUR             1   418.96 448.96\n",
      "+ TEMPE:SRMH2O     1   419.00 449.00\n",
      "+ MOCAGE:STATION   4   413.75 449.75\n",
      "+ LNO2             1   419.91 449.91\n",
      "+ MOCAGE:TEMPE     1   420.07 450.07\n",
      "+ VentANG          1   420.14 450.14\n",
      "+ TEMPE:VentMOD    1   420.16 450.16\n",
      "+ MOCAGE:SRMH2O    1   420.26 450.26\n",
      "+ LNO              1   420.27 450.27\n",
      "+ STATION:VentMOD  4   414.31 450.31\n",
      "- TEMPE:STATION    4   433.12 453.12\n",
      "- SRMH2O:VentMOD   1   429.21 455.21\n",
      "- MOCAGE           1   430.46 456.46\n",
      "\n",
      "Step:  AIC=446.43\n",
      "DepSeuil ~ TEMPE + MOCAGE + SRMH2O + STATION + VentMOD + SRMH2O:VentMOD + \n",
      "    TEMPE:STATION + MOCAGE:VentMOD\n",
      "\n",
      "                  Df Deviance    AIC\n",
      "+ STATION:SRMH2O   4   407.18 445.18\n",
      "<none>                 416.43 446.43\n",
      "+ MOCAGE:STATION   4   409.10 447.10\n",
      "+ STATION:VentMOD  4   409.22 447.22\n",
      "+ TEMPE:SRMH2O     1   415.32 447.32\n",
      "+ JOUR             1   415.38 447.38\n",
      "+ MOCAGE:SRMH2O    1   416.18 448.18\n",
      "+ LNO              1   416.18 448.18\n",
      "+ TEMPE:VentMOD    1   416.26 448.26\n",
      "- MOCAGE:VentMOD   1   420.27 448.27\n",
      "+ VentANG          1   416.35 448.35\n",
      "+ LNO2             1   416.42 448.42\n",
      "+ MOCAGE:TEMPE     1   416.43 448.43\n",
      "- SRMH2O:VentMOD   1   423.51 451.51\n",
      "- TEMPE:STATION    4   431.25 453.25\n",
      "\n",
      "Step:  AIC=445.18\n",
      "DepSeuil ~ TEMPE + MOCAGE + SRMH2O + STATION + VentMOD + SRMH2O:VentMOD + \n",
      "    TEMPE:STATION + MOCAGE:VentMOD + SRMH2O:STATION\n",
      "\n",
      "                  Df Deviance    AIC\n",
      "+ TEMPE:SRMH2O     1   400.92 440.92\n",
      "- SRMH2O:VentMOD   1   408.29 444.29\n",
      "+ MOCAGE:STATION   4   399.09 445.09\n",
      "<none>                 407.18 445.18\n",
      "+ JOUR             1   406.41 446.41\n",
      "- SRMH2O:STATION   4   416.43 446.43\n",
      "+ LNO              1   406.91 446.91\n",
      "+ MOCAGE:SRMH2O    1   407.09 447.09\n",
      "+ TEMPE:VentMOD    1   407.09 447.09\n",
      "+ MOCAGE:TEMPE     1   407.16 447.16\n",
      "+ LNO2             1   407.17 447.17\n",
      "+ VentANG          1   407.18 447.18\n",
      "+ STATION:VentMOD  4   401.87 447.87\n",
      "- MOCAGE:VentMOD   1   412.28 448.28\n",
      "- TEMPE:STATION    4   423.74 453.74\n",
      "\n",
      "Step:  AIC=440.92\n",
      "DepSeuil ~ TEMPE + MOCAGE + SRMH2O + STATION + VentMOD + SRMH2O:VentMOD + \n",
      "    TEMPE:STATION + MOCAGE:VentMOD + SRMH2O:STATION + TEMPE:SRMH2O\n",
      "\n",
      "                  Df Deviance    AIC\n",
      "- SRMH2O:VentMOD   1   401.35 439.35\n",
      "+ MOCAGE:STATION   4   392.59 440.59\n",
      "<none>                 400.92 440.92\n",
      "+ LNO              1   400.56 442.56\n",
      "+ JOUR             1   400.67 442.67\n",
      "+ TEMPE:VentMOD    1   400.80 442.80\n",
      "+ MOCAGE:SRMH2O    1   400.85 442.85\n",
      "+ MOCAGE:TEMPE     1   400.89 442.89\n",
      "+ VentANG          1   400.91 442.91\n",
      "+ LNO2             1   400.91 442.91\n",
      "+ STATION:VentMOD  4   395.74 443.74\n",
      "- MOCAGE:VentMOD   1   406.40 444.40\n",
      "- TEMPE:SRMH2O     1   407.18 445.18\n",
      "- SRMH2O:STATION   4   415.32 447.32\n",
      "- TEMPE:STATION    4   418.28 450.28\n",
      "\n",
      "Step:  AIC=439.35\n",
      "DepSeuil ~ TEMPE + MOCAGE + SRMH2O + STATION + VentMOD + TEMPE:STATION + \n",
      "    MOCAGE:VentMOD + SRMH2O:STATION + TEMPE:SRMH2O\n",
      "\n",
      "                  Df Deviance    AIC\n",
      "+ MOCAGE:STATION   4   392.81 438.81\n",
      "<none>                 401.35 439.35\n",
      "+ VentMOD:SRMH2O   1   400.92 440.92\n",
      "+ LNO              1   400.99 440.99\n",
      "+ JOUR             1   401.13 441.13\n",
      "+ TEMPE:VentMOD    1   401.19 441.19\n",
      "+ MOCAGE:SRMH2O    1   401.26 441.26\n",
      "+ MOCAGE:TEMPE     1   401.31 441.31\n",
      "+ VentANG          1   401.34 441.34\n",
      "+ LNO2             1   401.35 441.35\n",
      "+ STATION:VentMOD  4   396.44 442.44\n",
      "- MOCAGE:VentMOD   1   407.80 443.80\n",
      "- TEMPE:SRMH2O     1   408.29 444.29\n",
      "- TEMPE:STATION    4   418.74 448.74\n",
      "- SRMH2O:STATION   4   422.61 452.61\n",
      "\n",
      "Step:  AIC=438.81\n",
      "DepSeuil ~ TEMPE + MOCAGE + SRMH2O + STATION + VentMOD + TEMPE:STATION + \n",
      "    MOCAGE:VentMOD + SRMH2O:STATION + TEMPE:SRMH2O + MOCAGE:STATION\n",
      "\n",
      "                  Df Deviance    AIC\n",
      "<none>                 392.81 438.81\n",
      "+ MOCAGE:TEMPE     1   390.84 438.84\n",
      "- MOCAGE:STATION   4   401.35 439.35\n",
      "+ STATION:VentMOD  4   385.49 439.49\n",
      "+ LNO              1   391.76 439.76\n",
      "+ TEMPE:VentMOD    1   392.45 440.45\n",
      "+ VentMOD:SRMH2O   1   392.59 440.59\n",
      "+ LNO2             1   392.62 440.62\n",
      "+ VentANG          1   392.75 440.75\n",
      "+ JOUR             1   392.76 440.76\n",
      "+ MOCAGE:SRMH2O    1   392.80 440.80\n",
      "- TEMPE:SRMH2O     1   399.88 443.88\n",
      "- MOCAGE:VentMOD   1   400.05 444.05\n",
      "- TEMPE:STATION    4   407.76 445.76\n",
      "- SRMH2O:STATION   4   415.01 453.01\n"
     ]
    }
   ],
   "source": [
    "# régression avec le modèle minimum\n",
    "log.qm <- glm(DepSeuil ~ 1, data = datappq,family = binomial)\n",
    "# algorithme stepwise en précisant le plus grand \n",
    "# modèle possible\n",
    "log.qm.step1 <- step(log.qm, direction = \"both\",\n",
    "    scope = list(lower = ~1, upper = ~(JOUR + MOCAGE + TEMPE + \n",
    "            STATION + VentMOD + VentANG + LNO2 + LNO + SRMH2O)^2), \n",
    "    family=binomial)"
   ]
  },
  {
   "cell_type": "code",
   "execution_count": 54,
   "metadata": {
    "ExecuteTime": {
     "end_time": "2019-11-18T09:23:46.158081Z",
     "start_time": "2019-11-18T09:22:06.003Z"
    }
   },
   "outputs": [
    {
     "data": {
      "text/html": [
       "<table class=\"dataframe\">\n",
       "<caption>A anova: 11 × 5</caption>\n",
       "<thead>\n",
       "\t<tr><th></th><th scope=col>Df</th><th scope=col>Deviance</th><th scope=col>Resid. Df</th><th scope=col>Resid. Dev</th><th scope=col>Pr(&gt;Chi)</th></tr>\n",
       "\t<tr><th></th><th scope=col>&lt;int&gt;</th><th scope=col>&lt;dbl&gt;</th><th scope=col>&lt;int&gt;</th><th scope=col>&lt;dbl&gt;</th><th scope=col>&lt;dbl&gt;</th></tr>\n",
       "</thead>\n",
       "<tbody>\n",
       "\t<tr><th scope=row>NULL</th><td>NA</td><td>        NA</td><td>831</td><td>737.8141</td><td>          NA</td></tr>\n",
       "\t<tr><th scope=row>TEMPE</th><td> 1</td><td>214.189011</td><td>830</td><td>523.6251</td><td>1.674882e-48</td></tr>\n",
       "\t<tr><th scope=row>MOCAGE</th><td> 1</td><td> 46.956415</td><td>829</td><td>476.6687</td><td>7.258302e-12</td></tr>\n",
       "\t<tr><th scope=row>SRMH2O</th><td> 1</td><td> 11.172483</td><td>828</td><td>465.4962</td><td>8.301945e-04</td></tr>\n",
       "\t<tr><th scope=row>STATION</th><td> 4</td><td> 15.922320</td><td>824</td><td>449.5739</td><td>3.125190e-03</td></tr>\n",
       "\t<tr><th scope=row>VentMOD</th><td> 1</td><td>  8.683311</td><td>823</td><td>440.8906</td><td>3.211370e-03</td></tr>\n",
       "\t<tr><th scope=row>TEMPE:STATION</th><td> 4</td><td> 11.682335</td><td>819</td><td>429.2083</td><td>1.987666e-02</td></tr>\n",
       "\t<tr><th scope=row>MOCAGE:VentMOD</th><td> 1</td><td>  5.702069</td><td>818</td><td>423.5062</td><td>1.694493e-02</td></tr>\n",
       "\t<tr><th scope=row>SRMH2O:STATION</th><td> 4</td><td> 15.218744</td><td>814</td><td>408.2874</td><td>4.268380e-03</td></tr>\n",
       "\t<tr><th scope=row>TEMPE:SRMH2O</th><td> 1</td><td>  6.941017</td><td>813</td><td>401.3464</td><td>8.424122e-03</td></tr>\n",
       "\t<tr><th scope=row>MOCAGE:STATION</th><td> 4</td><td>  8.537208</td><td>809</td><td>392.8092</td><td>7.376738e-02</td></tr>\n",
       "</tbody>\n",
       "</table>\n"
      ],
      "text/latex": [
       "A anova: 11 × 5\n",
       "\\begin{tabular}{r|lllll}\n",
       "  & Df & Deviance & Resid. Df & Resid. Dev & Pr(>Chi)\\\\\n",
       "  & <int> & <dbl> & <int> & <dbl> & <dbl>\\\\\n",
       "\\hline\n",
       "\tNULL & NA &         NA & 831 & 737.8141 &           NA\\\\\n",
       "\tTEMPE &  1 & 214.189011 & 830 & 523.6251 & 1.674882e-48\\\\\n",
       "\tMOCAGE &  1 &  46.956415 & 829 & 476.6687 & 7.258302e-12\\\\\n",
       "\tSRMH2O &  1 &  11.172483 & 828 & 465.4962 & 8.301945e-04\\\\\n",
       "\tSTATION &  4 &  15.922320 & 824 & 449.5739 & 3.125190e-03\\\\\n",
       "\tVentMOD &  1 &   8.683311 & 823 & 440.8906 & 3.211370e-03\\\\\n",
       "\tTEMPE:STATION &  4 &  11.682335 & 819 & 429.2083 & 1.987666e-02\\\\\n",
       "\tMOCAGE:VentMOD &  1 &   5.702069 & 818 & 423.5062 & 1.694493e-02\\\\\n",
       "\tSRMH2O:STATION &  4 &  15.218744 & 814 & 408.2874 & 4.268380e-03\\\\\n",
       "\tTEMPE:SRMH2O &  1 &   6.941017 & 813 & 401.3464 & 8.424122e-03\\\\\n",
       "\tMOCAGE:STATION &  4 &   8.537208 & 809 & 392.8092 & 7.376738e-02\\\\\n",
       "\\end{tabular}\n"
      ],
      "text/markdown": [
       "\n",
       "A anova: 11 × 5\n",
       "\n",
       "| <!--/--> | Df &lt;int&gt; | Deviance &lt;dbl&gt; | Resid. Df &lt;int&gt; | Resid. Dev &lt;dbl&gt; | Pr(&gt;Chi) &lt;dbl&gt; |\n",
       "|---|---|---|---|---|---|\n",
       "| NULL | NA |         NA | 831 | 737.8141 |           NA |\n",
       "| TEMPE |  1 | 214.189011 | 830 | 523.6251 | 1.674882e-48 |\n",
       "| MOCAGE |  1 |  46.956415 | 829 | 476.6687 | 7.258302e-12 |\n",
       "| SRMH2O |  1 |  11.172483 | 828 | 465.4962 | 8.301945e-04 |\n",
       "| STATION |  4 |  15.922320 | 824 | 449.5739 | 3.125190e-03 |\n",
       "| VentMOD |  1 |   8.683311 | 823 | 440.8906 | 3.211370e-03 |\n",
       "| TEMPE:STATION |  4 |  11.682335 | 819 | 429.2083 | 1.987666e-02 |\n",
       "| MOCAGE:VentMOD |  1 |   5.702069 | 818 | 423.5062 | 1.694493e-02 |\n",
       "| SRMH2O:STATION |  4 |  15.218744 | 814 | 408.2874 | 4.268380e-03 |\n",
       "| TEMPE:SRMH2O |  1 |   6.941017 | 813 | 401.3464 | 8.424122e-03 |\n",
       "| MOCAGE:STATION |  4 |   8.537208 | 809 | 392.8092 | 7.376738e-02 |\n",
       "\n"
      ],
      "text/plain": [
       "               Df Deviance   Resid. Df Resid. Dev Pr(>Chi)    \n",
       "NULL           NA         NA 831       737.8141             NA\n",
       "TEMPE           1 214.189011 830       523.6251   1.674882e-48\n",
       "MOCAGE          1  46.956415 829       476.6687   7.258302e-12\n",
       "SRMH2O          1  11.172483 828       465.4962   8.301945e-04\n",
       "STATION         4  15.922320 824       449.5739   3.125190e-03\n",
       "VentMOD         1   8.683311 823       440.8906   3.211370e-03\n",
       "TEMPE:STATION   4  11.682335 819       429.2083   1.987666e-02\n",
       "MOCAGE:VentMOD  1   5.702069 818       423.5062   1.694493e-02\n",
       "SRMH2O:STATION  4  15.218744 814       408.2874   4.268380e-03\n",
       "TEMPE:SRMH2O    1   6.941017 813       401.3464   8.424122e-03\n",
       "MOCAGE:STATION  4   8.537208 809       392.8092   7.376738e-02"
      ]
     },
     "metadata": {},
     "output_type": "display_data"
    }
   ],
   "source": [
    "anova(log.qm.step1, test = \"Chisq\")"
   ]
  },
  {
   "cell_type": "markdown",
   "metadata": {},
   "source": [
    "### Prévision de l'échantillon test"
   ]
  },
  {
   "cell_type": "markdown",
   "metadata": {},
   "source": [
    "#### Matrice de confusion"
   ]
  },
  {
   "cell_type": "code",
   "execution_count": 55,
   "metadata": {
    "ExecuteTime": {
     "end_time": "2019-11-18T09:23:46.179001Z",
     "start_time": "2019-11-18T09:22:06.010Z"
    }
   },
   "outputs": [
    {
     "data": {
      "text/plain": [
       "       \n",
       "        FALSE TRUE\n",
       "  FALSE   164   20\n",
       "  TRUE      2   23"
      ]
     },
     "metadata": {},
     "output_type": "display_data"
    }
   ],
   "source": [
    "# Prévision du modèle quadratique\n",
    "pred.log <- predict(log.qm.step1, newdata = datestq, type = \"response\")\n",
    "# Matrice de confusion pour la prévision du \n",
    "# dépassement de seuil\n",
    "table(pred.log > 0.5, datestq[, \"DepSeuil\"])"
   ]
  },
  {
   "cell_type": "markdown",
   "metadata": {},
   "source": [
    "Comparer avec l'approche précédente. Mémoriser les résultats obtenus pour comparer avec les autres méthodes."
   ]
  },
  {
   "cell_type": "markdown",
   "metadata": {},
   "source": [
    "#### [Courbe ROC](http://wikistat.fr/pdf/st-m-app-risque-estim.pdf)"
   ]
  },
  {
   "cell_type": "markdown",
   "metadata": {},
   "source": [
    "Il est également possible de construire une courbe ROC en association de la prévision obtenue à partir d'un modèle gaussien. En effet, la variation du seuil théorique de dépassement (150) va faire varier les proportions respectives des taux de vrais et faux positifs. Cela revient encore à faire varier le seuil d'une \"proba\" pour les valeurs de prévisions divisées par 300."
   ]
  },
  {
   "cell_type": "code",
   "execution_count": 56,
   "metadata": {
    "ExecuteTime": {
     "end_time": "2019-11-18T09:23:46.280706Z",
     "start_time": "2019-11-18T09:22:06.620Z"
    }
   },
   "outputs": [
    {
     "ename": "ERROR",
     "evalue": "Error in library(ROCR): there is no package called 'ROCR'\n",
     "output_type": "error",
     "traceback": [
      "Error in library(ROCR): there is no package called 'ROCR'\nTraceback:\n",
      "1. library(ROCR)"
     ]
    }
   ],
   "source": [
    "library(ROCR)   # Librairie à charger\n",
    "roclogit <- predict(log.qm.step1, newdata = datestq, type=\"response\")\n",
    "predlogit <- prediction(roclogit, datestq[, \"DepSeuil\"])\n",
    "perflogit <- performance(predlogit, \"tpr\", \"fpr\")\n",
    "# Tracé de la courbe\n",
    "plot(perflogit, col = \"blue\")\n",
    "\n",
    "# Calculs pour la régression\n",
    "rocglm <- pred.glm / 300\n",
    "predglm <- prediction(rocglm, datestq[, \"DepSeuil\"])\n",
    "perfglm <- performance(predglm, \"tpr\", \"fpr\")\n",
    "# tracé de la courbe et ajout au graphe précédent.\n",
    "plot(perfglm, col = \"blue\",lty=2, add = TRUE)"
   ]
  },
  {
   "cell_type": "markdown",
   "metadata": {},
   "source": [
    "**Q** Que sont sensibilité et spécificité d'une courbe ROC?\n",
    "\n",
    "Les résultats obtenus dépendent évidemment en plus de l'échantillonnage initial entre apprentissage et test. Dans le cas où les courbes se croisent, cela signifie qu'il n'y a pas de prévision uniformément meilleure de l'occurrence de dépassement. Cela dépend de la sensibilité ou de la spécificité retenue pour le modèle. Ceci souligne l'importance de la bonne définition du critère à utiliser pour le choix d'une \"meilleure\" méthode. Ce choix dépend directement de celui , \"politique\" ou \"économique\" de sensibilité et / ou spécificité du modèle retenu. En d'autres termes, quel taux de fausse alerte, avec des imputations économiques évidentes, est supportable au regard des dépassements non détectés et donc de la dégradation sanitaire de la population à risque ?\n",
    " \n",
    "C'est une fois ce choix arrêté que le statisticien peut opérer une comparaison des méthodes en présence.\n",
    "\n",
    "**Q** Les performances des deux approches gaussiennes et binomiales sont-elles très différentes?\n",
    "\n",
    "**Q** Sur le graphe ci-dessus, ajouter la courbe ROC pour le modèle déterministe MOCAGE. Qu'observez-vous?"
   ]
  },
  {
   "cell_type": "markdown",
   "metadata": {},
   "source": [
    "# <FONT COLOR=\"Red\">Épisode 2</font>"
   ]
  },
  {
   "cell_type": "markdown",
   "metadata": {},
   "source": [
    "## [Analyse discriminante](http://wikistat.fr/pdf/st-m-app-add.pdf)"
   ]
  },
  {
   "cell_type": "markdown",
   "metadata": {},
   "source": [
    "### Introduction"
   ]
  },
  {
   "cell_type": "markdown",
   "metadata": {},
   "source": [
    " L'objectif est de comparer les trois méthodes d'analyses discriminantes disponibles dans R: `lda` paramétrique linéaire (homoscédasticité), `qda` paramétrique quadratique (hétéroscédasticité) sous hypothèse gaussienne et celle non-paramétrique des $k$ plus proches voisins.\n",
    " \n",
    "**Q** Quel critère d'affectation est utilisé en `lda`?\n",
    "\n",
    "**Q** Que signifient les hypothèses d'homo ou d'hétéroscédasticité?\n",
    "\n",
    "**Q** Quelle fonction est estimée \"non paramétriquement\" par l'algorithme des $k$ plus proches voisins?\n",
    " \n",
    "*Attention*, ces techniques n'acceptent par principe que des variables explicatives ou prédictives quantitatives. Néanmoins, une variable qualitative à deux modalités, par exemple le type de jour, peut être considérée comme quantitative sous la forme d'une fonction indicatrice prenant ses valeurs dans $\\{0, 1\\}$ et, de façon plus \"abusive\", une variable ordinale est considérée comme \"réelle\". Dans ce dernier cas, il ne faut pas tenter d'interpréter les fonctions de discrimination, juste considérer des erreurs de prévision. La variable *Station* n'est pas prise en compte.\n",
    "\n",
    "La bibliothèque standard de R (`MASS`) pour l'analyse discriminante ne propose pas de procédure automatique de choix de variable mais, dans cet exemple, les variables sont peu nombreuses."
   ]
  },
  {
   "cell_type": "markdown",
   "metadata": {},
   "source": [
    "### Estimation des modèles"
   ]
  },
  {
   "cell_type": "code",
   "execution_count": null,
   "metadata": {},
   "outputs": [],
   "source": [
    "install.packages(\"MASS\")\n",
    "install.packages(\"class\")"
   ]
  },
  {
   "cell_type": "code",
   "execution_count": null,
   "metadata": {
    "ExecuteTime": {
     "end_time": "2019-11-18T09:23:46.294675Z",
     "start_time": "2019-11-18T09:22:07.823Z"
    }
   },
   "outputs": [],
   "source": [
    "library(MASS) # chargement des librairies\n",
    "library(class) # pour kNN"
   ]
  },
  {
   "cell_type": "code",
   "execution_count": null,
   "metadata": {
    "ExecuteTime": {
     "end_time": "2019-11-18T09:23:46.341174Z",
     "start_time": "2019-11-18T09:22:07.829Z"
    }
   },
   "outputs": [],
   "source": [
    "# analyse discriminante linéaire\n",
    "disc.lda=lda(DepSeuil~.,data=datappq[,-4]) \n",
    "# analyse discriminante quadratique \n",
    "disc.qda=qda(DepSeuil~.,data=datappq[,-4]) \n",
    "# k plus proches voisins\n",
    "disc.knn=knn(datappq[,c(-4,-10)],datappq[,c(-4,-10)],datappq$DepSeuil,k=10) "
   ]
  },
  {
   "cell_type": "markdown",
   "metadata": {},
   "source": [
    "Noter le manque d'homogénéité des commandes de R issues de librairies différentes. L'indice de colonne négatif ($-10$) permet de retirer la colonne contenant la variable à prédire de type facteur. Celle-ci est mentionnée en troisième paramètre pour les données d'apprentissage. La librairie [caret](http://topepo.github.io/caret/index.html) contourne ces difficultés en englobant toutes les librairies d'apprentissage et en homogénéisant les appels pour l'estimation et la prévision des modèles. "
   ]
  },
  {
   "cell_type": "markdown",
   "metadata": {},
   "source": [
    "### Estimation de l'erreur de prévision par validation croisée"
   ]
  },
  {
   "cell_type": "code",
   "execution_count": null,
   "metadata": {
    "ExecuteTime": {
     "end_time": "2019-11-18T09:23:46.362843Z",
     "start_time": "2019-11-18T09:22:08.228Z"
    }
   },
   "outputs": [],
   "source": [
    "# erreur par validation croisée  en analyse discriminante linéaire\n",
    "disc.lda=lda(DepSeuil~.,data=datappq[,-4],CV=T) \n",
    "# estimer le taux d'erreur à partir de la matrice de confusion\n",
    "table(datappq[,\"DepSeuil\"],disc.lda$class) "
   ]
  },
  {
   "cell_type": "code",
   "execution_count": null,
   "metadata": {
    "ExecuteTime": {
     "end_time": "2019-11-18T09:23:46.385631Z",
     "start_time": "2019-11-18T09:22:08.238Z"
    }
   },
   "outputs": [],
   "source": [
    "# analyse discriminante quadratique\n",
    "disc.qda=qda(DepSeuil~.,data=datappq[,-4],CV=T)  \n",
    "table(datappq[,\"DepSeuil\"],disc.qda$class) "
   ]
  },
  {
   "cell_type": "markdown",
   "metadata": {},
   "source": [
    "Pour knn, le choix du nombre de voisins $k$ doit être optimisé par validation croisée mais la procédure proposée par la bibliothèque `class` est celle *leave-one-out*, donc trop coûteuse en calcul pour des gros fichiers. Il serait simple de la programmer mais une autre bibliothèque (`e1071`) propose déjà une batterie de fonctions de validation croisée pour de nombreuses techniques de discrimination. "
   ]
  },
  {
   "cell_type": "code",
   "execution_count": null,
   "metadata": {},
   "outputs": [],
   "source": [
    "isntall.packages('e1071')"
   ]
  },
  {
   "cell_type": "code",
   "execution_count": null,
   "metadata": {
    "ExecuteTime": {
     "end_time": "2019-11-18T09:23:46.922719Z",
     "start_time": "2019-11-18T09:22:08.551Z"
    }
   },
   "outputs": [],
   "source": [
    "# k plus proches voisins: optimisation de k\n",
    "library(e1071)\n",
    "plot(tune.knn(as.matrix(datappq[,c(-4,-10)]),as.factor(datappq[,10]),k=2:20))"
   ]
  },
  {
   "cell_type": "markdown",
   "metadata": {},
   "source": [
    "**Q** Quelle procédure de validation croisée est exécutée par défaut par la fonction `tune`?\n",
    "\n",
    "Lancer plusieurs exécutions successives de cette \"optimisation\".\n",
    "\n",
    "**Q** Pourquoi la valeur de $k$ optimale diffère à chaque exécution? Comment choisir k ? \n",
    "\n",
    "Comparer avec les erreurs précédentes estimées également par validation croisée. \n",
    "\n",
    "**Q** Quelle analyse discriminante retenir ? Pourquoi?"
   ]
  },
  {
   "cell_type": "markdown",
   "metadata": {},
   "source": [
    "### Prévision de l'échantillon test"
   ]
  },
  {
   "cell_type": "markdown",
   "metadata": {},
   "source": [
    "#### Matices de confusion"
   ]
  },
  {
   "cell_type": "markdown",
   "metadata": {},
   "source": [
    "Les commandes suivantes calculent la matrice de confusion pour la \"meilleure\" méthode d'analyse discriminante au sens de la validation croisée. Cette \"meilleure\" méthode peut être edifférente d'un participant à l'autre."
   ]
  },
  {
   "cell_type": "code",
   "execution_count": null,
   "metadata": {
    "ExecuteTime": {
     "end_time": "2019-11-18T09:23:46.941352Z",
     "start_time": "2019-11-18T09:22:09.176Z"
    }
   },
   "outputs": [],
   "source": [
    "disc.lda=lda(DepSeuil~.,data=datappq[,-4])  \n",
    "table(predict(disc.lda,datestq[,-4])$class,datestq[,\"DepSeuil\"])"
   ]
  },
  {
   "cell_type": "markdown",
   "metadata": {},
   "source": [
    "A titre indicatif, voici l'estimation de l'erreur sur l'échantillon test pour la méthode des $k$ plus proches voisins."
   ]
  },
  {
   "cell_type": "code",
   "execution_count": null,
   "metadata": {
    "ExecuteTime": {
     "end_time": "2019-11-18T09:23:46.972490Z",
     "start_time": "2019-11-18T09:22:09.406Z"
    }
   },
   "outputs": [],
   "source": [
    "disc.knn=knn(as.matrix(datappq[,c(-4,-10)]),as.matrix(datestq[,c(-4,-10)]),datappq$DepSeuil,k=15)\n",
    "table(disc.knn,datestq$DepSeuil)"
   ]
  },
  {
   "cell_type": "markdown",
   "metadata": {},
   "source": [
    "#### Courbes ROC"
   ]
  },
  {
   "cell_type": "code",
   "execution_count": null,
   "metadata": {},
   "outputs": [],
   "source": [
    "install.packages(\"ROCR\")"
   ]
  },
  {
   "cell_type": "code",
   "execution_count": null,
   "metadata": {
    "ExecuteTime": {
     "end_time": "2019-11-18T09:23:47.043989Z",
     "start_time": "2019-11-18T09:22:09.622Z"
    }
   },
   "outputs": [],
   "source": [
    "library(ROCR)\n",
    "ROCdiscrim=predict(disc.lda,datestq[,c(-4)])$posterior[,2]\n",
    "preddiscrim=prediction(ROCdiscrim,datestq$DepSeuil)\n",
    "perfdiscrim=performance(preddiscrim,\"tpr\",\"fpr\")\n",
    "# tracer les courbes ROC en les superposant pour mieux comparer\n",
    "plot(perflogit,col=\"blue\") \n",
    "plot(perfdiscrim,col=\"magenta\",add=TRUE)  "
   ]
  },
  {
   "cell_type": "markdown",
   "metadata": {},
   "source": [
    "**Q** Une méthode est-elle uniformément meilleure sur cet échantillon test ?"
   ]
  },
  {
   "cell_type": "markdown",
   "metadata": {},
   "source": [
    "## [Arbre de décision binaire](http://wikistat.fr/pdf/st-m-app-cart.pdf)"
   ]
  },
  {
   "cell_type": "markdown",
   "metadata": {},
   "source": [
    "La librairie  `rpart` est celle la plus couramment utilisée pour la construction d'arbres de décision. Deux types d'arbre peuvent être estimer selon que la variable à modéliser est la concentration d'ozone (arbre de régression) ou directement le dépassement du seuil (arbre de discrimination ou de décision). Différents paramètres  contrôlent l'exécution de l'algorithme: la pénalisation  minimale (`cp`) pour la construction de l'arbre maximal, le nombre minimal d'observation par noeud, le nombre de validations croisées (par défaut 10)... cf. l'aide en ligne (?rpart.control) pour plus de détails mais celle-ci n'est pas très explicite sur certains paramètres, c'est le travers des logiciels \"libres\".\n",
    "\n",
    "**NB.** Une séquence de valeurs de la pénalisation `cp` est associée à une séquence d'arbres emboîtés.\n"
   ]
  },
  {
   "cell_type": "markdown",
   "metadata": {},
   "source": [
    "### Estimation et élagage de l'arbre de régression\n",
    "**Q** Quel critère est optimisé lors de la création d'un noeud? de l'arbre?"
   ]
  },
  {
   "cell_type": "code",
   "execution_count": null,
   "metadata": {},
   "outputs": [],
   "source": [
    "isntall.packages('rpart')"
   ]
  },
  {
   "cell_type": "code",
   "execution_count": null,
   "metadata": {
    "ExecuteTime": {
     "end_time": "2019-11-18T09:23:47.088662Z",
     "start_time": "2019-11-18T09:22:10.466Z"
    }
   },
   "outputs": [],
   "source": [
    "library(rpart) # chargement de la librairie\n",
    "tree.reg=rpart(O3obs~.,data=datappr,control=rpart.control(cp=0.001))\n",
    "# La commande ci-dessous fournit un descriptif de l'arbre obtenu\n",
    "# summary(tree.reg)  \n",
    "# mais un graphe est  préférable"
   ]
  },
  {
   "cell_type": "code",
   "execution_count": null,
   "metadata": {
    "ExecuteTime": {
     "end_time": "2019-11-18T09:23:47.181644Z",
     "start_time": "2019-11-18T09:22:10.473Z"
    }
   },
   "outputs": [],
   "source": [
    "plot(tree.reg)\n",
    "text(tree.reg)"
   ]
  },
  {
   "cell_type": "markdown",
   "metadata": {},
   "source": [
    "L'arbre est illisible et présente trop de feuilles pour une bonne prévision (sur-apprentissage), il est nécessaire d'en réduire le nombre par élagage. Les commandes suivantes calculent les prévisions obtenues par  validation croisée *10-fold* pour chaque arbre élagué suivant les valeurs successives du coefficient de complexité. La séquence de ces valeurs est implicitement celle fournit par `rpart`. "
   ]
  },
  {
   "cell_type": "code",
   "execution_count": null,
   "metadata": {
    "ExecuteTime": {
     "end_time": "2019-11-18T09:23:47.218915Z",
     "start_time": "2019-11-18T09:22:10.686Z"
    }
   },
   "outputs": [],
   "source": [
    "xmat=xpred.rpart(tree.reg)\n",
    "xerr=(xmat-datappr[,\"O3obs\"])^2\n",
    "CVerr=apply(xerr,2,sum)\n",
    "CVerr  #    CP           erreur"
   ]
  },
  {
   "cell_type": "markdown",
   "metadata": {},
   "source": [
    "Chercher la valeur de `cp` correspondant à la plus petite erreur puis l'utiliser la construction del'arbre."
   ]
  },
  {
   "cell_type": "code",
   "execution_count": null,
   "metadata": {
    "ExecuteTime": {
     "end_time": "2019-11-18T09:23:47.236505Z",
     "start_time": "2019-11-18T09:22:10.912Z"
    }
   },
   "outputs": [],
   "source": [
    "as.numeric(attributes(which.min(CVerr))$names)"
   ]
  },
  {
   "cell_type": "code",
   "execution_count": null,
   "metadata": {
    "ExecuteTime": {
     "end_time": "2019-11-18T09:23:47.279074Z",
     "start_time": "2019-11-18T09:22:10.919Z"
    }
   },
   "outputs": [],
   "source": [
    "tree.reg=rpart(O3obs~.,data=datappr,control=rpart.control(cp=as.numeric(attributes(which.min(CVerr))$names)))"
   ]
  },
  {
   "cell_type": "markdown",
   "metadata": {},
   "source": [
    "La librairie `partykit` propose une construction graphique de l'arbre:"
   ]
  },
  {
   "cell_type": "code",
   "execution_count": null,
   "metadata": {},
   "outputs": [],
   "source": [
    "install.packages('partykit')"
   ]
  },
  {
   "cell_type": "code",
   "execution_count": null,
   "metadata": {
    "ExecuteTime": {
     "end_time": "2019-11-18T09:23:47.731129Z",
     "start_time": "2019-11-18T09:22:11.150Z"
    }
   },
   "outputs": [],
   "source": [
    "library(partykit)\n",
    "plot(as.party(tree.reg), type=\"simple\")"
   ]
  },
  {
   "cell_type": "markdown",
   "metadata": {},
   "source": [
    "La fenêtre est trop petite pour représenter les distributions (histogramme) de la variable cible (concentration en ozone) dans chaque feuille. \n",
    "\n",
    "**Q** Quelle est la variable qui contribue le plus à l'interprétation?\n",
    "\n",
    "Graphe des résidus"
   ]
  },
  {
   "cell_type": "code",
   "execution_count": null,
   "metadata": {
    "ExecuteTime": {
     "end_time": "2019-11-18T09:23:47.831850Z",
     "start_time": "2019-11-18T09:22:11.369Z"
    }
   },
   "outputs": [],
   "source": [
    "fit.tree=predict(tree.reg)\n",
    "res.tree=fit.tree-datappr[,\"O3obs\"]\n",
    "plot.res(fit.tree,res.tree)"
   ]
  },
  {
   "cell_type": "markdown",
   "metadata": {},
   "source": [
    "**Q** A quoi est due la structure particulière de ce graphe?"
   ]
  },
  {
   "cell_type": "markdown",
   "metadata": {},
   "source": [
    "### Estimation et élagage d'un arbre de discrimination"
   ]
  },
  {
   "cell_type": "markdown",
   "metadata": {},
   "source": [
    "Dans le cas d'une discrimination, le critère par défaut est l'indice de concentration de Gini ; il est possible de préciser un autre critère (split=\"information\") ainsi que des poids sur les observations, une matrice de coûts de mauvais classement ainsi que des probabilités *a priori* (?rpart pour plus de détails).\n",
    "\n",
    "**Q** Quel autre critère d'hétérogénéité est utilisé?"
   ]
  },
  {
   "cell_type": "code",
   "execution_count": null,
   "metadata": {
    "ExecuteTime": {
     "end_time": "2019-11-18T09:23:47.936071Z",
     "start_time": "2019-11-18T09:22:12.009Z"
    }
   },
   "outputs": [],
   "source": [
    "tree.dis=rpart(DepSeuil~.,data=datappq,parms=list(split=\"information\"),cp=0.001)\n",
    "plot(tree.dis) \n",
    "text(tree.dis)  "
   ]
  },
  {
   "cell_type": "markdown",
   "metadata": {},
   "source": [
    "La même procédure d'élagage par validation croisée est mise en place mais avec un expression différente de l'erreur de prévision: taux de mal classés plutôt qu'erreur quadratique."
   ]
  },
  {
   "cell_type": "code",
   "execution_count": null,
   "metadata": {
    "ExecuteTime": {
     "end_time": "2019-11-18T09:23:47.989031Z",
     "start_time": "2019-11-18T09:22:12.228Z"
    }
   },
   "outputs": [],
   "source": [
    "xmat = xpred.rpart(tree.dis)\n",
    "# Comparaison des valeurs prédite et observée\n",
    "xerr=datappq$DepSeuil!= (xmat>1.5) \n",
    "# Calcul  des estimations des taux d'erreur\n",
    "CVerr=apply(xerr, 2, sum)/nrow(xerr)\n",
    "CVerr"
   ]
  },
  {
   "cell_type": "code",
   "execution_count": null,
   "metadata": {
    "ExecuteTime": {
     "end_time": "2019-11-18T09:23:48.011656Z",
     "start_time": "2019-11-18T09:22:12.235Z"
    }
   },
   "outputs": [],
   "source": [
    "as.numeric(attributes(which.min(CVerr))$names)"
   ]
  },
  {
   "cell_type": "code",
   "execution_count": null,
   "metadata": {
    "ExecuteTime": {
     "end_time": "2019-11-18T09:23:48.218396Z",
     "start_time": "2019-11-18T09:22:12.241Z"
    }
   },
   "outputs": [],
   "source": [
    "tree.dis=rpart(DepSeuil~.,data=datappq,parms=list(split=\"information\"),\n",
    "               cp=as.numeric(attributes(which.min(CVerr))$names))\n",
    "plot(as.party(tree.dis), type=\"simple\")"
   ]
  },
  {
   "cell_type": "markdown",
   "metadata": {},
   "source": [
    "### Prévision de l'échantillon test"
   ]
  },
  {
   "cell_type": "markdown",
   "metadata": {},
   "source": [
    "Différentes prévisions sont considérées assorties des erreurs estimées sur l'échantillon test. Prévision quantitative de la concentration, prévision de dépassement à partir de la prévision quantitative et directement la prévision de dépassement à partir de l'arbre de décision. "
   ]
  },
  {
   "cell_type": "markdown",
   "metadata": {},
   "source": [
    "#### Erreur de régression"
   ]
  },
  {
   "cell_type": "code",
   "execution_count": null,
   "metadata": {
    "ExecuteTime": {
     "end_time": "2019-11-18T09:23:48.248763Z",
     "start_time": "2019-11-18T09:22:12.672Z"
    }
   },
   "outputs": [],
   "source": [
    "# Calcul des prévisions\n",
    "pred.treer=predict(tree.reg,newdata=datestr)\n",
    "pred.treeq=predict(tree.dis,newdata=datestq,type=\"class\") \n",
    "# Erreur quadratique moyenne de prévision en régression\n",
    "sum((pred.treer-datestr[,\"O3obs\"])^2)/nrow(datestr)"
   ]
  },
  {
   "cell_type": "markdown",
   "metadata": {},
   "source": [
    "#### Erreur de classification (matrice de confusion)"
   ]
  },
  {
   "cell_type": "code",
   "execution_count": null,
   "metadata": {
    "ExecuteTime": {
     "end_time": "2019-11-18T09:23:48.267073Z",
     "start_time": "2019-11-18T09:22:12.681Z"
    }
   },
   "outputs": [],
   "source": [
    "# Matrice de confusion pour la prévision du \n",
    "# dépassement de seuil (régression)\n",
    "table(pred.treer>150,datestr[,\"O3obs\"]>150)"
   ]
  },
  {
   "cell_type": "code",
   "execution_count": null,
   "metadata": {
    "ExecuteTime": {
     "end_time": "2019-11-18T09:23:48.285260Z",
     "start_time": "2019-11-18T09:22:12.688Z"
    }
   },
   "outputs": [],
   "source": [
    "# Même chose pour l'arbre de discrimination\n",
    "table(pred.treeq,datestq[,\"DepSeuil\"])"
   ]
  },
  {
   "cell_type": "markdown",
   "metadata": {},
   "source": [
    "**Q** Quelle stratégie semble meilleure à ce niveau?"
   ]
  },
  {
   "cell_type": "markdown",
   "metadata": {},
   "source": [
    "#### Courbes ROC"
   ]
  },
  {
   "cell_type": "code",
   "execution_count": null,
   "metadata": {
    "ExecuteTime": {
     "end_time": "2019-11-18T09:23:48.365865Z",
     "start_time": "2019-11-18T09:22:13.108Z"
    }
   },
   "outputs": [],
   "source": [
    "ROCregtree=pred.treer/300\n",
    "predregtree=prediction(ROCregtree,datestq$DepSeuil)\n",
    "perfregtree=performance(predregtree,\"tpr\",\"fpr\")\n",
    "ROCdistree=predict(tree.dis,newdata=datestq,type=\"prob\")[,2]\n",
    "preddistree=prediction(ROCdistree,datestq$DepSeuil)\n",
    "perfdistree=performance(preddistree,\"tpr\",\"fpr\")\n",
    "# tracer les courbes ROC en les superposant \n",
    "# pour mieux comparer\n",
    "plot(perflogit,col=\"blue\")\n",
    "plot(perfregtree,col=\"orange\",lty=2,add=TRUE) \n",
    "plot(perfdistree,col=\"orange\",add=TRUE)  "
   ]
  },
  {
   "cell_type": "markdown",
   "metadata": {},
   "source": [
    "Comparer les qualités  de prévision.\n",
    "\n",
    "**Q** Une meilleure méthode se dégage-t-elle?"
   ]
  },
  {
   "cell_type": "markdown",
   "metadata": {},
   "source": [
    "# <FONT COLOR=\"Red\">Épisode 3</font>"
   ]
  },
  {
   "cell_type": "markdown",
   "metadata": {},
   "source": [
    "## [Réseau de neurones](http://wikistat.fr/pdf/st-m-app-rn.pdf)"
   ]
  },
  {
   "cell_type": "markdown",
   "metadata": {},
   "source": [
    "### Introduction"
   ]
  },
  {
   "cell_type": "markdown",
   "metadata": {},
   "source": [
    "Il s'agit d'estimer un modèle de type *perceptron* avec en entrée les variables qualitatives ou quantitatives et en sortie la variable à prévoir. Des fonctions R pour l'apprentissage d'un perceptron élémentaire ont été réalisées par différents auteurs et sont accessibles sur le réseau. La librairie `nnet` de (Ripley, 1999), est limitée au perceptron à une couche. Ce n'est pas de l'*apprentissage profond* ! mais suffisant dans bien des cas. Une librairie R associée au logiciel éponyme H2O propose des réseaux à plusieurs couches et \"convolutionnels\".\n",
    "\n",
    "Comme pour les arbres, la variable à expliquer est soit quantitative soit qualitative ; la fonction de transfert du neurone de sortie d'un réseau doit être adaptée en conséquence. \n",
    "\n",
    "**Q** Quelle fonction de transfert pour le dernier neurone en régression ?\n",
    "\n",
    "**Q** Quelle focntion de transfert pour le dernier neuronne en discrimination binaire?\n",
    "\n",
    "**Q** Quid de la discrimination avec plusieurs classes?\n",
    "\n",
    "**Q** Quel est le choix par défaut pour les neurones de la couche cachée?\n",
    "\n",
    "Différentes stratégies sont proposées pour éviter le sur-apprentissage. La première conciste à optimiser le nombre de neurones sur la couche cachée. Très approximativement il est d'usage de considérer, qu'en moyenne, il faut une taille d'échantillon d'apprentissage 10 fois supérieure au nombre de poids c'est-à-dire au nombre de paramètres à estimer. On remarque qu'ici la taille de l'échantillon d'apprentissage (832) est modeste pour une application raisonnable du perceptron. Seuls des nombres restreints de neurones peuvent être considérés et sur une seule couche cachée. \n",
    "\n",
    "**Q** Quel est le paramètre `decay` de la fonction `nnet`?\n",
    "\n",
    "**Q** Indiquer une autre façon déviter le sur-apprentissage."
   ]
  },
  {
   "cell_type": "markdown",
   "metadata": {},
   "source": [
    "### Cas de la régression"
   ]
  },
  {
   "cell_type": "code",
   "execution_count": null,
   "metadata": {
    "ExecuteTime": {
     "end_time": "2019-11-18T09:23:48.781644Z",
     "start_time": "2019-11-18T09:22:14.471Z"
    }
   },
   "outputs": [],
   "source": [
    "library(MASS)\n",
    "library(nnet)\n",
    "# apprentissage\n",
    "# attention au paramètre linout dans le cas de la régression\n",
    "nnet.reg=nnet(O3obs~.,data=datappr,size=5,decay=1,linout=TRUE,maxit=500) \n",
    "summary(nnet.reg)"
   ]
  },
  {
   "cell_type": "markdown",
   "metadata": {},
   "source": [
    "La commande donne la \"trace\" de l'exécution avec le comportement de la convergence mais le détail des poids de chaque entrée de chaque neurone ne constituent pas des résultats très explicites ! Contrôler le nombre de poids estimés.\n",
    "\n",
    "L'optimisation des paramètres nécessite encore le passage par la validation croisée. Il n'y a pas de fonction dans la librairie `nnet` permettant de le faire mais la fonction ` tune.nnet` de la librairie `e1071` est adaptée à cette démarche."
   ]
  },
  {
   "cell_type": "code",
   "execution_count": null,
   "metadata": {
    "ExecuteTime": {
     "end_time": "2019-11-18T09:25:00.187792Z",
     "start_time": "2019-11-18T09:22:14.679Z"
    }
   },
   "outputs": [],
   "source": [
    "library(e1071)\n",
    "plot(tune.nnet(O3obs~.,data=datappr,size=c(2,3,4),decay=c(1,2,3),maxit=200,linout=TRUE))\n",
    "plot(tune.nnet(O3obs~.,data=datappr,size=4:5,decay=1:10))"
   ]
  },
  {
   "cell_type": "markdown",
   "metadata": {},
   "source": [
    "Faire éventuellement varier la grille des paramètres (zoom), noter la taille et le `decay` optimaux. Il faudrait aussi  faire varier le nombre total d'itérations. Cela risque de prendre un peu de temps ! Noter également que chaque exécution donne des résultats différents... il n'est donc pas très utile d'y passer beaucoup de temps !\n",
    "\n",
    "Ré-estimer le modèle supposé optimal avant de tracer le graphe des résidus. "
   ]
  },
  {
   "cell_type": "code",
   "execution_count": null,
   "metadata": {
    "ExecuteTime": {
     "end_time": "2019-11-18T09:25:00.436424Z",
     "start_time": "2019-11-18T09:22:14.895Z"
    }
   },
   "outputs": [],
   "source": [
    "nnet.reg=nnet(O3obs~.,data=datappr,size=3,decay=2,linout=TRUE,maxit=200)\n",
    "# calcul et graphe des résidus\n",
    "fit.nnetr=predict(nnet.reg,data=datappr)\n",
    "res.nnetr=fit.nnetr-datappr[,\"O3obs\"]\n",
    "plot.res(fit.nnetr,res.nnetr,titre=\"\")"
   ]
  },
  {
   "cell_type": "markdown",
   "metadata": {},
   "source": [
    "### Cas de la discrimination"
   ]
  },
  {
   "cell_type": "code",
   "execution_count": null,
   "metadata": {
    "ExecuteTime": {
     "end_time": "2019-11-18T09:25:00.463554Z",
     "start_time": "2019-11-18T09:22:15.102Z"
    }
   },
   "outputs": [],
   "source": [
    "# apprentissage\n",
    "nnet.dis=nnet(DepSeuil~.,data=datappq,size=5,decay=0) \n",
    "summary(nnet.reg)"
   ]
  },
  {
   "cell_type": "markdown",
   "metadata": {},
   "source": [
    "La validation croisée est toujours nécessaire afin de tenter d'optimiser les choix en présence : nombre de neurones, `decay` et éventuellement le nombre max d'itérations. \n",
    "\n",
    "L'initialisation de l'apprentissage d'un réseau de neurone comme celle de l'estimation de l'erreur par validation croisée sont aléatoires. Chaque exécution donne donc des résultats différents. À ce niveau, il serait intéressant de construire un plan d'expérience à deux facteurs (ici, les paramètres de taille et `decay`) de chacun trois niveaux. Plusieurs réalisations pour chaque combinaison des niveaux suivies d'un test classique d'anova permettraient de se faire une idée plus juste de l'influence de ces facteurs sur l'erreur. \n",
    "\n",
    "Noter la taille et le `decay` optimaux et ré-estimer le modèle pour ces valeurs."
   ]
  },
  {
   "cell_type": "code",
   "execution_count": null,
   "metadata": {
    "ExecuteTime": {
     "end_time": "2019-11-18T09:25:25.823681Z",
     "start_time": "2019-11-18T09:22:15.309Z"
    }
   },
   "outputs": [],
   "source": [
    "plot(tune.nnet(DepSeuil~.,data=datappq,size=c(3,4,5),decay=c(0,1,2),maxit=200,linout=FALSE))"
   ]
  },
  {
   "cell_type": "code",
   "execution_count": null,
   "metadata": {
    "ExecuteTime": {
     "end_time": "2019-11-18T09:25:25.936811Z",
     "start_time": "2019-11-18T09:22:15.315Z"
    }
   },
   "outputs": [],
   "source": [
    "nnet.dis=nnet(DepSeuil~.,data=datappq,size=5,decay=1) "
   ]
  },
  {
   "cell_type": "markdown",
   "metadata": {},
   "source": [
    "### Prévisions de l'échantillon test"
   ]
  },
  {
   "cell_type": "markdown",
   "metadata": {},
   "source": [
    "Différentes prévisions sont considérées assorties des erreurs estimées sur l'échantillon test. Prévision quantitative de la concentration, prévision de dépassement à partir de la prévision quantitative et directement la prévision de dépassement à partir de l'arbre de décision. \n"
   ]
  },
  {
   "cell_type": "markdown",
   "metadata": {},
   "source": [
    "#### Erreur de régression"
   ]
  },
  {
   "cell_type": "code",
   "execution_count": null,
   "metadata": {
    "ExecuteTime": {
     "end_time": "2019-11-18T09:25:25.972074Z",
     "start_time": "2019-11-18T09:22:15.713Z"
    }
   },
   "outputs": [],
   "source": [
    "# Calcul des prévisions\n",
    "pred.nnetr=predict(nnet.reg,newdata=datestr)\n",
    "pred.nnetq=predict(nnet.dis,newdata=datestq) \n",
    "# Erreur quadratique moyenne de prévision\n",
    "sum((pred.nnetr-datestr[,\"O3obs\"])^2)/nrow(datestr)"
   ]
  },
  {
   "cell_type": "markdown",
   "metadata": {},
   "source": [
    "#### Erreur de classification (matrice de confusion)"
   ]
  },
  {
   "cell_type": "code",
   "execution_count": null,
   "metadata": {
    "ExecuteTime": {
     "end_time": "2019-11-18T09:25:25.996337Z",
     "start_time": "2019-11-18T09:22:15.718Z"
    }
   },
   "outputs": [],
   "source": [
    "# Matrice de confusion pour la prévision du \n",
    "# dépassement de seuil (régression)\n",
    "table(pred.nnetr>150,datestr[,\"O3obs\"]>150)"
   ]
  },
  {
   "cell_type": "code",
   "execution_count": null,
   "metadata": {
    "ExecuteTime": {
     "end_time": "2019-11-18T09:25:26.022088Z",
     "start_time": "2019-11-18T09:22:15.725Z"
    }
   },
   "outputs": [],
   "source": [
    "# Même chose pour la discrimination\n",
    "table(pred.nnetq>0.5,datestq[,\"DepSeuil\"])"
   ]
  },
  {
   "cell_type": "markdown",
   "metadata": {},
   "source": [
    "#### Courbes ROC"
   ]
  },
  {
   "cell_type": "code",
   "execution_count": null,
   "metadata": {
    "ExecuteTime": {
     "end_time": "2019-11-18T09:25:26.112355Z",
     "start_time": "2019-11-18T09:22:15.926Z"
    }
   },
   "outputs": [],
   "source": [
    "library(ROCR)\n",
    "rocnnetr=pred.nnetr/300\n",
    "prednnetr=prediction(rocnnetr,datestq$DepSeuil)\n",
    "perfnnetr=performance(prednnetr,\"tpr\",\"fpr\")\n",
    "\n",
    "rocnnetq=pred.nnetq\n",
    "prednnetq=prediction(rocnnetq,datestq$DepSeuil)\n",
    "perfnnetq=performance(prednnetq,\"tpr\",\"fpr\")\n",
    "\n",
    "# tracer les courbes ROC en les superposant pour mieux comparer\n",
    "plot(perflogit,col=\"blue\")\n",
    "plot(perfnnetr,col=\"darkgreen\",lty=2,add=TRUE) \n",
    "plot(perfnnetq,col=\"darkgreen\",add=TRUE)  "
   ]
  },
  {
   "cell_type": "markdown",
   "metadata": {},
   "source": [
    "**Q** Une méthode semble-t-elle significativement meilleure?"
   ]
  },
  {
   "cell_type": "markdown",
   "metadata": {},
   "source": [
    "## [Agrégation de modèles](http://wikistat.fr/pdf/st-m-app-agreg.pdf)"
   ]
  },
  {
   "cell_type": "markdown",
   "metadata": {},
   "source": [
    "### Introduction"
   ]
  },
  {
   "cell_type": "markdown",
   "metadata": {},
   "source": [
    "Les sections précédentes ont permis d'expérimenter les constructions d'un modèle de prévision assorties du problème récurrent lié à l'optimisation de la complexité d'un modèle. Cette section aborde d'autres stratégies dont l'objectif est de s'affranchir de ce problème de choix, par des méthodes se montrant pas ou très peu sensibles au sur-apprentissage ; c'est le cas des algorithmes d'agrégation de modèles.\n",
    "\n",
    "Cette section propose de mettre en évidence la plus ou moins grande influence des paramètres de ces méthodes. \n",
    "* *Random forest*: nombre d'arbres et `mtry` et intérêt des critères de Breiman permettant de mesurer l'influence des variables au sein d'une famille agrégée de modèles. \n",
    "* Le *bagging*, cas particulier de forêt aléatoire, n'est pas traité;\n",
    "* *Boosting*: profondeur d'arbre, nombre d'itérations ou d'arbres et coefficient de *shrinkage*.\n",
    "\n",
    "**Q** Quel est le paramètre `mtry` de la fonction `randomForest`?\n",
    "\n",
    "**Q** En quoi le bagging est un cas particulier des forêts aléatoires?"
   ]
  },
  {
   "cell_type": "markdown",
   "metadata": {},
   "source": [
    "### Forêts aléatoires"
   ]
  },
  {
   "cell_type": "markdown",
   "metadata": {},
   "source": [
    "Le programme est disponible dans la librairie *randomForest*. Il est écrit en fortran, donc en principe efficace en terme de rapidité d'exécution, et facile à utiliser grâce à une interface avec R. La comparaison avec Python montre qu'il n'est finalement pas très efficace sans doute à cause de l'interface avec R. Les paramètres et sorties sont explicités dans l'aide en ligne.\n",
    "\n",
    "En R et pour des gros fichiers, privilégier la librairie `ranger` à la place de `ranfomForest`. "
   ]
  },
  {
   "cell_type": "markdown",
   "metadata": {},
   "source": [
    "#### Régression"
   ]
  },
  {
   "cell_type": "code",
   "execution_count": null,
   "metadata": {
    "ExecuteTime": {
     "end_time": "2019-11-18T09:25:27.791580Z",
     "start_time": "2019-11-18T09:22:17.440Z"
    }
   },
   "outputs": [],
   "source": [
    "library(randomForest)\n",
    "rf.reg=randomForest(O3obs~., data=datappr,xtest=datestr[,-2],ytest=datestr[,\"O3obs\"],\n",
    "   ntree=500,do.trace=50,importance=TRUE)"
   ]
  },
  {
   "cell_type": "markdown",
   "metadata": {},
   "source": [
    "**Q** Quelles est la valeur par défaut de `mtry`?\n",
    "\n",
    "Relancer en faisant varier les paramètres `mtry` et `ntree` pour expérimenter leur peu d'influence sur les erreurs.\n",
    "\n",
    "Calcul et graphe des résidus."
   ]
  },
  {
   "cell_type": "code",
   "execution_count": null,
   "metadata": {
    "ExecuteTime": {
     "end_time": "2019-11-18T09:25:27.893162Z",
     "start_time": "2019-11-18T09:22:17.662Z"
    }
   },
   "outputs": [],
   "source": [
    "fit.rfr=rf.reg$predicted\n",
    "res.rfr=fit.rfr-datappr[,\"O3obs\"]\n",
    "plot.res(fit.rfr,res.rfr,titre=\"\")"
   ]
  },
  {
   "cell_type": "markdown",
   "metadata": {},
   "source": [
    "#### Discrimination\n",
    "**Q** Quelle est la valeur par défaut de `mtry`?"
   ]
  },
  {
   "cell_type": "code",
   "execution_count": null,
   "metadata": {
    "ExecuteTime": {
     "end_time": "2019-11-18T09:25:28.378755Z",
     "start_time": "2019-11-18T09:22:17.947Z"
    }
   },
   "outputs": [],
   "source": [
    "rf.dis=randomForest(DepSeuil~.,data=datappq,xtest=datestq[,-10],ytest=datestq[,\n",
    "   \"DepSeuil\"],ntree=500,do.trace=50,importance=TRUE)"
   ]
  },
  {
   "cell_type": "markdown",
   "metadata": {},
   "source": [
    "Commenter les erreurs, tester d'autres exécutions avec d'autres valeurs des paramètres."
   ]
  },
  {
   "cell_type": "markdown",
   "metadata": {},
   "source": [
    "#### Importance des variables"
   ]
  },
  {
   "cell_type": "markdown",
   "metadata": {},
   "source": [
    "Le modèle obtenu est ininterprétable mais des coefficients estiment les contributions des variables dans leur participation à la discrimination. Comparer avec les variables sélectionnées par les autres modèles. deux critères d'importance sont proposés.\n",
    "\n",
    "**Q** Quelles sont les deux mesures d'importance des variables?"
   ]
  },
  {
   "cell_type": "code",
   "execution_count": null,
   "metadata": {
    "ExecuteTime": {
     "end_time": "2019-11-18T09:25:28.476696Z",
     "start_time": "2019-11-18T09:22:18.805Z"
    }
   },
   "outputs": [],
   "source": [
    "sort(round(importance(rf.reg), 2)[,1], decreasing=TRUE)\n",
    "sort(round(importance(rf.dis), 2)[,4], decreasing=TRUE)"
   ]
  },
  {
   "cell_type": "markdown",
   "metadata": {},
   "source": [
    "### Boosting"
   ]
  },
  {
   "cell_type": "markdown",
   "metadata": {},
   "source": [
    "Deux librairies proposent des versions relativement  sophistiquées des algorithmes de *boosting* dans R. La librairie *boost* propose 4 approches : *adaboost, bagboost* et deux *logitboost*. Développées pour une problématique particulière : l'analyse des données d'expression génomique, elle n'est peut-être pas complètement adaptée aux données étudiées ; elles se limitent à des prédicteurs quantitatifs et peut fournir des résultats étranges. La librairie *gbm* lui est préférée ; elle offre aussi plusieurs versions dépendant de la fonction coût choisie. Une librairie plus récente `xgboost` intègre des fonctionnalités de parallélisation (pas sous Windows) et fait intervenir plusieurs autres paramètres.\n",
    "\n",
    "La variable à prévoir doit être codée numériquement (0,1) pour cette implémentation. Le nombre d'itérations, ou nombre d'arbres, est paramétré ainsi qu'un coefficient de rétrécissement (*shrinkage*).\n",
    "\n",
    "**Q** Comment intervient le *schrinkage* en *boosting*? \n",
    "\n",
    "**Q** Pour quel boosting? Ou que signifie `gbm`?\n",
    "\n",
    "*Attention*, par défaut, ce paramètre a une valeur très faible (0.001) et il faut un nombre important d'itérations (d'arbres) pour atteindre une estimation raisonnable. La qualité est visualisée par un graphe représentant l'évolution de l'erreur d'apprentissage. D'autre part, une procédure de validation croisée est incorporée afin d'optimiser le nombre d'arbres car la version de *boosting* considérée est (légèrement) sujette au sur-apprentissage."
   ]
  },
  {
   "cell_type": "markdown",
   "metadata": {},
   "source": [
    "#### Régression"
   ]
  },
  {
   "cell_type": "code",
   "execution_count": null,
   "metadata": {},
   "outputs": [],
   "source": [
    "class(ozone$STATION)"
   ]
  },
  {
   "cell_type": "code",
   "execution_count": null,
   "metadata": {},
   "outputs": [],
   "source": [
    "install.packages('gbm')"
   ]
  },
  {
   "cell_type": "code",
   "execution_count": null,
   "metadata": {
    "ExecuteTime": {
     "end_time": "2019-11-18T09:25:31.408193Z",
     "start_time": "2019-11-18T09:22:19.423Z"
    }
   },
   "outputs": [],
   "source": [
    "library(gbm)\n",
    "boost.reg = gbm(O3obs ~ ., data = datappr, distribution = \"gaussian\", n.trees = 500, \n",
    "    cv.folds = 10, n.minobsinnode = 5, shrinkage = 0.03, verbose = FALSE)\n",
    "# fixer verbose à FALSE pour éviter trop de sorties\n",
    "plot(boost.reg$cv.error, type = \"l\")"
   ]
  },
  {
   "cell_type": "code",
   "execution_count": null,
   "metadata": {
    "ExecuteTime": {
     "end_time": "2019-11-18T09:25:31.484639Z",
     "start_time": "2019-11-18T09:22:19.430Z"
    }
   },
   "outputs": [],
   "source": [
    "# nombre optimal d'itérations par valiation croisée\n",
    "best.iter=gbm.perf(boost.reg,method=\"cv\")"
   ]
  },
  {
   "cell_type": "markdown",
   "metadata": {},
   "source": [
    "On peut s'assurer de l'absence d'un phénomène de sur-apprentissage critique en calculant puis traçant l'évolution de l'erreur sur l'échantillon test en fonction du nombre d'arbre dans le modèle. L'erreur reste stable autour du nombre d'arbres sélectionné et matérialisé par la ligne verticale. \n",
    "\n",
    "**Q** Tester ces fonctions en faisant varier le coefficient de rétrécissement.\n"
   ]
  },
  {
   "cell_type": "code",
   "execution_count": null,
   "metadata": {
    "ExecuteTime": {
     "end_time": "2019-11-18T09:25:32.465883Z",
     "start_time": "2019-11-18T09:22:19.638Z"
    }
   },
   "outputs": [],
   "source": [
    "test=numeric()\n",
    "for (i in 10:500){\n",
    "pred.test=predict(boost.reg,newdata=datestr,n.trees=i)\n",
    "err=sum((pred.test-datestr[,\"O3obs\"])^2)/nrow(datestr)\n",
    "test=c(test,err)}\n",
    "plot(10:500,test,type=\"l\")\n",
    "abline(v=best.iter)"
   ]
  },
  {
   "cell_type": "markdown",
   "metadata": {},
   "source": [
    "#### Discrimination"
   ]
  },
  {
   "cell_type": "markdown",
   "metadata": {},
   "source": [
    "Attention, la variable à modéliser doit être codée $(0, 1)$ et il faut préciser un autre paramètre de distribution pour considérer le bon terme d'erreur."
   ]
  },
  {
   "cell_type": "code",
   "execution_count": null,
   "metadata": {
    "ExecuteTime": {
     "end_time": "2019-11-18T09:25:35.441056Z",
     "start_time": "2019-11-18T09:22:20.049Z"
    }
   },
   "outputs": [],
   "source": [
    "datappq2=datappq\n",
    "datappq2[,\"DepSeuil\"]=as.numeric(datappq[,\"DepSeuil\"])-1\n",
    "boost.dis=gbm(DepSeuil~.,data=datappq2,distribution=\"adaboost\",n.trees=500, cv.folds=10,\n",
    "              n.minobsinnode = 5,shrinkage=0.03,verbose=FALSE)\n",
    "plot(boost.dis$cv.error,type=\"l\")"
   ]
  },
  {
   "cell_type": "code",
   "execution_count": null,
   "metadata": {
    "ExecuteTime": {
     "end_time": "2019-11-18T09:25:35.510693Z",
     "start_time": "2019-11-18T09:22:20.056Z"
    }
   },
   "outputs": [],
   "source": [
    "# nombre optimal d'itérations \n",
    "best.ited=gbm.perf(boost.dis,method=\"cv\")"
   ]
  },
  {
   "cell_type": "markdown",
   "metadata": {},
   "source": [
    "Comme pour la régression, il est possible de faire varier le coefficient de rétrécissement en l'associant au nombre d'arbres dans le modèle.\n",
    "\n",
    "Calcul des résidus et graphe."
   ]
  },
  {
   "cell_type": "code",
   "execution_count": null,
   "metadata": {
    "ExecuteTime": {
     "end_time": "2019-11-18T09:25:35.623088Z",
     "start_time": "2019-11-18T09:22:20.260Z"
    }
   },
   "outputs": [],
   "source": [
    "fit.boostr=boost.reg$fit\n",
    "res.boostr=fit.boostr-datappr[,\"O3obs\"]\n",
    "plot.res(fit.boostr,res.boostr,titre=\"\")"
   ]
  },
  {
   "cell_type": "markdown",
   "metadata": {},
   "source": [
    "### Prévision de l'échantillon test"
   ]
  },
  {
   "cell_type": "markdown",
   "metadata": {},
   "source": [
    "#### Erreur de régression"
   ]
  },
  {
   "cell_type": "code",
   "execution_count": null,
   "metadata": {
    "ExecuteTime": {
     "end_time": "2019-11-18T09:25:28.399531Z",
     "start_time": "2019-11-18T09:22:18.361Z"
    }
   },
   "outputs": [],
   "source": [
    "# Forêts aléatoires\n",
    "pred.rfr=rf.reg$test$predicted\n",
    "pred.rfq=rf.dis$test$predicted\n",
    "# Erreur quadratique moyenne de prévision\n",
    "sum((pred.rfr-datestr[,\"O3obs\"])^2)/nrow(datestr)"
   ]
  },
  {
   "cell_type": "code",
   "execution_count": null,
   "metadata": {
    "ExecuteTime": {
     "end_time": "2019-11-18T09:25:35.648538Z",
     "start_time": "2019-11-18T09:22:20.473Z"
    }
   },
   "outputs": [],
   "source": [
    "# Boosting \n",
    "pred.boostr=predict(boost.reg,newdata=datestr,n.trees=best.iter)\n",
    "# Erreur quadratique moyenne de prévision\n",
    "sum((pred.boostr-datestr[,\"O3obs\"])^2)/nrow(datestr)"
   ]
  },
  {
   "cell_type": "markdown",
   "metadata": {},
   "source": [
    "#### Erreur de classification (matrices de confusion)"
   ]
  },
  {
   "cell_type": "code",
   "execution_count": null,
   "metadata": {
    "ExecuteTime": {
     "end_time": "2019-11-18T09:25:28.427113Z",
     "start_time": "2019-11-18T09:22:18.371Z"
    }
   },
   "outputs": [],
   "source": [
    "# Forêts aléatoires\n",
    "# Matrice de confusion pour la prévision du \n",
    "# dépassement de seuil (régression)\n",
    "table(pred.rfr>150,datestr[,\"O3obs\"]>150)"
   ]
  },
  {
   "cell_type": "code",
   "execution_count": null,
   "metadata": {
    "ExecuteTime": {
     "end_time": "2019-11-18T09:25:28.447982Z",
     "start_time": "2019-11-18T09:22:18.379Z"
    }
   },
   "outputs": [],
   "source": [
    "# Forêts aléatoires\n",
    "# Même chose pour la discrimination\n",
    "table(pred.rfq,datestq[,\"DepSeuil\"])"
   ]
  },
  {
   "cell_type": "code",
   "execution_count": null,
   "metadata": {
    "ExecuteTime": {
     "end_time": "2019-11-18T09:25:35.683005Z",
     "start_time": "2019-11-18T09:22:20.480Z"
    }
   },
   "outputs": [],
   "source": [
    "# Boosting \n",
    "# Matrice de confusion pour la prévision \n",
    "# du dépassement de seuil (régression)\n",
    "table(pred.boostr>150,datestr[,\"O3obs\"]>150)"
   ]
  },
  {
   "cell_type": "code",
   "execution_count": null,
   "metadata": {
    "ExecuteTime": {
     "end_time": "2019-11-18T09:25:35.705652Z",
     "start_time": "2019-11-18T09:22:20.487Z"
    }
   },
   "outputs": [],
   "source": [
    "# Boosting \n",
    "# Même chose pour la discrimination\n",
    "pred.boostd=predict(boost.dis,newdata=datestq,n.trees=best.ited)\n",
    "table(as.factor(sign(pred.boostd)),datestq[,\"DepSeuil\"])"
   ]
  },
  {
   "cell_type": "markdown",
   "metadata": {},
   "source": [
    "**Q** Quelle  stratégie d'agrégation de modèles vous semble fournir le meilleur résultat de prévision? \n",
    "\n",
    "**Q** Est-elle, sur ce jeu de données, plus efficace que les modèles classiques expérimentés auparavant ?"
   ]
  },
  {
   "cell_type": "markdown",
   "metadata": {},
   "source": [
    "#### Courbes ROC"
   ]
  },
  {
   "cell_type": "code",
   "execution_count": null,
   "metadata": {
    "ExecuteTime": {
     "end_time": "2019-11-18T09:25:35.789943Z",
     "start_time": "2019-11-18T09:22:20.890Z"
    }
   },
   "outputs": [],
   "source": [
    "# Forêts aléatoires\n",
    "rocrfr=pred.rfr/300\n",
    "predrfr=prediction(rocrfr,datestq$DepSeuil)\n",
    "perfrfr=performance(predrfr,\"tpr\",\"fpr\")\n",
    "\n",
    "# Boosting\n",
    "rocbstr=pred.boostr/300\n",
    "predbstr=prediction(rocbstr,datestq$DepSeuil)\n",
    "perfbstr=performance(predbstr,\"tpr\",\"fpr\")\n",
    "\n",
    "# tracer les courbes ROC en les superposant \n",
    "# pour mieux comparer\n",
    "plot(perflogit,col=\"blue\")\n",
    "plot(perfrfr,col=\"purple\",lty=2,add=TRUE)  \n",
    "plot(perfbstr,col=\"purple\",add=TRUE)  "
   ]
  },
  {
   "cell_type": "markdown",
   "metadata": {},
   "source": [
    "**Q** Qu'indique la comparaison des coubes ROC?"
   ]
  },
  {
   "cell_type": "markdown",
   "metadata": {},
   "source": [
    "# <FONT COLOR=\"Red\">Épisode 4</font>"
   ]
  },
  {
   "cell_type": "markdown",
   "metadata": {
    "collapsed": true
   },
   "source": [
    "## [Séparateur à Vaste Marge (SVM)](http://wikistat.fr/pdf/st-m-app-svm.pdf)"
   ]
  },
  {
   "cell_type": "markdown",
   "metadata": {},
   "source": [
    "### Introduction"
   ]
  },
  {
   "cell_type": "markdown",
   "metadata": {
    "collapsed": true
   },
   "source": [
    "Malgré les assurances théoriques concernant ce type d'algorithme, les résultats dépendant fortement du choix des paramètres. Nous nous limiterons d'abord au noyau gaussien (choix par défaut) ; la fonction `tune.svm` permet de tester facilement plusieurs situations en estimant la qualité de prévision par validation croisée sur une grille. Le temps d'exécution en R est un peu long... \n",
    "\n",
    "**Q** Le temps d'exécution pour les SVM est-il plus sensible au nombre d'observations ou au nombre de varaibles ? Pourquoi ?"
   ]
  },
  {
   "cell_type": "markdown",
   "metadata": {
    "collapsed": true
   },
   "source": [
    "### Régression"
   ]
  },
  {
   "cell_type": "markdown",
   "metadata": {},
   "source": [
    "Bien qu'initialement développés dans le cas d'une variable binaire, les SVM ont été étendus aux problèmes de régression. L'estimation et l'optimisation du coefficient de pénalisation sont obtenues par les commandes suivantes.  \n"
   ]
  },
  {
   "cell_type": "code",
   "execution_count": null,
   "metadata": {
    "ExecuteTime": {
     "end_time": "2019-11-18T09:25:42.490229Z",
     "start_time": "2019-11-18T09:22:22.305Z"
    }
   },
   "outputs": [],
   "source": [
    "library(e1071)\n",
    "svm.reg0 = svm(O3obs ~ ., data = datappr)\n",
    "summary(svm.reg0)"
   ]
  },
  {
   "cell_type": "code",
   "execution_count": null,
   "metadata": {
    "ExecuteTime": {
     "end_time": "2019-11-18T09:25:42.490229Z",
     "start_time": "2019-11-18T09:22:22.305Z"
    }
   },
   "outputs": [],
   "source": [
    "#set.seed(2021)\n",
    "svm.reg.tune = tune.svm(O3obs ~ ., data = datappr, cost = c(1, 1.5, 2, 2.5, 3, 3.5), \n",
    "    gamma = seq(0.02, 0.1, by = 0.02))\n",
    "plot(svm.reg.tune)"
   ]
  },
  {
   "cell_type": "markdown",
   "metadata": {
    "collapsed": true
   },
   "source": [
    "Par défaut la pénalisation (cost) vaut 1. Noter la pénalisation optimale pour le noyau considéré (gaussien). Ré-estimer le modèle supposé optimal avant de tracer le graphe des résidus. Comme précédemment, observer que plusieurs exécutions conduisent à des résultats différents et donc que l'optimisaiton de ce paramètre est pour le moins délicate.\n",
    "\n",
    "**Q** Quels autres noyaux sont dispnibles dans cette implémentation des SVM?"
   ]
  },
  {
   "cell_type": "code",
   "execution_count": null,
   "metadata": {
    "ExecuteTime": {
     "end_time": "2019-11-18T09:25:42.711433Z",
     "start_time": "2019-11-18T09:22:22.518Z"
    }
   },
   "outputs": [],
   "source": [
    "svm.reg = svm(O3obs ~ ., data = datappr, cost = svm.reg.tune$best.parameters$cost, \n",
    "    gamma = svm.reg.tune$best.parameters$gamma)"
   ]
  },
  {
   "cell_type": "code",
   "execution_count": null,
   "metadata": {},
   "outputs": [],
   "source": [
    "summary(svm.reg)"
   ]
  },
  {
   "cell_type": "code",
   "execution_count": null,
   "metadata": {
    "ExecuteTime": {
     "end_time": "2019-11-18T09:25:42.711433Z",
     "start_time": "2019-11-18T09:22:22.518Z"
    }
   },
   "outputs": [],
   "source": [
    "# calcul et graphe des résidus\n",
    "fit.svmr=fit.svmr=svm.reg$fitted\n",
    "res.svmr=fit.svmr-datappr[,\"O3obs\"]\n",
    "plot.res(fit.svmr,res.svmr,titre=\"\")"
   ]
  },
  {
   "cell_type": "markdown",
   "metadata": {},
   "source": [
    "Observer l'effet ''couloir'' sur les résidus. "
   ]
  },
  {
   "cell_type": "markdown",
   "metadata": {},
   "source": [
    "**Q** Qu'est-ce qui cause le rapprochement des résidus dans un \"couloir\"? Qu'observez-vous lorsque vous faîtes varier les paramètres cost et epsilon?"
   ]
  },
  {
   "cell_type": "markdown",
   "metadata": {},
   "source": [
    "### Discrimination"
   ]
  },
  {
   "cell_type": "code",
   "execution_count": null,
   "metadata": {
    "ExecuteTime": {
     "end_time": "2019-11-18T09:25:44.944530Z",
     "start_time": "2019-11-18T09:22:22.941Z"
    }
   },
   "outputs": [],
   "source": [
    "# optimisation\n",
    "svm.dis.tune = tune.svm(DepSeuil ~ ., data = datappq, cost = c(1,1.25,1.5,1.75,2), \n",
    "    gamma = seq(0.02, 0.1, by = 0.02))\n",
    "plot(svm.dis.tune)"
   ]
  },
  {
   "cell_type": "code",
   "execution_count": null,
   "metadata": {
    "ExecuteTime": {
     "end_time": "2019-11-18T09:25:45.010857Z",
     "start_time": "2019-11-18T09:22:22.948Z"
    }
   },
   "outputs": [],
   "source": [
    "# apprentissage\n",
    "svm.dis.tune$best.parameters\n",
    "svm.dis=svm(DepSeuil~.,data=datappq,cost = svm.reg.tune$best.parameters$cost, \n",
    "    gamma = svm.reg.tune$best.parameters$gamma)"
   ]
  },
  {
   "cell_type": "markdown",
   "metadata": {},
   "source": [
    "### Prévision de l'échantillon test"
   ]
  },
  {
   "cell_type": "markdown",
   "metadata": {},
   "source": [
    "#### Erreur de régression"
   ]
  },
  {
   "cell_type": "code",
   "execution_count": null,
   "metadata": {
    "ExecuteTime": {
     "end_time": "2019-11-18T09:25:45.046687Z",
     "start_time": "2019-11-18T09:22:23.162Z"
    }
   },
   "outputs": [],
   "source": [
    "pred.svmr=predict(svm.reg,newdata=datestr)\n",
    "# Erreur quadratique moyenne de prévision\n",
    "sum((pred.svmr-datestr[,\"O3obs\"])^2)/nrow(datestr)"
   ]
  },
  {
   "cell_type": "markdown",
   "metadata": {},
   "source": [
    "#### Erreur de classification (matrices de confusion)"
   ]
  },
  {
   "cell_type": "code",
   "execution_count": null,
   "metadata": {
    "ExecuteTime": {
     "end_time": "2019-11-18T09:25:45.064806Z",
     "start_time": "2019-11-18T09:22:23.170Z"
    }
   },
   "outputs": [],
   "source": [
    "# Matrice de confusion pour la prévision du dépassement de seuil (régression)\n",
    "table(pred.svmr>150,datestr[,\"O3obs\"]>150)"
   ]
  },
  {
   "cell_type": "code",
   "execution_count": null,
   "metadata": {
    "ExecuteTime": {
     "end_time": "2019-11-18T09:25:45.084456Z",
     "start_time": "2019-11-18T09:22:23.176Z"
    }
   },
   "outputs": [],
   "source": [
    "# Même chose pour la discrimination\n",
    "pred.svmq=predict(svm.dis,newdata=datestq)\n",
    "table(pred.svmq,datestq[,\"DepSeuil\"])"
   ]
  },
  {
   "cell_type": "markdown",
   "metadata": {},
   "source": [
    "#### Courbes ROC"
   ]
  },
  {
   "cell_type": "code",
   "execution_count": null,
   "metadata": {
    "ExecuteTime": {
     "end_time": "2019-11-18T09:25:45.469186Z",
     "start_time": "2019-11-18T09:22:23.397Z"
    }
   },
   "outputs": [],
   "source": [
    "rocsvmr = pred.svmr/300\n",
    "predsvmr = prediction(rocsvmr, datestq$DepSeuil)\n",
    "perfsvmr = performance(predsvmr, \"tpr\", \"fpr\")\n",
    "# re-estimer le modèle pour obtenir des probabilités de classe plutôt que des\n",
    "# classes\n",
    "svm.dis = svm(DepSeuil ~ ., data = datappq, cost = 1.25, probability = TRUE)\n",
    "pred.svmq = predict(svm.dis, newdata = datestq, probability = TRUE)\n",
    "rocsvmq = attributes(pred.svmq)$probabilities[, 2]\n",
    "predsvmq = prediction(rocsvmq, datestq$DepSeuil)\n",
    "perfsvmq = performance(predsvmq, \"tpr\", \"fpr\")\n",
    "# tracer les courbes ROC en les superposant pour mieux comparer\n",
    "plot(perflogit, col = \"blue\")\n",
    "plot(perfsvmr, col = \"red\", lty = 2, add = TRUE)\n",
    "plot(perfsvmq, col = \"red\", add = TRUE)"
   ]
  },
  {
   "cell_type": "markdown",
   "metadata": {},
   "source": [
    "**Q** Les SVM apportent-ils une amélioration?"
   ]
  },
  {
   "cell_type": "markdown",
   "metadata": {},
   "source": [
    "## Industrialisation de l'apprentissage\n",
    "Un avantage de R est le nombre considérables d'utilisateurs qui participent au développement des librairies. cet avantage a un revers: le manque d'homogénéité de celles-ci. Pour y remédier dans les applications d'apprentissage machine, la (méta)librairie [`caret`](https://topepo.github.io/caret/) de [Max Kuhn (2008)](https://www.jstatsoft.org/article/view/v028i05) intègre dans un même usage, une même syntaxe, l'ensemble des fonctionnalités d'apprentissage et propose une approche unifiée des procédures d'optimisation des paramètres.\n",
    "\n",
    "Les instructions suivantes reprennent rapidement les étapes précédentes afin d'introduire l'usage de `caret`. Elles se limitent à l'objectif de prévision de dépassement du seuil (classification). Le code pour modéliser la concentration par régression s'en déduit facilement.\n",
    "\n",
    "### Calcul parallèle\n",
    "Par ailleurs, même sous windows, `caret` offre simplement des possibilités de parallèlisation en utilisant la package `doParallel`. Même si les algorithmes des différentes méthodes d'apprentissage ne sont pas parallélisés, les itérations des calculs de validations croiser pour l'optimisation des paramètres sont effectivement parallélisés avec un gain de temps très appréciable fonciton du nombre de processeurs. Ceci est obtenu en exécutant les commandes suivantes en supposant que 4 processeurs sont disponibles."
   ]
  },
  {
   "cell_type": "code",
   "execution_count": null,
   "metadata": {},
   "outputs": [],
   "source": [
    "install.packages('doParallel')"
   ]
  },
  {
   "cell_type": "code",
   "execution_count": null,
   "metadata": {
    "ExecuteTime": {
     "end_time": "2019-11-18T09:25:46.232486Z",
     "start_time": "2019-11-18T09:22:23.827Z"
    }
   },
   "outputs": [],
   "source": [
    "library(doParallel)\n",
    "cl <- makeCluster(4)\n",
    "registerDoParallel(cl) "
   ]
  },
  {
   "cell_type": "markdown",
   "metadata": {},
   "source": [
    "### Préparation des données\n",
    "Les données sont celles initiales et la stratégie adoptée pour optimiser les modèles est la validation croisée. D’autres choix sont possibles (bootstrap). La librairie `caret` intègre des fonctions d’échantillonnage et de normalisation des données."
   ]
  },
  {
   "cell_type": "code",
   "execution_count": null,
   "metadata": {
    "ExecuteTime": {
     "end_time": "2019-11-18T09:25:46.260767Z",
     "start_time": "2019-11-18T09:22:24.051Z"
    }
   },
   "outputs": [],
   "source": [
    "summary(ozone)"
   ]
  },
  {
   "cell_type": "code",
   "execution_count": null,
   "metadata": {},
   "outputs": [],
   "source": [
    "install.packages('caret')"
   ]
  },
  {
   "cell_type": "code",
   "execution_count": null,
   "metadata": {},
   "outputs": [],
   "source": []
  },
  {
   "cell_type": "code",
   "execution_count": null,
   "metadata": {
    "ExecuteTime": {
     "end_time": "2019-11-18T09:25:47.233193Z",
     "start_time": "2019-11-18T09:22:24.058Z"
    }
   },
   "outputs": [],
   "source": [
    "library(caret)\n",
    "# extraction des données\n",
    "# Variable cible\n",
    "Y=ozone[,\"DepSeuil\"]\n",
    "# Variables explicatives\n",
    "X=ozone[,-c(2,11)]\n",
    "# Transformation des facteurs en indicatrices pour utiliser certains algorithmes\n",
    "# notamment xgboost\n",
    "library(FactoMineR)\n",
    "X=data.frame(tab.disjonctif(X[,c(1,4)]),X[,-c(1,4)])\n",
    "summary(Y);summary(X)"
   ]
  },
  {
   "cell_type": "code",
   "execution_count": null,
   "metadata": {
    "ExecuteTime": {
     "end_time": "2019-11-18T09:25:47.393572Z",
     "start_time": "2019-11-18T09:22:24.065Z"
    }
   },
   "outputs": [],
   "source": [
    "# indices de l’échantillon d’apprentissage\n",
    "xx=11 # Changer cette valeur pour personnaliser l'échantillonnage\n",
    "set.seed(xx)\n",
    "inTrain = createDataPartition(X[,1],p = 0.8, list = FALSE)\n",
    "# Extraction des échantillons\n",
    "trainDescr=X[inTrain,]\n",
    "testDescr=X[-inTrain,]\n",
    "testY=Y[-inTrain]\n",
    "trainY=Y[inTrain]"
   ]
  },
  {
   "cell_type": "markdown",
   "metadata": {},
   "source": [
    "Certaines méthodes sont sensibles à des effets de variance ou d'unité des variables. Il est préférable d'introduire une normalisation."
   ]
  },
  {
   "cell_type": "code",
   "execution_count": null,
   "metadata": {
    "ExecuteTime": {
     "end_time": "2019-11-18T09:25:47.433813Z",
     "start_time": "2019-11-18T09:22:24.296Z"
    }
   },
   "outputs": [],
   "source": [
    "# Normalisation calculée sur les paramètres de l'échantillon d'apprentissage\n",
    "xTrans=preProcess(trainDescr)\n",
    "trainDescr=predict(xTrans,trainDescr)\n",
    "# Puis appliquée également à l'échantillon test\n",
    "testDescr=predict(xTrans,testDescr)\n",
    "# Choix de la validation croisée\n",
    "cvControl=trainControl(method=\"cv\",number=10)"
   ]
  },
  {
   "cell_type": "markdown",
   "metadata": {},
   "source": [
    "### Estimation des modèles\n",
    "La librairie intègre beaucoup de modèles ou méthodes (233!) et celles sélectionnées ci-dessous font partie des plus utilisées. Consulter   la   [liste   des   méthodes](http://topepo.github.io/caret/available-models.html)   disponibles   en option   de   la   fonction: `train`.  Le choix est en principe limité également aux méthodes acceptant des variables quantitatives et qualitatives mais, en transformant préalablement les variables qualitatives en paquets d'indicatrices (*dummies*) les autres méthodes sont accessibles. Exécuter chaque blocs de commandes pour tracer séparamment chacun des graphes afin de contrôler le bon comportement\n",
    "de l’optimisation du paramètre de complexité de chaque modèle.\n",
    "\n",
    "L'automatisation  de l'optimisation  de  certaines méthodes comme  la régression logistique est moins flexible qu’en utilisation  \"manuelle\"; en particulier pour le choix de l’algorithme de sélection de variables. Il faut se montrer (très) patient pour certaines optimisations alors que d'autres sont immédiates, voire inutiles. \n",
    "\n",
    "Le paramètre `tuneLength` caractérise  un \"effort\" d'optimisation, c'est en gros le nombre de valeurs de paramètres testées sur une grille fixée automatiquement. En prenant plus de soin et aussi plus de temps, il est possible de fixer précisément des grilles pour les valeurs du ou des paramètres optimisés pour chaque méthode. Néanmoins, comme expérimenté précédemment, il n'est pas toujours utile de passer beaucoup de temps à optimiser un paramètre. L'approche sommaire de `caret` s'avère souvent suffisante et l'optimisation d'un modèle, de sa complexité, peut être affinée après sélection de la méthode.\n",
    "\n",
    "**Q** Dans chaque cas, identifier la méthode, préciser les paramètres associés et noter celui ou ceux optimisés par défaut par `caret`."
   ]
  },
  {
   "cell_type": "code",
   "execution_count": null,
   "metadata": {
    "ExecuteTime": {
     "end_time": "2019-11-18T09:25:53.674471Z",
     "start_time": "2019-11-18T09:22:24.529Z"
    }
   },
   "outputs": [],
   "source": [
    "#1 Régression logistique\n",
    "# Attention, la régression logistique sans interaction (linéaire) est estimée ci-dessous\n",
    "set.seed(2)\n",
    "rlogFit = train(trainDescr, trainY,method = \"glmStepAIC\", tuneLength = 10,\n",
    "                trControl = cvControl, trace=FALSE)\n",
    "rlogFit"
   ]
  },
  {
   "cell_type": "code",
   "execution_count": null,
   "metadata": {
    "ExecuteTime": {
     "end_time": "2019-11-18T09:25:54.874252Z",
     "start_time": "2019-11-18T09:22:24.537Z"
    }
   },
   "outputs": [],
   "source": [
    "#2 Arbre de décision\n",
    "set.seed(2)\n",
    "rpartFit = train(trainDescr, trainY, method = \"rpart\", tuneLength = 10,\n",
    "    trControl = cvControl)\n",
    "rpartFit\n",
    "plot(rpartFit)"
   ]
  },
  {
   "cell_type": "code",
   "execution_count": null,
   "metadata": {
    "ExecuteTime": {
     "end_time": "2019-11-18T09:26:06.838240Z",
     "start_time": "2019-11-18T09:22:24.544Z"
    }
   },
   "outputs": [],
   "source": [
    "#3 Réseau de neurones\n",
    "set.seed(2)\n",
    "nnetFit = train(trainDescr, trainY, method = \"nnet\", tuneLength = 6,\n",
    "                trControl = cvControl, trace=FALSE)\n",
    "nnetFit\n",
    "plot(nnetFit)"
   ]
  },
  {
   "cell_type": "code",
   "execution_count": null,
   "metadata": {
    "ExecuteTime": {
     "end_time": "2019-11-18T09:26:19.223823Z",
     "start_time": "2019-11-18T09:22:24.551Z"
    }
   },
   "outputs": [],
   "source": [
    "#4 Random forest\n",
    "set.seed(2)\n",
    "rfFit = train(trainDescr, trainY,method = \"rf\", tuneLength = 8,\n",
    "              trControl = cvControl, trace=FALSE)\n",
    "rfFit\n",
    "plot(rfFit)"
   ]
  },
  {
   "cell_type": "code",
   "execution_count": null,
   "metadata": {
    "ExecuteTime": {
     "end_time": "2019-11-18T09:26:28.217758Z",
     "start_time": "2019-11-18T09:22:24.558Z"
    }
   },
   "outputs": [],
   "source": [
    "#5 Boosting \n",
    "set.seed(2)\n",
    "gbmFit = train(trainDescr, trainY,method = \"gbm\", tuneLength = 8,\n",
    "               trControl = cvControl)\n",
    "gbmFit\n",
    "plot(gbmFit)"
   ]
  },
  {
   "cell_type": "markdown",
   "metadata": {},
   "source": [
    "Comme l'algoritme *extreme gradient boosting* (approximation du gradient par décoposition de taylor et parallélisation des codes) est très présent dans les solutions des concours *Kaggle* celui-ci est testé. *Attention*, les bons résultats des concours sont obtenus au prix d'une lourde et complexe procédure d'optimisation des nombreux paramètres de cette approche; procédure rendue possible par la parallélisation avancée de la librairie [`xgboost`](https://xgboost.readthedocs.io/en/latest/) et l'utilisation de cartes graphiques (GPU). Si cet environnement n'est pas disponible l'optimisation est assez longue, même avec la parallélisation sur 4 processeurs..."
   ]
  },
  {
   "cell_type": "code",
   "execution_count": null,
   "metadata": {},
   "outputs": [],
   "source": [
    "install.packages('xgboost')"
   ]
  },
  {
   "cell_type": "code",
   "execution_count": null,
   "metadata": {
    "ExecuteTime": {
     "start_time": "2019-11-18T09:22:24.804Z"
    }
   },
   "outputs": [],
   "source": [
    "#6 Extrême boosting\n",
    "library(xgboost)\n",
    "set.seed(2)\n",
    "xgbFit = train(trainDescr, trainY,method = \"xgbTree\", tuneLength = 6,\n",
    "               trControl = cvControl, trace=FALSE)\n",
    "xgbFit\n",
    "plot(xgbFit)"
   ]
  },
  {
   "cell_type": "markdown",
   "metadata": {},
   "source": [
    "### Prévision et erreur de test\n",
    "Les méthodes sélectionnées et optimisées sont ensuite appliquées à la prévision de l’échantillon test. Estimation du taux de bien classés:"
   ]
  },
  {
   "cell_type": "code",
   "execution_count": null,
   "metadata": {
    "ExecuteTime": {
     "start_time": "2019-11-18T09:22:25.049Z"
    }
   },
   "outputs": [],
   "source": [
    "models=list(logit=rlogFit,cart=rpartFit,nnet=nnetFit,rf=rfFit,gbm=gbmFit,xgb=xgbFit)\n",
    "testPred=predict(models, newdata = testDescr)\n",
    "# taux de bien classés\n",
    "lapply(testPred,function(x)mean(x==testY))"
   ]
  },
  {
   "cell_type": "markdown",
   "metadata": {},
   "source": [
    "Tracer  les  courbes  ROC  pour  analyser  spécificité  et  sensibilité  des  différentes  méthodes.  "
   ]
  },
  {
   "cell_type": "code",
   "execution_count": null,
   "metadata": {
    "ExecuteTime": {
     "start_time": "2019-11-18T09:22:25.288Z"
    }
   },
   "outputs": [],
   "source": [
    "library(ROCR)\n",
    "models=list(logit=rlogFit,cart=rpartFit,nnet=nnetFit,rf=rfFit,gbm=gbmFit,xgb=xgbFit)\n",
    "testProb=predict(models, newdata = testDescr,type=\"prob\")\n",
    "predroc=lapply(testProb,function(x)prediction(x[,1],testY==FALSE))\n",
    "perfroc=lapply(predroc,\n",
    "function(x)performance(x, \"tpr\", \"fpr\"))\n",
    "plot(perfroc$logit,col=1)\n",
    "plot(perfroc$cart,col=2,add=TRUE)\n",
    "plot(perfroc$nnet,col=3,add=TRUE)\n",
    "plot(perfroc$rf,col=4,add=TRUE)\n",
    "plot(perfroc$gbm,col=5,add=TRUE)\n",
    "plot(perfroc$xgb,col=6,add=TRUE)\n",
    "legend(\"bottomright\",legend=c(\"logit\",\"CART\",\"nnet\",\"RF\",\"boost\",\"xgBoost\"),col=c(1:6),pch=\"_\")"
   ]
  },
  {
   "cell_type": "markdown",
   "metadata": {},
   "source": [
    "### [Validation croisée *Monte Carlo*](http://wikistat.fr/pdf/st-m-app-risque-estim.pdf)\n",
    "L'échantillon est de faible taille (#200), et les estimations des taux de bien classés comme le tracé des courbes ROC sont très dépendants de l’échantillon test; on peut s’interroger sur l’identité du modèle le plus performant ainsi que sur la significativité des différences observées entre les méthodes. Il est donc important d’itérer le processus (validation croisée *Monte Carlo*) sur plusieurs échantillons tests. Exécuter la fonction en annexe en choisissant les méthodes semblant les plus performantes. Attention au temps de calcul ! CART peut performant est supprimé."
   ]
  },
  {
   "cell_type": "code",
   "execution_count": null,
   "metadata": {
    "ExecuteTime": {
     "start_time": "2019-11-18T09:22:25.551Z"
    }
   },
   "outputs": [],
   "source": [
    "# Choisir la liste des méthodes et l’effort d’optimisation\n",
    "models=c(\"gbm\",\"rf\",\"nnet\",\"glmStepAIC\",\"xgbTree\")\n",
    "noptim=c(6,6,6,6,6)\n",
    "# Initialiser le générateur et fixer le nombre d’itérations\n",
    "# Changer ces valeurs. Attention au temps de calcul! Être patient!\n",
    "Niter=10 ; Init=11  \n",
    "# Appel de la fonction définie en annexe\n",
    "pred.ozone=pred.autom(X,Y,methodes=models,N=Niter,xinit=Init,size=noptim,type=\"prob\")"
   ]
  },
  {
   "cell_type": "markdown",
   "metadata": {},
   "source": [
    "Puis calculer et représenter les erreurs pour les méthodes considérées"
   ]
  },
  {
   "cell_type": "code",
   "execution_count": null,
   "metadata": {
    "ExecuteTime": {
     "start_time": "2019-11-18T09:22:25.800Z"
    }
   },
   "outputs": [],
   "source": [
    "# Calcul des taux de bien classés\n",
    "obs=pred.ozone$obs\n",
    "prev.ozone=pred.ozone$pred\n",
    "res.ozone=lapply(prev.ozone,function(x)apply((x>0.5)==(obs==1),2,mean))\n",
    "# Moyennes des taux de bien classés par méthode\n",
    "lapply(res.ozone,mean)\n",
    "# distributions des taux de bien classés\n",
    "boxplot(data.frame(res.ozone))"
   ]
  },
  {
   "cell_type": "markdown",
   "metadata": {},
   "source": [
    "Les commandes suivandes tracent les courbes ROC moyennes."
   ]
  },
  {
   "cell_type": "code",
   "execution_count": null,
   "metadata": {
    "ExecuteTime": {
     "start_time": "2019-11-18T09:22:26.055Z"
    }
   },
   "outputs": [],
   "source": [
    "## Comparaison des méthodes par le\n",
    "# tracer des courbes ROC moyennes\n",
    "# Problème pas identifié avec rlogit!\n",
    "predroc.ozone=lapply(prev.ozone,function(x)prediction(x,obs==1))\n",
    "perfroc.ozone=lapply(predroc.ozone,function(x)performance(x,\"tpr\",\"fpr\"))\n",
    "plot(perfroc.ozone$gbm,col=1,lwd=2,avg=\"vertical\")\n",
    "plot(perfroc.ozone$rf,col=2,add=TRUE,lwd=2,avg=\"vertical\")\n",
    "plot(perfroc.ozone$nnet,add=TRUE,col=3,lwd=1.5,avg=\"vertical\")\n",
    "plot(perfroc.ozone$xgbTree,add=TRUE,col=4,lwd=1.5,avg=\"vertical\")\n",
    "plot(perfroc.ozone$glmStepAIC,add=TRUE,col=5,lwd=1.5,avg=\"vertical\")\n",
    "legend(\"bottomright\",legend=c(\"boost\",\"RF\", \"nnet\",\"xgBoost\",\"logit\"),col=c(1:5),pch=\"_\")"
   ]
  },
  {
   "cell_type": "markdown",
   "metadata": {},
   "source": [
    "**Q** Quelle méthode retenir, en fonction du taux de faux positif acceptable, pour prévoir le dépassement du seuil? Et si le comanditaire veut une solution explicable?\n",
    "\n",
    "La même démarche réalisée sur la prévision de concentration avant de prédire le dépassement du seuil conduit à des résutlats similaire. \n",
    "\n",
    "*N.B.* \n",
    "* Ce n'est pas la régression logistique avec interactions (quadratique) qui a été testée dans cette dernière comparaison\n",
    "* L'algorithme xgboost nécessiterait des efforts plus important d'optimisation des paramètres mais le coût de calcul s'en ressent. A tester en Python avec un accès à une carte GPU."
   ]
  },
  {
   "cell_type": "markdown",
   "metadata": {},
   "source": [
    "# <FONT COLOR=\"Red\">Épisode 5</font>\n",
    "**Remarque** Il est possible d'exécuter directement l'*épisode 5* sans passer par toutes les étapes de classification supervisée. Il suffit d'exécuter les *sections 2 et 3* de l'*épisode 1*, phase exploratoire, afin de construire les données utilisées dans les sections 13 et 14 d'imputation des données manquantes et de détection d'atypiques."
   ]
  },
  {
   "cell_type": "markdown",
   "metadata": {},
   "source": [
    "## [Gestion des données manquantes](http://wikistat.fr/pdf/st-m-app-idm.pdf)\n",
    "Les vraies données sont le plus souvent mitées par l'absence de données, conséquences d'erreurs de saisie, de pannes de capteurs... Les librairies de R offrent de très nombreux choix pour faire des imputations de données manquantes quand celles-ci le sont de façon complètement aléatoire. Il n'est pas question de toutes les aborder sur ces données, ce serait particulièrement fastidieux. Seules deux stratégies sont exécutées et comparées après avoir généré aléatoirement un pourcentage de défaillances (trous) dans les valeurs des variables explicatives. \n",
    "\n",
    "La **première stratégie** commence par imputer les données manquantes en les prévoyant par toute une batterie de modèles. \n",
    "\n",
    "**Q** Pourquoi la structure de la base des variables explicatives incite à exécuter l'algorithme missForest de la librairie éponyme? \n",
    "\n",
    "Une fois les données manquantes imputées, différentes méthodes de prévision sont utilisables comme précédemment. Deux sont exécutées: forêts aléatoires et *extrem gradient boosting*.\n",
    "\n",
    "La **deuxième stratégie** évite l'étape d'imputation en exécutant directement un algorithme de prévision tolérant des données manquantes. Peu le fond, c'est le cas de `XGBoost`.\n",
    "\n",
    "Attention, les commandes ci-dessous font appel à de nombreux fichiers qu'il est facile de mélanger.\n",
    "- `X` données complètes initiales et `Xd` la version où les variables qualitatives sont remplacées par des indicatrices, \n",
    "- `Xna` les données avec des trous, `Xdna` la version avec indicatrices,\n",
    "- `XnaImp` les données avec imputations et `XdnaImp` la version avec indicatrices.\n",
    "\n",
    "Le remplacement des variables qualitatives par des variables indicatrices est imposé par l'utilisation de la librairie `XGBoost` et cela ne change en rien les résultats des forêts aléatoires.\n",
    "\n",
    "### Préparation des trous dans `ozone`\n",
    "Les données initiales de la base `ozone` sont reprises. Seule la variable à expliquer de dépassement de seuil est conservée. La librairie `missForest`propose une fonction pour générer un pourcentage fixé a priori de données manquantes dans une base."
   ]
  },
  {
   "cell_type": "code",
   "execution_count": null,
   "metadata": {
    "ExecuteTime": {
     "start_time": "2019-11-18T09:22:26.834Z"
    }
   },
   "outputs": [],
   "source": [
    "# Variable cible\n",
    "Y=ozone[,\"DepSeuil\"]\n",
    "# Variables explicatives\n",
    "X=ozone[,-c(2,11)]\n",
    "n=nrow(X); p=ncol(X)\n",
    "summary(Y); summary(X)"
   ]
  },
  {
   "cell_type": "code",
   "execution_count": null,
   "metadata": {},
   "outputs": [],
   "source": [
    "install.packages('missForest')"
   ]
  },
  {
   "cell_type": "code",
   "execution_count": null,
   "metadata": {
    "ExecuteTime": {
     "start_time": "2019-11-18T09:22:26.842Z"
    }
   },
   "outputs": [],
   "source": [
    "library(missForest)\n",
    "# faire une proportion tauxNA de trous aléatoires dans X\n",
    "# Données missing at random\n",
    "tauxNa=0.1\n",
    "set.seed(11)\n",
    "Xna=prodNA(X,tauxNa)\n",
    "summary(Xna)"
   ]
  },
  {
   "cell_type": "markdown",
   "metadata": {},
   "source": [
    "**Q** Quel est en moyenne le nombre de données manquantes par colonne?\n",
    "\n",
    "### Imputation\n",
    "Connaissant les \"vraies\" données initiales, il est possible, dans ce cas de calculer des erreurs d'imputation de `missForest`.\n",
    "\n",
    "**Q** Quelles sont elles? Quelles estimation de l'erreur est fournie quand les données manquantes le sont vraiment?"
   ]
  },
  {
   "cell_type": "code",
   "execution_count": null,
   "metadata": {
    "ExecuteTime": {
     "start_time": "2019-11-18T09:22:27.103Z"
    }
   },
   "outputs": [],
   "source": [
    "XnaImp=missForest(Xna,xtrue=X)"
   ]
  },
  {
   "cell_type": "code",
   "execution_count": null,
   "metadata": {
    "ExecuteTime": {
     "start_time": "2019-11-18T09:22:27.111Z"
    }
   },
   "outputs": [],
   "source": [
    "XnaImp$OOBerror;XnaImp$error"
   ]
  },
  {
   "cell_type": "markdown",
   "metadata": {},
   "source": [
    "Vérifier que les imputations sont réalisées."
   ]
  },
  {
   "cell_type": "code",
   "execution_count": null,
   "metadata": {
    "ExecuteTime": {
     "start_time": "2019-11-18T09:22:27.381Z"
    }
   },
   "outputs": [],
   "source": [
    "summary(XnaImp$ximp)"
   ]
  },
  {
   "cell_type": "markdown",
   "metadata": {},
   "source": [
    "Comme précédemment, l'utilisation de `XGBoost` impose de transformer les facteurs en indicatrices."
   ]
  },
  {
   "cell_type": "code",
   "execution_count": null,
   "metadata": {
    "ExecuteTime": {
     "start_time": "2019-11-18T09:22:27.648Z"
    }
   },
   "outputs": [],
   "source": [
    "library(FactoMineR)\n",
    "# données complètes\n",
    "Xd=data.frame(tab.disjonctif(X[,c(1,4)]),X[,-c(1,4)])\n",
    "# données avec trous\n",
    "Xdna=data.frame(tab.disjonctif(Xna[,c(1,4)]),Xna[,-c(1,4)]) \n",
    "# données avec imputations\n",
    "XdnaImp=data.frame(tab.disjonctif(XnaImp$ximp[,c(1,4)]),XnaImp$ximp[,-c(1,4)]) "
   ]
  },
  {
   "cell_type": "markdown",
   "metadata": {},
   "source": [
    "La librairie `caret` facilite beaucoup la syntaxe pour l'exécution de `xgboost`. elle est reprise. Il faudrait sinon transformer les données sous un autre format. C'est intégré par `caret`.\n",
    "\n",
    "Construction des mêmes échantillons d'apprentissage et de test dans les trois cas: données initiales, manquantes, imputées."
   ]
  },
  {
   "cell_type": "code",
   "execution_count": null,
   "metadata": {
    "ExecuteTime": {
     "start_time": "2019-11-18T09:22:27.913Z"
    }
   },
   "outputs": [],
   "source": [
    "library(caret)\n",
    "# parallélisation\n",
    "library(doParallel)\n",
    "cl <- makeCluster(4)\n",
    "registerDoParallel(cl) \n",
    "# indices de l’échantillon d’apprentissage\n",
    "xx=11 # Changer cette valeur pour personnaliser l'échantillonnage\n",
    "set.seed(xx)\n",
    "inTrain = createDataPartition(X[,1],p = 0.8, list = FALSE)\n",
    "# Extraction des échantillons\n",
    "trainDescr=Xd[inTrain,]\n",
    "testDescr=Xd[-inTrain,]\n",
    "# Les mêmes avec trous\n",
    "trainDescrNA=Xdna[inTrain,]\n",
    "testDescrNA=Xdna[-inTrain,]\n",
    "# Les mêmes avec données manquantes imputées\n",
    "trainDescrNAimp=XdnaImp[inTrain,]\n",
    "testDescrNAimp=XdnaImp[-inTrain,]\n",
    "testY=Y[-inTrain]\n",
    "trainY=Y[inTrain]\n",
    "cvControl=trainControl(method=\"cv\",number=10)"
   ]
  },
  {
   "cell_type": "code",
   "execution_count": null,
   "metadata": {
    "ExecuteTime": {
     "start_time": "2019-11-18T09:22:27.921Z"
    }
   },
   "outputs": [],
   "source": [
    "# prévision avec random forest sur données initiales\n",
    "set.seed(2)\n",
    "rfFit = train(trainDescr, trainY,method = \"rf\", tuneLength = 8,\n",
    "              trControl = cvControl, trace=FALSE)"
   ]
  },
  {
   "cell_type": "code",
   "execution_count": null,
   "metadata": {
    "ExecuteTime": {
     "start_time": "2019-11-18T09:22:27.928Z"
    }
   },
   "outputs": [],
   "source": [
    "# Prévision avec XGBoost sur données initiales\n",
    "set.seed(2)\n",
    "xgbFit = train(trainDescr, trainY,method = \"xgbTree\", tuneLength = 6,\n",
    "               trControl = cvControl, trace=FALSE)"
   ]
  },
  {
   "cell_type": "markdown",
   "metadata": {},
   "source": [
    "**Q** Pendant que `XGBoost` tourne, réviser les [principes de cet algorithme](http://wikistat.fr/pdf/st-m-app-agreg.pdf)."
   ]
  },
  {
   "cell_type": "code",
   "execution_count": null,
   "metadata": {
    "ExecuteTime": {
     "start_time": "2019-11-18T09:22:28.205Z"
    }
   },
   "outputs": [],
   "source": [
    "# erreur de prévision sur le test avec données initiales\n",
    "models=list(rf=rfFit,xgb=xgbFit)\n",
    "testPred=predict(models, newdata = testDescr)\n",
    "# taux de bien classés\n",
    "lapply(testPred,function(x)mean(x==testY))"
   ]
  },
  {
   "cell_type": "code",
   "execution_count": null,
   "metadata": {
    "ExecuteTime": {
     "start_time": "2019-11-18T09:22:28.212Z"
    }
   },
   "outputs": [],
   "source": [
    "# Prévision avec random forest sur données imputées\n",
    "set.seed(2)\n",
    "rfFitNAimp = train(trainDescrNAimp, trainY,method = \"rf\", tuneLength = 8,\n",
    "              trControl = cvControl, trace=FALSE)"
   ]
  },
  {
   "cell_type": "code",
   "execution_count": null,
   "metadata": {
    "ExecuteTime": {
     "start_time": "2019-11-18T09:22:28.220Z"
    }
   },
   "outputs": [],
   "source": [
    "# Prévision avec XGBoost sur données imputées\n",
    "xgbFitNAimp = train(trainDescrNAimp, trainY,method = \"xgbTree\", tuneLength = 6,\n",
    "               trControl = cvControl, trace=FALSE)"
   ]
  },
  {
   "cell_type": "markdown",
   "metadata": {},
   "source": [
    "**Q** Pendant que `XGBoost` tourne, réviser les [principes de missForest](http://wikistat.fr/pdf/st-m-app-idm.pdf)."
   ]
  },
  {
   "cell_type": "code",
   "execution_count": null,
   "metadata": {
    "ExecuteTime": {
     "start_time": "2019-11-18T09:22:28.506Z"
    }
   },
   "outputs": [],
   "source": [
    "# erreur de prévision sur le test avec données imputées\n",
    "models=list(rfNAimp=rfFitNAimp,xgbNAimp=xgbFitNAimp)\n",
    "testPred=predict(models, newdata = testDescrNAimp)\n",
    "# taux de bien classés\n",
    "lapply(testPred,function(x)mean(x==testY))"
   ]
  },
  {
   "cell_type": "markdown",
   "metadata": {},
   "source": [
    "### Prévision sans imputation \n",
    "\n",
    "La phase d'imputation est rendue obligatoire par l'usage de nombreuses méthodes qui n'acceptent pas les données manquantes. Il peut être intéressant de s'en passer car les informations reconstruites ne sont pas utilisables à d'autres fins; `XGBoost` offre cette oppotunité. Pendant qu'il tourne, [essayer de comprendre](https://arxiv.org/abs/1603.02754) les astuces mises en oeuvre pour tolérer des données manquanres."
   ]
  },
  {
   "cell_type": "code",
   "execution_count": null,
   "metadata": {
    "ExecuteTime": {
     "start_time": "2019-11-18T09:22:28.785Z"
    }
   },
   "outputs": [],
   "source": [
    "# Prévision avec XGBoost avec données manquantes\n",
    "xgbFitNA = train(trainDescrNA, trainY,method = \"xgbTree\", tuneLength = 6,\n",
    "               trControl = cvControl, trace=FALSE)"
   ]
  },
  {
   "cell_type": "code",
   "execution_count": null,
   "metadata": {
    "ExecuteTime": {
     "start_time": "2019-11-18T09:22:28.793Z"
    }
   },
   "outputs": [],
   "source": [
    "# Erreur de prévision avec XGBoot tolérant les données manquantes.\n",
    "testPred=predict(xgbFitNA, newdata = testDescrNA)\n",
    "mean(testPred==testY)"
   ]
  },
  {
   "cell_type": "markdown",
   "metadata": {},
   "source": [
    "**Q** Comparer les résultats obtenus par les différents stratégies. En tenant compte des temps de calcul, laquelle semble la plus efficace sur ces données. \n",
    "\n",
    "*NB* L'utilisation avancée de `XGBoost` nécessite plus de puissance de calcul afin d'affiner le réglage des nombreux paramètres.\n",
    "\n",
    "**Q** Qu'en serait-il en utlisant Python au lieu de R?"
   ]
  },
  {
   "cell_type": "markdown",
   "metadata": {},
   "source": [
    "## Détection d'observations atypiques ou anomalies\n",
    "La détection d'observations *atypiques*, *anomalies* ou *outliers* nommée également *OCC* (*One Class Classification*) ou *novelty detection* est source d'une très abondante bibliographie; voir par exemple [Aggarwal 2016](http://www.charuaggarwal.net/outlierbook.pdf). A ne pas confondre avec les modèles de *valeurs extrêmes*, les valeurs atypiques dans le cas unidimensionnel sont généralement traitées en référence à des modèles paramétriques: gaussien ou autre, qui caractérisent la \"normalité\". Systématiquement et également dans le cas multidimensionnelle, la notion d'anomalie est définie relativement à un modèle et sous le contrôle d'un paramètre à \"régler\". Le modèle est paramétrique ou non, local ou global. Par example dans le cas du modèle linéaire, la distance de Cook est un indicateur de points influents ou atypique par rapport au modèle.\n",
    "\n",
    "R propose quelques librairies et fonctions de détection d'atypiques. \n",
    "- [`outliers`](https://cran.r-project.org/web/packages/outliers/outliers.pdf) propose un ensemble de tests univariés.\n",
    "- [`Rlof`]() propose une version parallélisée du calcul du score LOF (*Local Factor Outlier*). Une estimation locale de la denisité en un point est comparée à celle de ses voisins. \n",
    "- [`dbscan`](https://cran.r-project.org/web/packages/dbscan/dbscan.pdf) propose en ples d'algorihtmes de classification non-superviée originaux, le calcul de `glosh` (*Global-Local Outlier Score from Hierarchies*).\n",
    "- [`kernlab`](http://ftp.auckland.ac.nz/software/CRAN/doc/vignettes/kernlab/kernlab.pdf) propose une option de *One Class Classification SVM* qui cherche à séparer l'origine de l'ensemble des points; `e1071`le propose aussi mais avec des problèmes d'exécution!\n",
    "- [`randomForest`](https://www.stat.berkeley.edu/~breiman/RandomForests/cc_home.htm#micro7) estime, dans le cas supervisé lorsque une variable explicative est connue, une notion de \"distance\" de chaque point avec ses voisins en considérant les co-appartenances des points aux mêmes feuilles des arbres. Dans le cas contraire, comme pour la situation d'OCC, une approche non supervisée consiste à générer tout un ensemble d' observations atypiques avant de construire un modèle prédisant pour chaque observation la variable échantillon initiale *vs.* atypique simulé. La notion précédente de \"distance\" est à nouveau utilisé comme score d'atypicité.\n",
    "\n",
    "Quelques cas sont considérés ici.\n",
    "\n",
    "Ce traitement intervient dans ce tutoriel avec une finalité essentiellement pédagogique. Il n'est pas indispensale sur ces données, relativement cohérentes alors que l'objectif poursuivit n'est pas la recherche d'une défaillance contrairement à une situation du domaine industriel: suivi de fabrication ou de fonctionnement. \n",
    "\n",
    "Néanmoins, sur tout jeu de données, l'étape préalable exploratoire peut inclure la recherche d'observations atypiques multidimensionnelles qui permettraient d'identifier des incohérences de mesure en complément des études unidimensionnelles de la première partie.\n",
    "\n",
    "Considérons quatre approches suivant des principes très différents parmi bien d'autres. Elles vont permettre d'identifier des observations atypiques avant de les représenter dans l'ACP.\n",
    "### *Local Outlier Factor*\n",
    "Les données sont restreintes aux seules variables quantitatives explicatives.\n",
    "\n",
    "**Q** Quel est le rôle du paramètre *k* ci-dessous?"
   ]
  },
  {
   "cell_type": "code",
   "execution_count": null,
   "metadata": {},
   "outputs": [],
   "source": [
    "install.packages('Rlof')"
   ]
  },
  {
   "cell_type": "code",
   "execution_count": null,
   "metadata": {
    "ExecuteTime": {
     "start_time": "2019-11-18T09:22:29.355Z"
    }
   },
   "outputs": [],
   "source": [
    "library(Rlof)\n",
    "ozoneR=ozone[,-c(1,2,5,11)]\n",
    "atypLof=lof(ozoneR,k=c(3:7),cores=3)\n",
    "options(repr.plot.width=8, repr.plot.height=6)\n",
    "boxplot(atypLof)"
   ]
  },
  {
   "cell_type": "code",
   "execution_count": null,
   "metadata": {
    "ExecuteTime": {
     "start_time": "2019-11-18T09:22:29.362Z"
    }
   },
   "outputs": [],
   "source": [
    "table(atypLof[,1]>1.5,Y)"
   ]
  },
  {
   "cell_type": "markdown",
   "metadata": {},
   "source": [
    "**Q** Comment intervient la borne 1.5? A quelles classe appartiennent majoritairement les observations jugées atypiques."
   ]
  },
  {
   "cell_type": "code",
   "execution_count": null,
   "metadata": {
    "ExecuteTime": {
     "start_time": "2019-11-18T09:22:29.650Z"
    }
   },
   "outputs": [],
   "source": [
    "atypLofInd=which(atypLof[,1]>1.5)\n",
    "coul=as.integer(ozone[,\"DepSeuil\"])+2\n",
    "taille=rep(0.5,length(coul))\n",
    "acp=princomp(ozoneR,cor=TRUE)\n",
    "options(repr.plot.width=6, repr.plot.height=6)\n",
    "coul[atypLofInd]=2\n",
    "taille[atypLofInd]=.8\n",
    "plot(acp$scores,col=coul, pch=17+coul-2,cex=taille)"
   ]
  },
  {
   "cell_type": "markdown",
   "metadata": {},
   "source": [
    "**Q** Que dire de la localisation des observations atypiques dans le plan de l'acp?"
   ]
  },
  {
   "cell_type": "markdown",
   "metadata": {},
   "source": [
    "### *Global-Local Outlier Score from Hierarchies* \n",
    "Les scores proches de 1 signalent des atypiques."
   ]
  },
  {
   "cell_type": "code",
   "execution_count": null,
   "metadata": {},
   "outputs": [],
   "source": [
    "install.packages('dbscan')"
   ]
  },
  {
   "cell_type": "code",
   "execution_count": null,
   "metadata": {
    "ExecuteTime": {
     "start_time": "2019-11-18T09:22:30.220Z"
    }
   },
   "outputs": [],
   "source": [
    "library(dbscan)\n",
    "atypGlosh=glosh(as.matrix(ozoneR),k=3)\n",
    "options(repr.plot.width=4, repr.plot.height=6)\n",
    "boxplot(atypGlosh)"
   ]
  },
  {
   "cell_type": "code",
   "execution_count": null,
   "metadata": {
    "ExecuteTime": {
     "start_time": "2019-11-18T09:22:30.226Z"
    }
   },
   "outputs": [],
   "source": [
    "table(atypLof[,1]>1.5,atypGlosh>0.82)"
   ]
  },
  {
   "cell_type": "markdown",
   "metadata": {},
   "source": [
    "**Q** Que dire de ces deux critères?"
   ]
  },
  {
   "cell_type": "code",
   "execution_count": null,
   "metadata": {
    "ExecuteTime": {
     "start_time": "2019-11-18T09:22:30.528Z"
    }
   },
   "outputs": [],
   "source": [
    "atypGloshInd=which(atypGlosh>0.82)\n",
    "coul=as.integer(ozone[,\"DepSeuil\"])+2\n",
    "taille=rep(0.5,length(coul))\n",
    "coul[atypGloshInd]=2; taille[atypGloshInd]=.8\n",
    "options(repr.plot.width=6, repr.plot.height=6)\n",
    "plot(acp$scores,col=coul, pch=17+coul-2,cex=taille)"
   ]
  },
  {
   "cell_type": "markdown",
   "metadata": {},
   "source": [
    "### *One Class Classification SVM*\n",
    "**Q** Quel est le rôle du paramètre `nu`?"
   ]
  },
  {
   "cell_type": "code",
   "execution_count": null,
   "metadata": {},
   "outputs": [],
   "source": [
    "install.packages('kernlab')"
   ]
  },
  {
   "cell_type": "code",
   "execution_count": null,
   "metadata": {
    "ExecuteTime": {
     "start_time": "2019-11-18T09:22:30.828Z"
    }
   },
   "outputs": [],
   "source": [
    "library(kernlab)\n",
    "ozoneOcc=ksvm(x=as.matrix(ozoneR),y=NULL,type=\"one-svc\",\n",
    "              kernel=\"rbfdot\",nu = 0.005)\n",
    "atypOcc=!fitted(ozoneOcc)\n",
    "ozoneOcc"
   ]
  },
  {
   "cell_type": "code",
   "execution_count": null,
   "metadata": {
    "ExecuteTime": {
     "start_time": "2019-11-18T09:22:30.835Z"
    }
   },
   "outputs": [],
   "source": [
    "coul=as.integer(ozone[,\"DepSeuil\"])+2\n",
    "taille=rep(.5,length(coul))\n",
    "options(repr.plot.width=6, repr.plot.height=6)\n",
    "coul[atypOcc]=2\n",
    "taille[atypOcc]=0.8\n",
    "plot(acp$scores,col=coul, pch=17+coul-2,cex=taille)"
   ]
  },
  {
   "cell_type": "markdown",
   "metadata": {},
   "source": [
    "**Q** Même question sir la répartition des observations atypiques."
   ]
  },
  {
   "cell_type": "code",
   "execution_count": null,
   "metadata": {
    "ExecuteTime": {
     "start_time": "2019-11-18T09:22:31.130Z"
    }
   },
   "outputs": [],
   "source": [
    "table(atypLof[,1]>1.5,atypOcc)"
   ]
  },
  {
   "cell_type": "markdown",
   "metadata": {},
   "source": [
    "**Q** Comment interpréter la table ci-dessus?"
   ]
  },
  {
   "cell_type": "markdown",
   "metadata": {},
   "source": [
    "### Anomalies au sens de *random forest*\n",
    "#### Cas supervisé\n",
    "La première approche prend en compte la variable explicative et considère donc les observations les plu sen en marge du modèle."
   ]
  },
  {
   "cell_type": "code",
   "execution_count": null,
   "metadata": {},
   "outputs": [],
   "source": [
    "install.packages('randomForest')"
   ]
  },
  {
   "cell_type": "code",
   "execution_count": null,
   "metadata": {
    "ExecuteTime": {
     "start_time": "2019-11-18T09:22:31.742Z"
    }
   },
   "outputs": [],
   "source": [
    "library(randomForest)\n",
    "Y=ozone[,11]\n",
    "X=ozone[,-c(2,11)]\n",
    "ozoneRF=randomForest(X,Y,proximity=TRUE)\n",
    "atypRF=outlier(ozoneRF)\n",
    "options(repr.plot.width=4, repr.plot.height=6)\n",
    "boxplot(atypRF)"
   ]
  },
  {
   "cell_type": "code",
   "execution_count": null,
   "metadata": {},
   "outputs": [],
   "source": [
    "atypRFInd=which(atypRF>20)\n",
    "coul=as.numeric(Y)+2\n",
    "options(repr.plot.width=8, repr.plot.height=6)\n",
    "plot(atypRF,type=\"h\",col=coul)\n",
    "legend(\"topright\",legend=levels(Y),text.col=c(3:4))"
   ]
  },
  {
   "cell_type": "code",
   "execution_count": null,
   "metadata": {},
   "outputs": [],
   "source": [
    "table(atypRF>20,Y)"
   ]
  },
  {
   "cell_type": "markdown",
   "metadata": {},
   "source": [
    "**Q** Que dire de la répartition des atypiques par rapport à la variable de dépassement de seuil."
   ]
  },
  {
   "cell_type": "code",
   "execution_count": null,
   "metadata": {},
   "outputs": [],
   "source": [
    "coul=as.integer(ozone[,\"DepSeuil\"])+2\n",
    "taille=rep(.5,length(coul))\n",
    "acp=princomp(ozoneR,cor=TRUE)\n",
    "options(repr.plot.width=6, repr.plot.height=6)\n",
    "coul[atypRFInd]=2\n",
    "taille[atypRFInd]=.8\n",
    "plot(acp$scores,col=coul, pch=17+coul-2,cex=taille)"
   ]
  },
  {
   "cell_type": "markdown",
   "metadata": {},
   "source": [
    "**Q** Commenter la répartition des atypiques au sens de **Random Forest** supervisée. Serait-il raisonnable de supprimer ces observations ?\n",
    "\n",
    "**Remarque** Si la variable à expliquer *Y* est telle que l'on soupçonne des possibles erreur de label, ce peut être une façon de les détecter."
   ]
  },
  {
   "cell_type": "markdown",
   "metadata": {},
   "source": [
    "#### Cas non-supervisé\n",
    "Moins connue, Breiman à proposé une version [non-supervisée](https://www.stat.berkeley.edu/~breiman/RandomForests/cc_home.htm#unsup) de randomForest. Elle fournit *in fine* le même type de critère mais sans faire intervenir *Y*."
   ]
  },
  {
   "cell_type": "code",
   "execution_count": null,
   "metadata": {},
   "outputs": [],
   "source": [
    "set.seed(11)\n",
    "ozoneURF <- randomForest(x=ozoneR,y=NULL,proximity=TRUE)\n",
    "atypURF=outlier(ozoneURF)\n",
    "options(repr.plot.width=4, repr.plot.height=6)\n",
    "boxplot(atypURF)\n",
    "#MDSplot(ozoneURF, ozone$Depseuil)"
   ]
  },
  {
   "cell_type": "code",
   "execution_count": null,
   "metadata": {},
   "outputs": [],
   "source": [
    "atypURFInd=which(atypURF>2.5)\n",
    "coul=as.numeric(Y)+2\n",
    "options(repr.plot.width=8, repr.plot.height=6)\n",
    "plot(atypURF,type=\"h\",col=coul)\n",
    "legend(\"topright\",legend=levels(Y),text.col=c(3:4))"
   ]
  },
  {
   "cell_type": "code",
   "execution_count": null,
   "metadata": {
    "scrolled": true
   },
   "outputs": [],
   "source": [
    "coul=as.integer(ozone[,\"DepSeuil\"])+2\n",
    "taille=rep(.5,length(coul))\n",
    "options(repr.plot.width=6, repr.plot.height=6)\n",
    "coul[atypURFInd]=2\n",
    "taille[atypURFInd]=.8\n",
    "plot(acp$scores,col=coul, pch=17+coul-2,cex=taille)"
   ]
  },
  {
   "cell_type": "code",
   "execution_count": null,
   "metadata": {},
   "outputs": [],
   "source": [
    "table(atypURF>2.5,atypLof[,1]>1.5)\n",
    "table(atypURF>2.5,atypOcc)\n",
    "table(atypLof[,1]>1.5,atypURF>2.5)"
   ]
  },
  {
   "cell_type": "markdown",
   "metadata": {},
   "source": [
    "**Q** Que dire sur la correspondance entre les trois stratégies de détection d'observations atypiques?\n",
    "\n",
    "**Q** Qu'est-ce qui psermettrait d'en choisir une parmi les trois ou parmi les très nombreuses autres disponibles dans la littérature?"
   ]
  },
  {
   "cell_type": "markdown",
   "metadata": {
    "collapsed": true
   },
   "source": [
    "## Annexe: Fonction de validation croisée *Monte Carlo*\n",
    "*N* réplications des estimations / prévisions"
   ]
  },
  {
   "cell_type": "code",
   "execution_count": null,
   "metadata": {},
   "outputs": [],
   "source": [
    "pred.autom=function(X,Y,p=1/2,methodes=c(\"knn\",\n",
    "\"rf\"),size=c(10,2),xinit=11,N=10,typerr=\"cv\",\n",
    "number=4,type=\"raw\") {\n",
    "# Fonction de prévision de N échantillons tests\n",
    "# par une liste de méthodes de régression\n",
    "# ou classification (uniquement 2 classes)\n",
    "# Optimisation des paramètres par validation\n",
    "# croisée (défaut) ou bootstrap ou... (cf. caret)\n",
    "# X : matrice ou frame des variables explicatives\n",
    "# Y : variable cible quantitative ou qualitative\n",
    "# p : proportion entre apprentissage et test\n",
    "# methodes : liste des méthodes de rdiscrimination\n",
    "# size : e grille des paramètres à optimiser\n",
    "# xinit : générateur de nombres aléatoires\n",
    "# N : nombre de réplications apprentissage/test\n",
    "# typerr : \"cv\" ou \"boo\" ou \"oob\"\n",
    "# number : nombre de répétitions CV ou bootstrap\n",
    "# pred : liste des matrices de prévision\n",
    "# type d’erreur\n",
    "Control=trainControl(method=typerr,number=number)\n",
    "# initialisation du générateur\n",
    "set.seed(xinit)\n",
    "# liste de matrices stockant les prévisions\n",
    "# une par méthode\n",
    "inTrain=createDataPartition(Y,p=p,list=FALSE)\n",
    "ntest=length(Y[-inTrain])\n",
    "pred=vector(\"list\",length(methodes))\n",
    "names(pred)=methodes\n",
    "pred=lapply(pred,function(x)x=matrix(0,\n",
    "nrow=ntest,ncol=N))\n",
    "obs=matrix(0,ntest,N)\n",
    "set.seed(xinit)\n",
    "for(i in 1:N) {\n",
    "# N itérations\n",
    "# indices de l’échantillon d’apprentissage\n",
    "inTrain=createDataPartition(Y,p=p,list=FALSE)\n",
    "# Extraction des échantillons\n",
    "trainDescr=X[inTrain,]\n",
    "testDescr=X[-inTrain,]\n",
    "trainY=Y[inTrain]\n",
    "testY=Y[-inTrain]\n",
    "# stockage des observés de testY\n",
    "obs[,i]=testY\n",
    "# centrage et réduction des variables\n",
    "xTrans=preProcess(trainDescr)\n",
    "trainDescr=predict(xTrans,trainDescr)\n",
    "testDescr=predict(xTrans,testDescr)\n",
    "# estimation et optimisation des modèles\n",
    "# pour chaque méthode de la liste\n",
    "for(j in 1:length(methodes)) {\n",
    "# modélisation\n",
    "modFit = train(trainDescr, trainY,method = methodes[j], tuneLength = size[j],\n",
    "               trControl = Control)\n",
    "# prévisions\n",
    "if (type==\"prob\")  pred[[j]][,i]=predict(modFit,\n",
    "newdata = testDescr,type=type)[,1]\n",
    "else pred[[j]][,i]=predict(modFit,\n",
    "newdata = testDescr)\n",
    "}}\n",
    "list(pred=pred,obs=obs)\n",
    "# résultats\n",
    "}"
   ]
  },
  {
   "cell_type": "code",
   "execution_count": null,
   "metadata": {},
   "outputs": [],
   "source": []
  }
 ],
 "metadata": {
  "kernelspec": {
   "display_name": "R",
   "language": "R",
   "name": "ir"
  },
  "language_info": {
   "codemirror_mode": "r",
   "file_extension": ".r",
   "mimetype": "text/x-r-source",
   "name": "R",
   "pygments_lexer": "r",
   "version": "4.0.3"
  },
  "latex_envs": {
   "LaTeX_envs_menu_present": true,
   "autoclose": false,
   "autocomplete": true,
   "bibliofile": "biblio.bib",
   "cite_by": "apalike",
   "current_citInitial": 1,
   "eqLabelWithNumbers": true,
   "eqNumInitial": 1,
   "hotkeys": {
    "equation": "Ctrl-E",
    "itemize": "Ctrl-I"
   },
   "labels_anchors": false,
   "latex_user_defs": false,
   "report_style_numbering": false,
   "user_envs_cfg": false
  },
  "toc": {
   "nav_menu": {},
   "number_sections": true,
   "sideBar": true,
   "skip_h1_title": true,
   "toc_cell": false,
   "toc_position": {
    "height": "calc(100% - 180px)",
    "left": "10px",
    "top": "150px",
    "width": "512px"
   },
   "toc_section_display": true,
   "toc_window_display": true
  }
 },
 "nbformat": 4,
 "nbformat_minor": 1
}
